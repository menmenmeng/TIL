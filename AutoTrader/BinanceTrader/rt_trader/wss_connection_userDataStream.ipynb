{
 "cells": [
  {
   "cell_type": "code",
   "execution_count": 1,
   "metadata": {},
   "outputs": [],
   "source": [
    "import requests\n",
    "import asyncio\n",
    "import websockets\n",
    "from cert import binanceKey\n",
    "from cert import myvars"
   ]
  },
  {
   "cell_type": "code",
   "execution_count": 12,
   "metadata": {},
   "outputs": [
    {
     "name": "stdout",
     "output_type": "stream",
     "text": [
      "{\"listenKey\":\"U1X7RyojYEZuggTHdsYIVHCQj7qyXI40flKBEpMSB1fwfSOBUvywnlpD1veyxIZS\"}\n",
      "200\n"
     ]
    }
   ],
   "source": [
    "baseUrl = myvars.rest_base\n",
    "KEY = binanceKey.API_KEY\n",
    "url = baseUrl + \"/fapi/v1/listenKey\"\n",
    "\n",
    "req = requests.post(url, headers={\"X-MBX-APIKEY\":KEY})\n",
    "print(req.text)\n",
    "print(req.status_code)"
   ]
  },
  {
   "cell_type": "code",
   "execution_count": 13,
   "metadata": {},
   "outputs": [],
   "source": [
    "listenKey = req.json()['listenKey']"
   ]
  },
  {
   "cell_type": "code",
   "execution_count": 16,
   "metadata": {},
   "outputs": [],
   "source": [
    "baseUrl2 = myvars.webs_test\n",
    "url = baseUrl2 + '/ws/' + listenKey"
   ]
  },
  {
   "cell_type": "code",
   "execution_count": null,
   "metadata": {},
   "outputs": [],
   "source": [
    "# 이건 완성된 거 아님, 그냥 만들었던 코드 복붙한 것.\n",
    "# 이걸 이제 listenKey를 활용해서 order하는 함수로 수정해야 함.\n",
    "# 근데 websocket을 이용해서 order를 하나 보통...? 이런 식으로 order placing하는 경우가 있는 건가. order는 그냥 REST API 사용해야 하는 건가?\n",
    "\n",
    "async def connect_userDataStream(url, param):\n",
    "    async with websockets.connect(url) as websocket:\n",
    "\n",
    "        senddata = {\"method\":\"SUBSCRIBE\",\"params\":param,\"id\":1}\n",
    "        senddata = str(senddata)\n",
    "\n",
    "        await websocket.send(senddata)\n",
    "\n",
    "        while True:\n",
    "            result = await websocket.recv()\n",
    "            print(result)"
   ]
  }
 ],
 "metadata": {
  "kernelspec": {
   "display_name": "Python 3.10.7 ('venv_trading': venv)",
   "language": "python",
   "name": "python3"
  },
  "language_info": {
   "codemirror_mode": {
    "name": "ipython",
    "version": 3
   },
   "file_extension": ".py",
   "mimetype": "text/x-python",
   "name": "python",
   "nbconvert_exporter": "python",
   "pygments_lexer": "ipython3",
   "version": "3.10.7"
  },
  "orig_nbformat": 4,
  "vscode": {
   "interpreter": {
    "hash": "d8f141eb8da52afde71440ff339b42d23bca3afcdb804d0ace6ce1888eac2c59"
   }
  }
 },
 "nbformat": 4,
 "nbformat_minor": 2
}
