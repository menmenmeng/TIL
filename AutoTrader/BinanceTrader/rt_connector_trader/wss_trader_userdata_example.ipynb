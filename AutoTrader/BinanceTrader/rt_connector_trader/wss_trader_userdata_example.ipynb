{
 "cells": [
  {
   "cell_type": "code",
   "execution_count": 1,
   "metadata": {},
   "outputs": [],
   "source": [
    "import time\n",
    "import logging\n",
    "from binance.lib.utils import config_logging\n",
    "from binance.websocket.um_futures.websocket_client import UMFuturesWebsocketClient\n",
    "from binance.um_futures import UMFutures\n",
    "from binance.error import ClientError\n",
    "\n",
    "import matplotlib.pyplot as plt\n",
    "import seaborn as sns\n",
    "\n",
    "from cert import binanceKey\n",
    "from cert import test_binanceKey\n",
    "from cert.myfuncs import *\n",
    "\n",
    "\n",
    "# import API KEY and SECRET KEY\n",
    "## realnet (base_url is realnet default)\n",
    "API_KEY = binanceKey.API_KEY\n",
    "SECRET_KEY = binanceKey.SECRET_KEY\n",
    "## testnet\n",
    "key = test_binanceKey.API_KEY\n",
    "secret = test_binanceKey.SECRET_KEY\n",
    "## testnet base_urls (for test trading, stream_url = futures_websocket_testnet and base_url = futures_testnet)\n",
    "futures_testnet = test_binanceKey.futures_testnet\n",
    "futures_websocket_testnet = test_binanceKey.futures_websocket_testnet\n",
    "# END\n",
    "\n",
    "\n",
    "# defining futures client\n",
    "um_futures_client = UMFutures(key=key, secret=secret, base_url=futures_testnet) # testnet\n",
    "my_client = UMFuturesWebsocketClient(stream_url=futures_websocket_testnet) # testnet\n",
    "# END"
   ]
  },
  {
   "cell_type": "code",
   "execution_count": 2,
   "metadata": {},
   "outputs": [
    {
     "name": "stderr",
     "output_type": "stream",
     "text": [
      "DEBUG:root:url: https://testnet.binancefuture.com/fapi/v1/listenKey\n",
      "DEBUG:urllib3.connectionpool:Starting new HTTPS connection (1): testnet.binancefuture.com:443\n",
      "DEBUG:urllib3.connectionpool:https://testnet.binancefuture.com:443 \"POST /fapi/v1/listenKey HTTP/1.1\" 200 None\n",
      "DEBUG:root:raw response from server:{\"listenKey\":\"wWvhP87Q6zz1vB0Vwz0oEtRuwVZMkr7ft8cX9fHrwTSciDUMEnictwXycADnlhGu\"}\n",
      "INFO:root:Listen key : wWvhP87Q6zz1vB0Vwz0oEtRuwVZMkr7ft8cX9fHrwTSciDUMEnictwXycADnlhGu\n",
      "INFO:root:Connection with URL: wss://stream.binancefuture.com/ws\n",
      "INFO:root:Start to connect....\n",
      "INFO:root:Server connected\n",
      "INFO:root:Sending message to Server: b'{\"method\": \"SUBSCRIBE\", \"params\": [\"wWvhP87Q6zz1vB0Vwz0oEtRuwVZMkr7ft8cX9fHrwTSciDUMEnictwXycADnlhGu\"], \"id\": 1}'\n"
     ]
    },
    {
     "name": "stdout",
     "output_type": "stream",
     "text": [
      "{'id': 1, 'result': None}\n",
      "{'e': 'ORDER_TRADE_UPDATE', 'T': 1674987989188, 'E': 1674987989189, 'o': {'s': 'BTCUSDT', 'c': 'web_dSLW2aRpNd7Yp9LjaM1j', 'S': 'SELL', 'o': 'MARKET', 'f': 'GTC', 'q': '0.100', 'p': '0', 'ap': '0', 'sp': '0', 'x': 'NEW', 'X': 'NEW', 'i': 3279093726, 'l': '0', 'z': '0', 'L': '0', 'n': '0', 'N': 'USDT', 'T': 1674987989188, 't': 0, 'b': '0', 'a': '0', 'm': False, 'R': False, 'wt': 'CONTRACT_PRICE', 'ot': 'MARKET', 'ps': 'BOTH', 'cp': False, 'rp': '0', 'pP': False, 'si': 0, 'ss': 0}}\n",
      "{'e': 'ACCOUNT_UPDATE', 'T': 1674987989188, 'E': 1674987989190, 'a': {'B': [{'a': 'USDT', 'wb': '14920.15043110', 'cw': '14920.15043110', 'bc': '0'}], 'P': [{'s': 'BTCUSDT', 'pa': '-0.100', 'ep': '23416.90000', 'cr': '-9.80399997', 'up': '-2342.36768013', 'mt': 'cross', 'iw': '0', 'ps': 'BOTH', 'ma': 'USDT'}], 'm': 'ORDER'}}\n",
      "{'e': 'ORDER_TRADE_UPDATE', 'T': 1674987989188, 'E': 1674987989190, 'o': {'s': 'BTCUSDT', 'c': 'web_dSLW2aRpNd7Yp9LjaM1j', 'S': 'SELL', 'o': 'MARKET', 'f': 'GTC', 'q': '0.100', 'p': '0', 'ap': '23416.90000', 'sp': '0', 'x': 'TRADE', 'X': 'FILLED', 'i': 3279093726, 'l': '0.100', 'z': '0.100', 'L': '23416.90', 'n': '0.93667600', 'N': 'USDT', 'T': 1674987989188, 't': 249011861, 'b': '0', 'a': '0', 'm': False, 'R': False, 'wt': 'CONTRACT_PRICE', 'ot': 'MARKET', 'ps': 'BOTH', 'cp': False, 'rp': '0', 'pP': False, 'si': 0, 'ss': 0}}\n",
      "{'e': 'ORDER_TRADE_UPDATE', 'T': 1674988004003, 'E': 1674988004004, 'o': {'s': 'BTCUSDT', 'c': 'web_YIL5xKteKetUGT6LKHG2', 'S': 'BUY', 'o': 'MARKET', 'f': 'GTC', 'q': '0.100', 'p': '0', 'ap': '0', 'sp': '0', 'x': 'NEW', 'X': 'NEW', 'i': 3279093772, 'l': '0', 'z': '0', 'L': '0', 'n': '0', 'N': 'USDT', 'T': 1674988004003, 't': 0, 'b': '0', 'a': '0', 'm': False, 'R': False, 'wt': 'CONTRACT_PRICE', 'ot': 'MARKET', 'ps': 'BOTH', 'cp': False, 'rp': '0', 'pP': False, 'si': 0, 'ss': 0}}\n",
      "{'e': 'ACCOUNT_UPDATE', 'T': 1674988004003, 'E': 1674988004005, 'a': {'B': [{'a': 'USDT', 'wb': '14918.11331510', 'cw': '14918.11331510', 'bc': '0'}], 'P': [{'s': 'BTCUSDT', 'pa': '0', 'ep': '0.00000', 'cr': '-10.90399997', 'up': '0', 'mt': 'cross', 'iw': '0', 'ps': 'BOTH', 'ma': 'USDT'}], 'm': 'ORDER'}}\n",
      "{'e': 'ORDER_TRADE_UPDATE', 'T': 1674988004003, 'E': 1674988004006, 'o': {'s': 'BTCUSDT', 'c': 'web_YIL5xKteKetUGT6LKHG2', 'S': 'BUY', 'o': 'MARKET', 'f': 'GTC', 'q': '0.100', 'p': '0', 'ap': '23427.90000', 'sp': '0', 'x': 'TRADE', 'X': 'FILLED', 'i': 3279093772, 'l': '0.100', 'z': '0.100', 'L': '23427.90', 'n': '0.93711600', 'N': 'USDT', 'T': 1674988004003, 't': 249011866, 'b': '0', 'a': '0', 'm': False, 'R': False, 'wt': 'CONTRACT_PRICE', 'ot': 'MARKET', 'ps': 'BOTH', 'cp': False, 'rp': '-1.10000000', 'pP': False, 'si': 0, 'ss': 0}}\n"
     ]
    },
    {
     "name": "stderr",
     "output_type": "stream",
     "text": [
      "DEBUG:root:closing ws connection\n"
     ]
    },
    {
     "name": "stderr",
     "output_type": "stream",
     "text": [
      "WARNING:root:WebSocket connection closed: connection was closed uncleanly (\"peer dropped the TCP connection without previous WebSocket closing handshake\"), code: 1006, clean: False, reason: connection was closed uncleanly (\"peer dropped the TCP connection without previous WebSocket closing handshake\")\n"
     ]
    }
   ],
   "source": [
    "config_logging(logging, logging.DEBUG)\n",
    "\n",
    "\n",
    "def message_handler(message):\n",
    "    print(message)\n",
    "\n",
    "response = um_futures_client.new_listen_key()\n",
    "\n",
    "logging.info(\"Listen key : {}\".format(response[\"listenKey\"]))\n",
    "\n",
    "my_client.start()\n",
    "\n",
    "my_client.user_data(\n",
    "    listen_key=response[\"listenKey\"],\n",
    "    id=1,\n",
    "    callback=message_handler,\n",
    ")\n",
    "\n",
    "time.sleep(30)\n",
    "\n",
    "logging.debug(\"closing ws connection\")\n",
    "my_client.stop()"
   ]
  },
  {
   "cell_type": "code",
   "execution_count": null,
   "metadata": {},
   "outputs": [],
   "source": []
  }
 ],
 "metadata": {
  "kernelspec": {
   "display_name": "Python 3.10.7 ('venv_trading': venv)",
   "language": "python",
   "name": "python3"
  },
  "language_info": {
   "codemirror_mode": {
    "name": "ipython",
    "version": 3
   },
   "file_extension": ".py",
   "mimetype": "text/x-python",
   "name": "python",
   "nbconvert_exporter": "python",
   "pygments_lexer": "ipython3",
   "version": "3.10.7"
  },
  "orig_nbformat": 4,
  "vscode": {
   "interpreter": {
    "hash": "d8f141eb8da52afde71440ff339b42d23bca3afcdb804d0ace6ce1888eac2c59"
   }
  }
 },
 "nbformat": 4,
 "nbformat_minor": 2
}
