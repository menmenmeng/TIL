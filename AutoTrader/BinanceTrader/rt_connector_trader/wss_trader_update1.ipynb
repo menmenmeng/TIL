{
 "cells": [
  {
   "cell_type": "code",
   "execution_count": 1,
   "metadata": {},
   "outputs": [],
   "source": [
    "import time\n",
    "import logging\n",
    "from binance.lib.utils import config_logging\n",
    "from binance.websocket.um_futures.websocket_client import UMFuturesWebsocketClient\n",
    "from binance.um_futures import UMFutures\n",
    "from binance.error import ClientError\n",
    "\n",
    "import matplotlib.pyplot as plt\n",
    "import seaborn as sns\n",
    "\n",
    "from cert import binanceKey\n",
    "from cert import test_binanceKey\n",
    "from cert.myfuncs import *\n",
    "\n",
    "\n",
    "# import API KEY and SECRET KEY\n",
    "## realnet (base_url is realnet default)\n",
    "API_KEY = binanceKey.API_KEY\n",
    "SECRET_KEY = binanceKey.SECRET_KEY\n",
    "## testnet\n",
    "key = test_binanceKey.API_KEY\n",
    "secret = test_binanceKey.SECRET_KEY\n",
    "## testnet base_urls (for test trading, stream_url = futures_websocket_testnet and base_url = futures_testnet)\n",
    "futures_testnet = test_binanceKey.futures_testnet\n",
    "futures_websocket_testnet = test_binanceKey.futures_websocket_testnet\n",
    "# END\n",
    "\n",
    "\n",
    "# defining futures client\n",
    "um_futures_client = UMFutures(key=key, secret=secret, base_url=futures_testnet) # testnet\n",
    "my_client = UMFuturesWebsocketClient(stream_url=futures_websocket_testnet) # testnet\n",
    "# END"
   ]
  },
  {
   "cell_type": "code",
   "execution_count": 2,
   "metadata": {},
   "outputs": [],
   "source": [
    "from trade_rules.trade_prelim import DataPrelim\n",
    "predata = DataPrelim(um_futures_client)\n",
    "\n",
    "listenKey = predata.new_listenKey()\n",
    "asset_USDT, position_BTCUSDT = predata.get_account()\n",
    "current_asset = asset_USDT['walletBalance']\n",
    "positionAmt, entryPrice = position_BTCUSDT['positionAmt'], position_BTCUSDT['entryPrice']"
   ]
  },
  {
   "cell_type": "code",
   "execution_count": 3,
   "metadata": {},
   "outputs": [],
   "source": [
    "# defining websocket streams\n",
    "## parameters.\n",
    "SYMBOL = \"btcusdt\"\n",
    "p_aggTrade = dict()\n",
    "p_markPrice = dict(\n",
    "    speed=1,\n",
    ")\n",
    "p_kline = dict(\n",
    "    interval='2h'\n",
    ")\n",
    "## make each streams\n",
    "aggTrade_stream = f\"{SYMBOL}@aggTrade\"\n",
    "markPrice_stream = f\"{SYMBOL}@markPrice@{p_markPrice['speed']}s\"\n",
    "kline_stream = f\"{SYMBOL}@kline_{p_kline['interval']}\"\n",
    "listenKey = listenKey\n",
    "\n",
    "## make stream lists\n",
    "stream = [\n",
    "    aggTrade_stream,\n",
    "    markPrice_stream,\n",
    "    kline_stream,\n",
    "    listenKey,\n",
    "]\n",
    "# END"
   ]
  },
  {
   "cell_type": "code",
   "execution_count": 4,
   "metadata": {},
   "outputs": [
    {
     "name": "stdout",
     "output_type": "stream",
     "text": [
      "current price error\n",
      "'markPriceUpdate'\n",
      "ma calculating error\n",
      "'markPriceUpdate'\n",
      "update ma bt index error\n",
      "local variable 'ma1' referenced before assignment\n",
      "BUY  :  23560.2 0.1\n",
      "BUY  :  23560.2 0.1\n",
      "BUY  :  23560.2 0.1\n",
      "BUY  :  23560.2 0.1\n",
      "callback_num :  100\n",
      "BUY  :  23560.2 0.1\n",
      "BUY  :  23560.2 0.1\n",
      "BUY  :  23560.2 0.1\n",
      "BUY  :  23560.2 0.1\n",
      "BUY  :  23559.5 0.1\n",
      "BUY  :  23559.5 0.1\n",
      "BUY  :  23559.1 0.1\n",
      "BUY  :  23559.1 0.1\n",
      "BUY  :  23557.9 0.1\n",
      "BUY  :  23557.9 0.1\n",
      "BUY  :  23557.2 0.1\n",
      "BUY  :  23555.4 0.1\n",
      "BUY  :  23555.4 0.1\n",
      "BUY  :  23555.4 0.1\n",
      "BUY  :  23555.3 0.1\n",
      "BUY  :  23555.3 0.1\n",
      "BUY  :  23555.3 0.1\n",
      "BUY  :  23555.3 0.1\n",
      "BUY  :  23555.3 0.1\n",
      "BUY  :  23555.3 0.1\n",
      "BUY  :  23555.3 0.1\n",
      "BUY  :  23555.3 0.1\n",
      "BUY  :  23555.3 0.1\n",
      "BUY  :  23555.3 0.1\n",
      "BUY  :  23555.3 0.1\n",
      "BUY  :  23555.3 0.1\n",
      "BUY  :  23555.3 0.1\n",
      "BUY  :  23555.3 0.1\n",
      "BUY  :  23555.3 0.1\n",
      "BUY  :  23557.9 0.1\n",
      "BUY  :  23557.9 0.1\n",
      "BUY  :  23557.8 0.1\n",
      "BUY  :  23557.8 0.1\n",
      "BUY  :  23557.8 0.1\n",
      "BUY  :  23558.4 0.1\n",
      "BUY  :  23559.8 0.1\n",
      "BUY  :  23558.6 0.1\n",
      "BUY  :  23558.6 0.1\n",
      "BUY  :  23558.6 0.1\n",
      "BUY  :  23558.6 0.1\n",
      "BUY  :  23558.2 0.1\n",
      "BUY  :  23559.1 0.1\n",
      "BUY  :  23559.1 0.1\n",
      "BUY  :  23559.1 0.1\n",
      "BUY  :  23559.2 0.1\n",
      "BUY  :  23559.2 0.1\n",
      "BUY  :  23559.2 0.1\n",
      "BUY  :  23559.2 0.1\n",
      "BUY  :  23558.8 0.1\n",
      "BUY  :  23558.8 0.1\n",
      "BUY  :  23559.5 0.1\n",
      "BUY  :  23558.4 0.1\n",
      "BUY  :  23558.3 0.1\n"
     ]
    }
   ],
   "source": [
    "# defining stream data collector\n",
    "from trade_rules.trader import Trader\n",
    "trader = Trader(um_futures_client, current_asset, listenKey, aggTrade=aggTrade_stream, markPrice=markPrice_stream, kline=kline_stream)\n",
    "# END\n",
    "\n",
    "# websocket start\n",
    "config_logging(logging, logging.DEBUG)\n",
    "\n",
    "my_client.start()\n",
    "\n",
    "my_client.live_subscribe(\n",
    "    stream=stream,\n",
    "    id=1,\n",
    "    callback=trader.my_callback,\n",
    ")\n",
    "\n",
    "time.sleep(60)\n",
    "\n",
    "logging.debug(\"closing ws connection\")\n",
    "my_client.stop()"
   ]
  },
  {
   "cell_type": "code",
   "execution_count": 5,
   "metadata": {},
   "outputs": [
    {
     "name": "stdout",
     "output_type": "stream",
     "text": [
      "end\n"
     ]
    }
   ],
   "source": [
    "print(\"end\")"
   ]
  },
  {
   "cell_type": "code",
   "execution_count": null,
   "metadata": {},
   "outputs": [],
   "source": []
  }
 ],
 "metadata": {
  "kernelspec": {
   "display_name": "Python 3.10.7 ('venv_trading': venv)",
   "language": "python",
   "name": "python3"
  },
  "language_info": {
   "codemirror_mode": {
    "name": "ipython",
    "version": 3
   },
   "file_extension": ".py",
   "mimetype": "text/x-python",
   "name": "python",
   "nbconvert_exporter": "python",
   "pygments_lexer": "ipython3",
   "version": "3.10.7"
  },
  "orig_nbformat": 4,
  "vscode": {
   "interpreter": {
    "hash": "d8f141eb8da52afde71440ff339b42d23bca3afcdb804d0ace6ce1888eac2c59"
   }
  }
 },
 "nbformat": 4,
 "nbformat_minor": 2
}
