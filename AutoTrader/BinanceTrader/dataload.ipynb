{
 "cells": [
  {
   "cell_type": "code",
   "execution_count": 1,
   "metadata": {},
   "outputs": [],
   "source": [
    "import time\n",
    "import requests\n",
    "import numpy as np\n",
    "import pandas as pd\n",
    "import logging\n",
    "import datetime\n",
    "from binance.um_futures import UMFutures\n",
    "from binance.websocket.um_futures.websocket_client import UMFuturesWebsocketClient\n",
    "from binance.lib.utils import config_logging\n",
    "\n",
    "# where API KEY stored.(USE YOUR OWN KEY)\n",
    "from cert import binanceKey\n",
    "\n",
    "# my own library\n",
    "from backTester.BackTester import BackTester\n",
    "from backTester.BackDataLoader import BackDataLoader\n",
    "from conditionGenerator.ConditionGenerator import ConditionGenerator\n",
    "\n",
    "# visualization\n",
    "import matplotlib.pyplot as plt\n",
    "import seaborn as sns"
   ]
  },
  {
   "cell_type": "code",
   "execution_count": 12,
   "metadata": {},
   "outputs": [
    {
     "name": "stdout",
     "output_type": "stream",
     "text": [
      "1671620773000\n"
     ]
    }
   ],
   "source": [
    "# 현재 시간\n",
    "timestamp_crit = time.mktime(datetime.datetime.today().timetuple())\n",
    "timestamp_crit = int(timestamp_crit*1000)\n",
    "print(timestamp_crit)"
   ]
  },
  {
   "cell_type": "code",
   "execution_count": 13,
   "metadata": {},
   "outputs": [],
   "source": [
    "# data loading\n",
    "client = UMFutures()\n",
    "# backdata 가져오기 (간격 : 1m)\n",
    "# 2022-08-21 18:30:00 ~ 2022-10-09 09:25:00\n",
    "first_openTime = timestamp_crit\n",
    "df1 = BackDataLoader().get_backdata(client, '1m', startTime=first_openTime, limit=1500)\n",
    "df2 = BackDataLoader().get_backdata(client, '1m', startTime=first_openTime-5*1500*60*1000, limit=1500)\n",
    "df3 = BackDataLoader().get_backdata(client, '1m', startTime=first_openTime-2*5*1500*60*1000, limit=1500)\n",
    "df4 = BackDataLoader().get_backdata(client, '1m', startTime=first_openTime-3*5*1500*60*1000, limit=1500)\n",
    "df5 = BackDataLoader().get_backdata(client, '1m', startTime=first_openTime-4*5*1500*60*1000, limit=1500)\n",
    "df6 = BackDataLoader().get_backdata(client, '1m', startTime=first_openTime-5*5*1500*60*1000, limit=1500)\n",
    "df7 = BackDataLoader().get_backdata(client, '1m', startTime=first_openTime-6*5*1500*60*1000, limit=1500)\n",
    "df8 = BackDataLoader().get_backdata(client, '1m', startTime=first_openTime-7*5*1500*60*1000, limit=1500)\n",
    "df9 = BackDataLoader().get_backdata(client, '1m', startTime=first_openTime-8*5*1500*60*1000, limit=1500)\n",
    "df10 = BackDataLoader().get_backdata(client, '1m', startTime=first_openTime-9*5*1500*60*1000, limit=1500)\n",
    "\n",
    "backdata = pd.concat([df10, df9, df8, df7, df6, df5, df4, df3, df2, df1], axis=0)\n",
    "backdata.reset_index(inplace=True, drop=True)"
   ]
  },
  {
   "cell_type": "code",
   "execution_count": 16,
   "metadata": {},
   "outputs": [
    {
     "data": {
      "text/html": [
       "<div>\n",
       "<style scoped>\n",
       "    .dataframe tbody tr th:only-of-type {\n",
       "        vertical-align: middle;\n",
       "    }\n",
       "\n",
       "    .dataframe tbody tr th {\n",
       "        vertical-align: top;\n",
       "    }\n",
       "\n",
       "    .dataframe thead th {\n",
       "        text-align: right;\n",
       "    }\n",
       "</style>\n",
       "<table border=\"1\" class=\"dataframe\">\n",
       "  <thead>\n",
       "    <tr style=\"text-align: right;\">\n",
       "      <th></th>\n",
       "      <th>OpenTime</th>\n",
       "      <th>Open</th>\n",
       "      <th>High</th>\n",
       "      <th>Low</th>\n",
       "      <th>Close</th>\n",
       "      <th>Volume</th>\n",
       "      <th>CloseTime</th>\n",
       "      <th>QuoteAssetVolume</th>\n",
       "      <th>NumOfTrades</th>\n",
       "      <th>TakerBuyBaseAssetVolume</th>\n",
       "      <th>TakerBuyQuoteAssetVolume</th>\n",
       "    </tr>\n",
       "  </thead>\n",
       "  <tbody>\n",
       "    <tr>\n",
       "      <th>0</th>\n",
       "      <td>2022-11-04 14:07:00</td>\n",
       "      <td>20775.6</td>\n",
       "      <td>20781.9</td>\n",
       "      <td>20751.1</td>\n",
       "      <td>20760.4</td>\n",
       "      <td>455.439</td>\n",
       "      <td>2022-11-04 14:07:59.999</td>\n",
       "      <td>9.455816e+06</td>\n",
       "      <td>3025</td>\n",
       "      <td>152.514</td>\n",
       "      <td>3.167104e+06</td>\n",
       "    </tr>\n",
       "    <tr>\n",
       "      <th>1</th>\n",
       "      <td>2022-11-04 14:08:00</td>\n",
       "      <td>20760.3</td>\n",
       "      <td>20764.7</td>\n",
       "      <td>20750.3</td>\n",
       "      <td>20757.4</td>\n",
       "      <td>454.387</td>\n",
       "      <td>2022-11-04 14:08:59.999</td>\n",
       "      <td>9.432000e+06</td>\n",
       "      <td>2726</td>\n",
       "      <td>156.834</td>\n",
       "      <td>3.255377e+06</td>\n",
       "    </tr>\n",
       "    <tr>\n",
       "      <th>2</th>\n",
       "      <td>2022-11-04 14:09:00</td>\n",
       "      <td>20757.4</td>\n",
       "      <td>20788.5</td>\n",
       "      <td>20757.4</td>\n",
       "      <td>20781.3</td>\n",
       "      <td>497.791</td>\n",
       "      <td>2022-11-04 14:09:59.999</td>\n",
       "      <td>1.034198e+07</td>\n",
       "      <td>2829</td>\n",
       "      <td>345.962</td>\n",
       "      <td>7.187096e+06</td>\n",
       "    </tr>\n",
       "    <tr>\n",
       "      <th>3</th>\n",
       "      <td>2022-11-04 14:10:00</td>\n",
       "      <td>20781.2</td>\n",
       "      <td>20790.0</td>\n",
       "      <td>20770.1</td>\n",
       "      <td>20780.4</td>\n",
       "      <td>579.919</td>\n",
       "      <td>2022-11-04 14:10:59.999</td>\n",
       "      <td>1.205151e+07</td>\n",
       "      <td>3099</td>\n",
       "      <td>286.877</td>\n",
       "      <td>5.961562e+06</td>\n",
       "    </tr>\n",
       "    <tr>\n",
       "      <th>4</th>\n",
       "      <td>2022-11-04 14:11:00</td>\n",
       "      <td>20780.4</td>\n",
       "      <td>20817.7</td>\n",
       "      <td>20780.4</td>\n",
       "      <td>20808.1</td>\n",
       "      <td>1490.085</td>\n",
       "      <td>2022-11-04 14:11:59.999</td>\n",
       "      <td>3.100242e+07</td>\n",
       "      <td>7185</td>\n",
       "      <td>1037.942</td>\n",
       "      <td>2.159361e+07</td>\n",
       "    </tr>\n",
       "  </tbody>\n",
       "</table>\n",
       "</div>"
      ],
      "text/plain": [
       "             OpenTime     Open     High      Low    Close    Volume  \\\n",
       "0 2022-11-04 14:07:00  20775.6  20781.9  20751.1  20760.4   455.439   \n",
       "1 2022-11-04 14:08:00  20760.3  20764.7  20750.3  20757.4   454.387   \n",
       "2 2022-11-04 14:09:00  20757.4  20788.5  20757.4  20781.3   497.791   \n",
       "3 2022-11-04 14:10:00  20781.2  20790.0  20770.1  20780.4   579.919   \n",
       "4 2022-11-04 14:11:00  20780.4  20817.7  20780.4  20808.1  1490.085   \n",
       "\n",
       "                CloseTime  QuoteAssetVolume NumOfTrades  \\\n",
       "0 2022-11-04 14:07:59.999      9.455816e+06        3025   \n",
       "1 2022-11-04 14:08:59.999      9.432000e+06        2726   \n",
       "2 2022-11-04 14:09:59.999      1.034198e+07        2829   \n",
       "3 2022-11-04 14:10:59.999      1.205151e+07        3099   \n",
       "4 2022-11-04 14:11:59.999      3.100242e+07        7185   \n",
       "\n",
       "   TakerBuyBaseAssetVolume  TakerBuyQuoteAssetVolume  \n",
       "0                  152.514              3.167104e+06  \n",
       "1                  156.834              3.255377e+06  \n",
       "2                  345.962              7.187096e+06  \n",
       "3                  286.877              5.961562e+06  \n",
       "4                 1037.942              2.159361e+07  "
      ]
     },
     "execution_count": 16,
     "metadata": {},
     "output_type": "execute_result"
    }
   ],
   "source": []
  },
  {
   "cell_type": "code",
   "execution_count": 17,
   "metadata": {},
   "outputs": [],
   "source": [
    "# TESTNET을 활용해서...\n",
    "testBaseUrl_rest = \"https://testnet.binancefuture.com\"\n",
    "testBaseUrl_wsk = \"wss://stream.binancefuture.com\""
   ]
  },
  {
   "cell_type": "code",
   "execution_count": 20,
   "metadata": {},
   "outputs": [],
   "source": [
    "import asyncio\n",
    "import websockets"
   ]
  },
  {
   "cell_type": "code",
   "execution_count": null,
   "metadata": {},
   "outputs": [],
   "source": []
  }
 ],
 "metadata": {
  "kernelspec": {
   "display_name": "Python 3.10.7 ('venv_trading': venv)",
   "language": "python",
   "name": "python3"
  },
  "language_info": {
   "codemirror_mode": {
    "name": "ipython",
    "version": 3
   },
   "file_extension": ".py",
   "mimetype": "text/x-python",
   "name": "python",
   "nbconvert_exporter": "python",
   "pygments_lexer": "ipython3",
   "version": "3.10.7"
  },
  "orig_nbformat": 4,
  "vscode": {
   "interpreter": {
    "hash": "d8f141eb8da52afde71440ff339b42d23bca3afcdb804d0ace6ce1888eac2c59"
   }
  }
 },
 "nbformat": 4,
 "nbformat_minor": 2
}
