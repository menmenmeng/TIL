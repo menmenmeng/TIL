{
 "cells": [
  {
   "cell_type": "code",
   "execution_count": 1,
   "metadata": {},
   "outputs": [],
   "source": [
    "import time\n",
    "import requests\n",
    "import numpy as np\n",
    "import pandas as pd\n",
    "import logging\n",
    "import datetime\n",
    "from binance.um_futures import UMFutures\n",
    "from binance.websocket.um_futures.websocket_client import UMFuturesWebsocketClient\n",
    "from binance.lib.utils import config_logging\n",
    "\n",
    "# where API KEY stored.(USE YOUR OWN KEY)\n",
    "from cert import binanceKey\n",
    "\n",
    "# my own library\n",
    "from backTester.BackTester import BackTester\n",
    "from backTester.BackDataLoader import BackDataLoader\n",
    "from conditionGenerator.ConditionGenerator import ConditionGenerator\n",
    "\n",
    "# visualization\n",
    "import matplotlib.pyplot as plt\n",
    "import seaborn as sns"
   ]
  },
  {
   "cell_type": "code",
   "execution_count": 10,
   "metadata": {},
   "outputs": [
    {
     "data": {
      "text/plain": [
       "1671620646000"
      ]
     },
     "execution_count": 10,
     "metadata": {},
     "output_type": "execute_result"
    }
   ],
   "source": [
    "# 현재 시간\n",
    " = time.mktime(datetime.datetime.today().timetuple())\n",
    "int(timestamp_now*1000)"
   ]
  },
  {
   "cell_type": "code",
   "execution_count": null,
   "metadata": {},
   "outputs": [],
   "source": [
    "# data loading\n",
    "client = UMFutures()\n",
    "# backdata 가져오기 (간격 : 5m)\n",
    "# 2022-08-21 18:30:00 ~ 2022-10-09 09:25:00\n",
    "first_openTime = 1665156600000 # 2022, 10, 8, 0, 30\n",
    "df1 = BackDataLoader().get_backdata(client, '1m', startTime=first_openTime, limit=1500)\n",
    "df2 = BackDataLoader().get_backdata(client, '1m', startTime=first_openTime-5*1500*60*1000, limit=1500)\n",
    "df3 = BackDataLoader().get_backdata(client, '1m', startTime=first_openTime-2*5*1500*60*1000, limit=1500)\n",
    "df4 = BackDataLoader().get_backdata(client, '1m', startTime=first_openTime-3*5*1500*60*1000, limit=1500)\n",
    "df5 = BackDataLoader().get_backdata(client, '1m', startTime=first_openTime-4*5*1500*60*1000, limit=1500)\n",
    "df6 = BackDataLoader().get_backdata(client, '1m', startTime=first_openTime-5*5*1500*60*1000, limit=1500)\n",
    "df7 = BackDataLoader().get_backdata(client, '1m', startTime=first_openTime-6*5*1500*60*1000, limit=1500)\n",
    "df8 = BackDataLoader().get_backdata(client, '1m', startTime=first_openTime-7*5*1500*60*1000, limit=1500)\n",
    "df9 = BackDataLoader().get_backdata(client, '1m', startTime=first_openTime-8*5*1500*60*1000, limit=1500)\n",
    "df10 = BackDataLoader().get_backdata(client, '1m', startTime=first_openTime-9*5*1500*60*1000, limit=1500)\n",
    "\n",
    "backdata = pd.concat([df10, df9, df8, df7, df6, df5, df4, df3, df2, df1], axis=0)\n",
    "backdata.reset_index(inplace=True, drop=True)"
   ]
  }
 ],
 "metadata": {
  "kernelspec": {
   "display_name": "Python 3.10.7 ('venv_trading': venv)",
   "language": "python",
   "name": "python3"
  },
  "language_info": {
   "codemirror_mode": {
    "name": "ipython",
    "version": 3
   },
   "file_extension": ".py",
   "mimetype": "text/x-python",
   "name": "python",
   "nbconvert_exporter": "python",
   "pygments_lexer": "ipython3",
   "version": "3.10.7"
  },
  "orig_nbformat": 4,
  "vscode": {
   "interpreter": {
    "hash": "d8f141eb8da52afde71440ff339b42d23bca3afcdb804d0ace6ce1888eac2c59"
   }
  }
 },
 "nbformat": 4,
 "nbformat_minor": 2
}
