{
 "cells": [
  {
   "cell_type": "code",
   "execution_count": 1,
   "metadata": {},
   "outputs": [],
   "source": [
    "import numpy as np\n",
    "import pandas as pd\n",
    "from binance.um_futures import UMFutures\n",
    "from binance.websocket.um_futures.websocket_client import UMFuturesWebsocketClient\n",
    "\n",
    "# my own library\n",
    "from backTester.BackTester import BackTester\n",
    "from backTester.BackDataLoader import BackDataLoader\n",
    "from conditionGenerator.ConditionGenerator import ConditionGenerator\n",
    "\n",
    "# visualization\n",
    "import matplotlib.pyplot as plt\n",
    "import seaborn as sns"
   ]
  },
  {
   "cell_type": "code",
   "execution_count": 2,
   "metadata": {},
   "outputs": [],
   "source": [
    "backdata = pd.read_pickle('C:\\\\TIL\\\\AutoTrader\\\\BinanceTrader\\\\backdata2.pkl')"
   ]
  },
  {
   "cell_type": "code",
   "execution_count": null,
   "metadata": {},
   "outputs": [],
   "source": [
    "## 아래 꺼가. GridSearch하는 방법\n",
    "\n",
    "for combIndex, comb in enumerate(prods):\n",
    "    print('combIndex: ', combIndex, end=' ')\n",
    "    param = dict()\n",
    "    for key, value in zip(keys, comb):\n",
    "        param[key] = value\n",
    "        # 요기서부터 집어넣는다.\n",
    "    # print(param, end=' ')\n",
    "    tester = BackTester()\n",
    "    # print(id(tester), end='')\n",
    "    backdata = pd.read_pickle('C:\\\\TIL\\\\AutoTrader\\\\BinanceTrader\\\\backdata2.pkl')\n",
    "\n",
    "    window_MA = param['windowMA']\n",
    "    window_ER = param['windowER']\n",
    "    backdata['MA'] = tester.get_MA(window_MA, backdata['Close'])\n",
    "    backdata['std'] = tester.get_std(window_MA, backdata['Close'])\n",
    "    backdata['UB'] = backdata['MA'] + 2 * backdata['std']\n",
    "    backdata['U75'] = backdata['MA'] + backdata['std']\n",
    "    backdata['LB'] = backdata['MA'] - 2 * backdata['std']\n",
    "    backdata['L25'] = backdata['MA'] - backdata['std']\n",
    "    backdata['ER'] = backdata['Close'].diff(window_ER).abs()/backdata['Close'].diff().abs().rolling(window_ER).sum()\n",
    "\n",
    "    backdata['ERmean'] = backdata['ER'].mean()*param['c_ERmean']\n",
    "\n",
    "    myStrg = ConditionGenerator(19, 0) # i-4, i-3, i-2, i-1, i\n",
    "\n",
    "\n",
    "    myStrg.add_andCondition('Close', 'LB', '>', [param['pastFirst'], param['pastLast']])\n",
    "    myStrg.add_andCondition('Close', 'LB', '<', [param['nowFirst'], param['nowLast']])\n",
    "    myStrg.add_andCondition('Volume', param['th_Volume'], '<', [param['volFirst'], param['volLast']])\n",
    "    myStrg.add_andCondition('ER', 'ERmean', '<', [param['volFirst'], param['volLast']])\n",
    "    myStrg.add_condition('long')\n",
    "\n",
    "    myStrg.add_andCondition('Close', 'UB', '<', [param['pastFirst'], param['pastLast']])\n",
    "    myStrg.add_andCondition('Close', 'UB', '>', [param['nowFirst'], param['nowLast']])\n",
    "    myStrg.add_andCondition('Volume', param['th_Volume'], '>', [param['volFirst'], param['volLast']])\n",
    "    myStrg.add_andCondition('ER', 'ERmean', '>', [param['volFirst'], param['volLast']])\n",
    "    myStrg.add_condition('short')\n",
    "\n",
    "    myStrg.add_andCondition('Close', 'MA', '<', [3, 5])\n",
    "    myStrg.add_andCondition('Close', 'MA', '>', [0, 2])\n",
    "    myStrg.add_andCondition('_long_flag', True, '==', 0)\n",
    "    myStrg.add_condition('clear')\n",
    "\n",
    "    myStrg.add_andCondition('Close', '_long_meanPrice', '<', 0, func2=lambda x:x*(1-0.03))\n",
    "    myStrg.add_andCondition('_long_flag', True, '==', 0)\n",
    "    myStrg.add_condition('clear')\n",
    "\n",
    "    myStrg.add_andCondition('Close', 'MA', '>', [3, 5])\n",
    "    myStrg.add_andCondition('Close', 'MA', '<', [0, 2])\n",
    "    myStrg.add_andCondition('_short_flag', True, '==', 0)\n",
    "    myStrg.add_condition('clear')\n",
    "\n",
    "    myStrg.add_andCondition('Close', '_short_meanPrice', '>', 0, func2=lambda x:x*(1+0.03))\n",
    "    myStrg.add_andCondition('_short_flag', True, '==', 0)\n",
    "    myStrg.add_condition('clear')\n",
    "\n",
    "    # backtest\n",
    "    tester.backtest_tmp(myStrg, backdata, printLog=False)\n",
    "\n",
    "    r = tester.finalReturn\n",
    "    for resIdx in range(resultNum):\n",
    "        if r > max_n_results[resIdx]:\n",
    "            try:\n",
    "                max_n_results = max_n_results[:resIdx] + [r] + max_n_results[resIdx:resultNum-1]\n",
    "                combIndexStorer = combIndexStorer[:resIdx] + [combIndex] + combIndexStorer[resIdx:resultNum-1]\n",
    "                paramStorer = paramStorer[:resIdx] + [comb] + paramStorer[resIdx:resultNum-1]\n",
    "            except:\n",
    "                max_n_results = [r] + max_n_results[resIdx:resultNum-1]\n",
    "                combIndexStorer = [combIndex] + combIndexStorer[resIdx:resultNum-1]\n",
    "                paramStorer = [comb] + paramStorer[resIdx:resultNum-1]\n",
    "\n",
    "    print(', Return:', r)\n",
    "\n",
    "with open('BB_GridSearch_params.txt', 'a') as f:\n",
    "    f.write(str(datetime.now().strftime(\"%Y/%m/%d %H:%M:%S\"))+'\\n'+'-'*20)\n",
    "    f.write('Keys:'+str(keys))\n",
    "    for idx, res, param in zip(combIndexStorer, max_n_results, paramStorer):\n",
    "        f.write('Index'+str(idx)+' - Return - '+str(res)+' - Param '+str(param))\n"
   ]
  },
  {
   "cell_type": "code",
   "execution_count": null,
   "metadata": {},
   "outputs": [],
   "source": []
  }
 ],
 "metadata": {
  "kernelspec": {
   "display_name": "Python 3.10.7 ('venv_trading': venv)",
   "language": "python",
   "name": "python3"
  },
  "language_info": {
   "codemirror_mode": {
    "name": "ipython",
    "version": 3
   },
   "file_extension": ".py",
   "mimetype": "text/x-python",
   "name": "python",
   "nbconvert_exporter": "python",
   "pygments_lexer": "ipython3",
   "version": "3.10.7"
  },
  "orig_nbformat": 4,
  "vscode": {
   "interpreter": {
    "hash": "d8f141eb8da52afde71440ff339b42d23bca3afcdb804d0ace6ce1888eac2c59"
   }
  }
 },
 "nbformat": 4,
 "nbformat_minor": 2
}
