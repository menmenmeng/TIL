{
 "cells": [
  {
   "cell_type": "code",
   "execution_count": 1,
   "metadata": {},
   "outputs": [],
   "source": [
    "from backTester.BackTester import BackTester\n",
    "from backTester.BackDataLoader import BackDataLoader\n",
    "from backTester.ConvertMethods import *\n",
    "from conditionGenerator.ConditionGenerator import ConditionGenerator\n",
    "from binance.um_futures import UMFutures\n",
    "from binance.websocket.um_futures.websocket_client import UMFuturesWebsocketClient\n",
    "\n",
    "def limit_calculate(startTime, endTime, intervalNum, intervalUnit):\n",
    "    timeDelta = endTime - startTime # ms\n",
    "    if intervalUnit=='m':\n",
    "        res = int(timeDelta/1000/60/intervalNum)\n",
    "    elif intervalUnit=='h':\n",
    "        res = int(timeDelta/1000/60/60/intervalNum)\n",
    "    return res"
   ]
  },
  {
   "cell_type": "code",
   "execution_count": null,
   "metadata": {},
   "outputs": [],
   "source": [
    "# interval : 5m\n",
    "client = UMFutures()\n",
    "bdl = BackDataLoader()\n",
    "monthPair = [[1, 2], [2, 3], [3, 4], [4, 5], [7, 8], [8, 9], [9, 10]]\n",
    "for idx, (startMonth, endMonth) in enumerate(monthPair):\n",
    "    startTime = dt2ms(2022, startMonth, 1)\n",
    "    endTime = dt2ms(2022, endMonth, 1)\n",
    "    limit = int((endTime - startTime)/1000/60/5)\n",
    "    df = bdl.get_backdata(client, '5m', startTime=startTime, limit=limit)\n",
    "    df.to_pickle(f\"BackDataList\\\\backdata_period_{startMonth}_1_to_{endMonth}_1.pkl\")"
   ]
  },
  {
   "cell_type": "code",
   "execution_count": 2,
   "metadata": {},
   "outputs": [],
   "source": [
    "# interval : 1m\n",
    "client = UMFutures()\n",
    "bdl = BackDataLoader()\n",
    "monthPair = [[1, 2], [2, 3], [3, 4], [4, 5], [7, 8], [8, 9], [9, 10]]\n",
    "for idx, (startMonth, endMonth) in enumerate(monthPair):\n",
    "    startTime = dt2ms(2022, startMonth, 1)\n",
    "    endTime = dt2ms(2022, endMonth, 1)\n",
    "    limit = limit_calculate(startTime, endTime, 1, 'm')\n",
    "    df = bdl.get_backdata(client, '1m', startTime=startTime, limit=limit)\n",
    "    df.to_pickle(f\"BackDataList\\\\backdata1m_period_{startMonth}_1_to_{endMonth}_1.pkl\")"
   ]
  }
 ],
 "metadata": {
  "kernelspec": {
   "display_name": "Python 3.10.7 ('venv_trading': venv)",
   "language": "python",
   "name": "python3"
  },
  "language_info": {
   "codemirror_mode": {
    "name": "ipython",
    "version": 3
   },
   "file_extension": ".py",
   "mimetype": "text/x-python",
   "name": "python",
   "nbconvert_exporter": "python",
   "pygments_lexer": "ipython3",
   "version": "3.10.7"
  },
  "orig_nbformat": 4,
  "vscode": {
   "interpreter": {
    "hash": "d8f141eb8da52afde71440ff339b42d23bca3afcdb804d0ace6ce1888eac2c59"
   }
  }
 },
 "nbformat": 4,
 "nbformat_minor": 2
}
