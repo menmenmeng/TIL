{
 "cells": [
  {
   "cell_type": "code",
   "execution_count": 2,
   "metadata": {},
   "outputs": [],
   "source": [
    "def coroutine2(x):\n",
    "    print(\">> Coroutine2 started : {}\".format(x))\n",
    "    y = yield x\n",
    "    print(\">> Coroutine2 Y received : {}\".format(y))\n",
    "    z = yield x + y\n",
    "    print(\">> Coroutine2 Z received : {}\".format(z))\n",
    "    yield z + x + y"
   ]
  },
  {
   "cell_type": "code",
   "execution_count": null,
   "metadata": {},
   "outputs": [],
   "source": [
    "cr3 = coroutine2(10)"
   ]
  },
  {
   "cell_type": "code",
   "execution_count": 30,
   "metadata": {},
   "outputs": [],
   "source": [
    "class MyIterator():\n",
    "    def __init__(self, start, end):\n",
    "        self.start = start\n",
    "        self.end = end\n",
    "        self.num = start\n",
    "\n",
    "    def __iter__(self):\n",
    "        return self\n",
    "\n",
    "    def __next__(self):\n",
    "        if self.num < self.end:\n",
    "            res = self.num\n",
    "            self.num += 1\n",
    "            return res\n",
    "        else:\n",
    "            raise StopIteration\n",
    "\n",
    "def myGenerator(start, end):\n",
    "    yield start\n",
    "    while start < end:\n",
    "        start += 1\n",
    "        yield start\n",
    "    return"
   ]
  },
  {
   "cell_type": "code",
   "execution_count": 7,
   "metadata": {},
   "outputs": [],
   "source": [
    "it = MyIterator(0, 3)"
   ]
  },
  {
   "cell_type": "code",
   "execution_count": 8,
   "metadata": {},
   "outputs": [
    {
     "name": "stdout",
     "output_type": "stream",
     "text": [
      "0\n",
      "1\n",
      "2\n"
     ]
    }
   ],
   "source": [
    "for i in it:\n",
    "    print(i)\n"
   ]
  },
  {
   "cell_type": "code",
   "execution_count": 34,
   "metadata": {},
   "outputs": [],
   "source": [
    "gen = myGenerator(0, 3)"
   ]
  },
  {
   "cell_type": "code",
   "execution_count": 35,
   "metadata": {},
   "outputs": [
    {
     "name": "stdout",
     "output_type": "stream",
     "text": [
      "0\n",
      "1\n",
      "2\n",
      "3\n"
     ]
    }
   ],
   "source": [
    "for i in gen:\n",
    "    print(i)"
   ]
  },
  {
   "cell_type": "markdown",
   "metadata": {},
   "source": [
    "## asyncio 활용"
   ]
  },
  {
   "cell_type": "code",
   "execution_count": 5,
   "metadata": {},
   "outputs": [],
   "source": [
    "import asyncio"
   ]
  },
  {
   "cell_type": "code",
   "execution_count": 7,
   "metadata": {},
   "outputs": [
    {
     "name": "stdout",
     "output_type": "stream",
     "text": [
      "Mon Dec 26 19:03:48 2022 Hello!\n",
      "Mon Dec 26 19:03:49 2022 GoodBye!\n"
     ]
    }
   ],
   "source": [
    "import time\n",
    "\n",
    "async def main():\n",
    "    print(f'{time.ctime()} Hello!')\n",
    "    await asyncio.sleep(1.0)\n",
    "    print(f'{time.ctime()} GoodBye!')\n",
    "\n",
    "await main()\n",
    "\n",
    "## asyncio.run()이 이미 실행되고 있다는 거임. 그러면 await이란 무슨 역할을 하는 걸까요"
   ]
  },
  {
   "cell_type": "code",
   "execution_count": 16,
   "metadata": {},
   "outputs": [
    {
     "name": "stdout",
     "output_type": "stream",
     "text": [
      "started at 20:01:14\n",
      "hello\n",
      "world\n",
      "finished at 20:01:16\n"
     ]
    }
   ],
   "source": [
    "import asyncio, time\n",
    "\n",
    "async def say_after(delay, what):\n",
    "    await asyncio.sleep(delay)\n",
    "    print(what)\n",
    "\n",
    "async def main():\n",
    "    task1 = asyncio.create_task(say_after(1, 'hello'))\n",
    "    task2 = asyncio.create_task(say_after(2, 'world'))\n",
    "    print(f\"started at {time.strftime('%X')}\")\n",
    "    await task1\n",
    "    await task2\n",
    "    print(f\"finished at {time.strftime('%X')}\")\n",
    "\n",
    "await main()"
   ]
  },
  {
   "cell_type": "code",
   "execution_count": 15,
   "metadata": {},
   "outputs": [
    {
     "name": "stdout",
     "output_type": "stream",
     "text": [
      "started at 20:01:08\n",
      "hello\n",
      "world\n",
      "finished at 20:01:11\n"
     ]
    }
   ],
   "source": [
    "import asyncio, time\n",
    "\n",
    "async def say_after(delay, what):\n",
    "    await asyncio.sleep(delay)\n",
    "    print(what)\n",
    "\n",
    "async def main():\n",
    "    print(f\"started at {time.strftime('%X')}\")\n",
    "    await say_after(1, 'hello')\n",
    "    await say_after(2, 'world')\n",
    "    print(f\"finished at {time.strftime('%X')}\")\n",
    "\n",
    "await main()"
   ]
  },
  {
   "cell_type": "code",
   "execution_count": 17,
   "metadata": {},
   "outputs": [
    {
     "data": {
      "text/plain": [
       "16"
      ]
     },
     "execution_count": 17,
     "metadata": {},
     "output_type": "execute_result"
    }
   ],
   "source": [
    "## cpu의 개수는 몇 개일까?\n",
    "import os\n",
    "os.cpu_count()"
   ]
  },
  {
   "cell_type": "code",
   "execution_count": 30,
   "metadata": {},
   "outputs": [
    {
     "name": "stdout",
     "output_type": "stream",
     "text": [
      "started at 20:10:59\n",
      "world1\n",
      "world2\n",
      "world6\n",
      "world14\n",
      "HowAboutThis12\n",
      "HowAboutThis11\n",
      "HowAboutThis10\n",
      "HowAboutThis9\n",
      "HowAboutThis8\n",
      "HowAboutThis7\n",
      "HowAboutThis6\n",
      "HowAboutThis5\n",
      "HowAboutThis4\n",
      "HowAboutThis3\n",
      "HowAboutThis2\n",
      "HowAboutThis1\n",
      "world13\n",
      "world15\n",
      "world12\n",
      "world11\n",
      "world10\n",
      "world9\n",
      "world8\n",
      "world5\n",
      "world7\n",
      "world4\n",
      "hello0\n",
      "world3\n",
      "finished at 20:11:01\n"
     ]
    }
   ],
   "source": [
    "import asyncio, time\n",
    "\n",
    "async def say_after(delay, what):\n",
    "    await asyncio.sleep(delay)\n",
    "    print(what)\n",
    "\n",
    "async def main():\n",
    "\n",
    "    task1 = asyncio.create_task(say_after(2, 'world1'))\n",
    "    task2 = asyncio.create_task(say_after(2, 'hello0'))\n",
    "    task3 = asyncio.create_task(say_after(2, 'world2'))\n",
    "    task4 = asyncio.create_task(say_after(2, 'world3'))\n",
    "    \n",
    "    task5 = asyncio.create_task(say_after(2, 'world4'))\n",
    "    task6 = asyncio.create_task(say_after(2, 'world5'))\n",
    "    task7 = asyncio.create_task(say_after(2, 'world6'))\n",
    "    task8 = asyncio.create_task(say_after(2, 'world7'))\n",
    "\n",
    "    task9 = asyncio.create_task(say_after(2, 'world8'))\n",
    "    task10 = asyncio.create_task(say_after(2, 'world9'))\n",
    "    task11 = asyncio.create_task(say_after(2, 'world10'))\n",
    "    task12 = asyncio.create_task(say_after(2, 'world11'))\n",
    "\n",
    "    task13 = asyncio.create_task(say_after(2, 'world12'))\n",
    "    task14 = asyncio.create_task(say_after(2, 'world13'))\n",
    "    task15 = asyncio.create_task(say_after(2, 'world14'))\n",
    "    task16 = asyncio.create_task(say_after(2, 'world15'))\n",
    "\n",
    "    task17 = asyncio.create_task(say_after(2, 'HowAboutThis1'))\n",
    "    task18 = asyncio.create_task(say_after(2, 'HowAboutThis2'))\n",
    "    task19 = asyncio.create_task(say_after(2, 'HowAboutThis3'))\n",
    "    task20 = asyncio.create_task(say_after(2, 'HowAboutThis4'))\n",
    "\n",
    "    task21 = asyncio.create_task(say_after(2, 'HowAboutThis5'))\n",
    "    task22 = asyncio.create_task(say_after(2, 'HowAboutThis6'))\n",
    "    task23 = asyncio.create_task(say_after(2, 'HowAboutThis7'))\n",
    "    task24 = asyncio.create_task(say_after(2, 'HowAboutThis8'))\n",
    "\n",
    "    task25 = asyncio.create_task(say_after(2, 'HowAboutThis9'))\n",
    "    task26 = asyncio.create_task(say_after(2, 'HowAboutThis10'))\n",
    "    task27 = asyncio.create_task(say_after(2, 'HowAboutThis11'))\n",
    "    task28 = asyncio.create_task(say_after(2, 'HowAboutThis12'))\n",
    "\n",
    "    print(f\"started at {time.strftime('%X')}\")\n",
    "\n",
    "    await task1\n",
    "    await task2\n",
    "    await task3\n",
    "    await task4\n",
    "\n",
    "    await task5\n",
    "    await task6\n",
    "    await task7\n",
    "    await task8\n",
    "\n",
    "    await task9\n",
    "    await task10\n",
    "    await task11\n",
    "    await task12\n",
    "\n",
    "    await task13\n",
    "    await task14\n",
    "    await task15\n",
    "    await task16\n",
    "\n",
    "    await task17\n",
    "    await task18\n",
    "    await task19\n",
    "    await task20\n",
    "\n",
    "    await task21\n",
    "    await task22\n",
    "    await task23\n",
    "    await task24\n",
    "\n",
    "    await task25\n",
    "    await task26\n",
    "    await task27\n",
    "    await task28\n",
    "\n",
    "    print(f\"finished at {time.strftime('%X')}\")\n",
    "\n",
    "await main()"
   ]
  },
  {
   "cell_type": "code",
   "execution_count": null,
   "metadata": {},
   "outputs": [],
   "source": []
  }
 ],
 "metadata": {
  "kernelspec": {
   "display_name": "Python 3.10.7 ('venv_trading': venv)",
   "language": "python",
   "name": "python3"
  },
  "language_info": {
   "codemirror_mode": {
    "name": "ipython",
    "version": 3
   },
   "file_extension": ".py",
   "mimetype": "text/x-python",
   "name": "python",
   "nbconvert_exporter": "python",
   "pygments_lexer": "ipython3",
   "version": "3.10.7"
  },
  "orig_nbformat": 4,
  "vscode": {
   "interpreter": {
    "hash": "d8f141eb8da52afde71440ff339b42d23bca3afcdb804d0ace6ce1888eac2c59"
   }
  }
 },
 "nbformat": 4,
 "nbformat_minor": 2
}
