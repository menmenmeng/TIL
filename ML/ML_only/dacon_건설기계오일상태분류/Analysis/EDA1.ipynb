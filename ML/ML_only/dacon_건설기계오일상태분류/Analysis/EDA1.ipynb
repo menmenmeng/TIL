{
 "cells": [
  {
   "cell_type": "code",
   "execution_count": 53,
   "metadata": {},
   "outputs": [],
   "source": [
    "import numpy as np\n",
    "import pandas as pd\n",
    "\n",
    "import matplotlib.pyplot as plt\n",
    "import seaborn as sns"
   ]
  },
  {
   "cell_type": "code",
   "execution_count": 2,
   "metadata": {},
   "outputs": [],
   "source": [
    "train = pd.read_csv(\"../_data_dacon_건설기계오일상태분류/train.csv\")\n",
    "test = pd.read_csv(\"../_data_dacon_건설기계오일상태분류/test.csv\")\n",
    "sample_submission = pd.read_csv(\"../_data_dacon_건설기계오일상태분류/sample_submission.csv\")\n",
    "\n",
    "pd.set_option(\"display.max_columns\", 1000)"
   ]
  },
  {
   "cell_type": "code",
   "execution_count": 31,
   "metadata": {},
   "outputs": [
    {
     "name": "stdout",
     "output_type": "stream",
     "text": [
      "True\n"
     ]
    }
   ],
   "source": [
    "# na가 있는 column과 없는 column에 대해.\n",
    "dc = train.describe()\n",
    "non_na_cols = dc.loc[:, dc.loc['count']==14095].columns\n",
    "na_cols = dc.loc[:, dc.loc['count']!=14095].columns\n",
    "print(len(dc.columns)==len(non_na_cols)+len(na_cols))"
   ]
  },
  {
   "cell_type": "code",
   "execution_count": 42,
   "metadata": {},
   "outputs": [],
   "source": [
    "# na가 있는 column들\n",
    "train_na_any = train[train.isna().values.any(axis=1)] # axis=1를 줄일 것이다. 또는 axis=1을 따라서 연산할 것이다."
   ]
  },
  {
   "cell_type": "code",
   "execution_count": 43,
   "metadata": {},
   "outputs": [
    {
     "data": {
      "text/plain": [
       "14095"
      ]
     },
     "execution_count": 43,
     "metadata": {},
     "output_type": "execute_result"
    }
   ],
   "source": [
    "len(train_na_any)"
   ]
  },
  {
   "cell_type": "code",
   "execution_count": 46,
   "metadata": {},
   "outputs": [
    {
     "data": {
      "text/plain": [
       "ANONYMOUS_1            14095\n",
       "YEAR                   14095\n",
       "SAMPLE_TRANSFER_DAY    14095\n",
       "ANONYMOUS_2            14095\n",
       "AG                     14095\n",
       "AL                     14095\n",
       "B                      14095\n",
       "BA                     14095\n",
       "BE                     14095\n",
       "CA                     14095\n",
       "CD                     12701\n",
       "CO                     14095\n",
       "CR                     14095\n",
       "CU                     14095\n",
       "FH2O                    3890\n",
       "FNOX                    3890\n",
       "FOPTIMETHGLY            3890\n",
       "FOXID                   3890\n",
       "FSO4                    3890\n",
       "FTBN                    3890\n",
       "FE                     14095\n",
       "FUEL                    3890\n",
       "H2O                    14095\n",
       "K                      11796\n",
       "LI                     14095\n",
       "MG                     14095\n",
       "MN                     14095\n",
       "MO                     14095\n",
       "NA                     14095\n",
       "NI                     14095\n",
       "P                      14095\n",
       "PB                     14095\n",
       "PQINDEX                14095\n",
       "S                      14095\n",
       "SB                     14095\n",
       "SI                     14095\n",
       "SN                     14095\n",
       "SOOTPERCENTAGE          3890\n",
       "TI                     14095\n",
       "U100                    2316\n",
       "U75                     2316\n",
       "U50                     2316\n",
       "U25                     2316\n",
       "U20                     2316\n",
       "U14                     2118\n",
       "U6                      2118\n",
       "U4                      2118\n",
       "V                      14095\n",
       "V100                    3724\n",
       "V40                    14095\n",
       "ZN                     14095\n",
       "Y_LABEL                14095\n",
       "Name: count, dtype: int64"
      ]
     },
     "execution_count": 46,
     "metadata": {},
     "output_type": "execute_result"
    }
   ],
   "source": [
    "train.describe().loc['count'].astype(np.int64) # NA가 있는 컬럼은 뭐지? 뭔데 이렇게 NA가 많아."
   ]
  },
  {
   "cell_type": "markdown",
   "metadata": {},
   "source": []
  },
  {
   "cell_type": "code",
   "execution_count": 56,
   "metadata": {},
   "outputs": [],
   "source": [
    "# 원소 함유량과 Y_LABEL들과의 관계 파악\n",
    "train_visual0 = train.iloc[:, [0] + list(range(6, 16)) + [-1]]"
   ]
  },
  {
   "cell_type": "code",
   "execution_count": 64,
   "metadata": {},
   "outputs": [
    {
     "data": {
      "text/html": [
       "<div>\n",
       "<style scoped>\n",
       "    .dataframe tbody tr th:only-of-type {\n",
       "        vertical-align: middle;\n",
       "    }\n",
       "\n",
       "    .dataframe tbody tr th {\n",
       "        vertical-align: top;\n",
       "    }\n",
       "\n",
       "    .dataframe thead th {\n",
       "        text-align: right;\n",
       "    }\n",
       "</style>\n",
       "<table border=\"1\" class=\"dataframe\">\n",
       "  <thead>\n",
       "    <tr style=\"text-align: right;\">\n",
       "      <th></th>\n",
       "      <th>AG</th>\n",
       "      <th>AL</th>\n",
       "      <th>B</th>\n",
       "      <th>BA</th>\n",
       "      <th>BE</th>\n",
       "      <th>CA</th>\n",
       "      <th>CD</th>\n",
       "      <th>CO</th>\n",
       "      <th>CR</th>\n",
       "      <th>CU</th>\n",
       "    </tr>\n",
       "    <tr>\n",
       "      <th>Y_LABEL</th>\n",
       "      <th></th>\n",
       "      <th></th>\n",
       "      <th></th>\n",
       "      <th></th>\n",
       "      <th></th>\n",
       "      <th></th>\n",
       "      <th></th>\n",
       "      <th></th>\n",
       "      <th></th>\n",
       "      <th></th>\n",
       "    </tr>\n",
       "  </thead>\n",
       "  <tbody>\n",
       "    <tr>\n",
       "      <th>0</th>\n",
       "      <td>0.025054</td>\n",
       "      <td>2.864877</td>\n",
       "      <td>64.962225</td>\n",
       "      <td>0.599752</td>\n",
       "      <td>0.005818</td>\n",
       "      <td>1434.829895</td>\n",
       "      <td>0.015262</td>\n",
       "      <td>0.027381</td>\n",
       "      <td>3.175147</td>\n",
       "      <td>33.576792</td>\n",
       "    </tr>\n",
       "    <tr>\n",
       "      <th>1</th>\n",
       "      <td>0.034081</td>\n",
       "      <td>118.188695</td>\n",
       "      <td>53.995012</td>\n",
       "      <td>1.689942</td>\n",
       "      <td>0.011638</td>\n",
       "      <td>637.257689</td>\n",
       "      <td>0.019268</td>\n",
       "      <td>0.036575</td>\n",
       "      <td>4.631754</td>\n",
       "      <td>45.103907</td>\n",
       "    </tr>\n",
       "  </tbody>\n",
       "</table>\n",
       "</div>"
      ],
      "text/plain": [
       "               AG          AL          B        BA        BE           CA  \\\n",
       "Y_LABEL                                                                     \n",
       "0        0.025054    2.864877  64.962225  0.599752  0.005818  1434.829895   \n",
       "1        0.034081  118.188695  53.995012  1.689942  0.011638   637.257689   \n",
       "\n",
       "               CD        CO        CR         CU  \n",
       "Y_LABEL                                           \n",
       "0        0.015262  0.027381  3.175147  33.576792  \n",
       "1        0.019268  0.036575  4.631754  45.103907  "
      ]
     },
     "execution_count": 64,
     "metadata": {},
     "output_type": "execute_result"
    }
   ],
   "source": [
    "train_visual0.drop('ID', axis=1).groupby('Y_LABEL').mean()"
   ]
  },
  {
   "cell_type": "code",
   "execution_count": 65,
   "metadata": {},
   "outputs": [
    {
     "ename": "ValueError",
     "evalue": "Cannot use `hue` without `x` and `y`",
     "output_type": "error",
     "traceback": [
      "\u001b[1;31m---------------------------------------------------------------------------\u001b[0m",
      "\u001b[1;31mValueError\u001b[0m                                Traceback (most recent call last)",
      "Cell \u001b[1;32mIn [65], line 1\u001b[0m\n\u001b[1;32m----> 1\u001b[0m \u001b[43msns\u001b[49m\u001b[38;5;241;43m.\u001b[39;49m\u001b[43mbarplot\u001b[49m\u001b[43m(\u001b[49m\u001b[43mtrain_visual0\u001b[49m\u001b[38;5;241;43m.\u001b[39;49m\u001b[43mdrop\u001b[49m\u001b[43m(\u001b[49m\u001b[38;5;124;43m'\u001b[39;49m\u001b[38;5;124;43mID\u001b[39;49m\u001b[38;5;124;43m'\u001b[39;49m\u001b[43m,\u001b[49m\u001b[43m \u001b[49m\u001b[43maxis\u001b[49m\u001b[38;5;241;43m=\u001b[39;49m\u001b[38;5;241;43m1\u001b[39;49m\u001b[43m)\u001b[49m\u001b[38;5;241;43m.\u001b[39;49m\u001b[43mgroupby\u001b[49m\u001b[43m(\u001b[49m\u001b[38;5;124;43m'\u001b[39;49m\u001b[38;5;124;43mY_LABEL\u001b[39;49m\u001b[38;5;124;43m'\u001b[39;49m\u001b[43m)\u001b[49m\u001b[38;5;241;43m.\u001b[39;49m\u001b[43mmean\u001b[49m\u001b[43m(\u001b[49m\u001b[43m)\u001b[49m\u001b[43m,\u001b[49m\u001b[43m \u001b[49m\u001b[43mhue\u001b[49m\u001b[38;5;241;43m=\u001b[39;49m\u001b[38;5;124;43m'\u001b[39;49m\u001b[38;5;124;43mY_LABEL\u001b[39;49m\u001b[38;5;124;43m'\u001b[39;49m\u001b[43m)\u001b[49m\n",
      "File \u001b[1;32mc:\\Python\\Python310\\lib\\site-packages\\seaborn\\categorical.py:2754\u001b[0m, in \u001b[0;36mbarplot\u001b[1;34m(data, x, y, hue, order, hue_order, estimator, errorbar, n_boot, units, seed, orient, color, palette, saturation, width, errcolor, errwidth, capsize, dodge, ci, ax, **kwargs)\u001b[0m\n\u001b[0;32m   2751\u001b[0m \u001b[39mif\u001b[39;00m estimator \u001b[39mis\u001b[39;00m \u001b[39mlen\u001b[39m:\n\u001b[0;32m   2752\u001b[0m     estimator \u001b[39m=\u001b[39m \u001b[39m\"\u001b[39m\u001b[39msize\u001b[39m\u001b[39m\"\u001b[39m\n\u001b[1;32m-> 2754\u001b[0m plotter \u001b[39m=\u001b[39m _BarPlotter(x, y, hue, data, order, hue_order,\n\u001b[0;32m   2755\u001b[0m                       estimator, errorbar, n_boot, units, seed,\n\u001b[0;32m   2756\u001b[0m                       orient, color, palette, saturation,\n\u001b[0;32m   2757\u001b[0m                       width, errcolor, errwidth, capsize, dodge)\n\u001b[0;32m   2759\u001b[0m \u001b[39mif\u001b[39;00m ax \u001b[39mis\u001b[39;00m \u001b[39mNone\u001b[39;00m:\n\u001b[0;32m   2760\u001b[0m     ax \u001b[39m=\u001b[39m plt\u001b[39m.\u001b[39mgca()\n",
      "File \u001b[1;32mc:\\Python\\Python310\\lib\\site-packages\\seaborn\\categorical.py:1530\u001b[0m, in \u001b[0;36m_BarPlotter.__init__\u001b[1;34m(self, x, y, hue, data, order, hue_order, estimator, errorbar, n_boot, units, seed, orient, color, palette, saturation, width, errcolor, errwidth, capsize, dodge)\u001b[0m\n\u001b[0;32m   1525\u001b[0m \u001b[39mdef\u001b[39;00m \u001b[39m__init__\u001b[39m(\u001b[39mself\u001b[39m, x, y, hue, data, order, hue_order,\n\u001b[0;32m   1526\u001b[0m              estimator, errorbar, n_boot, units, seed,\n\u001b[0;32m   1527\u001b[0m              orient, color, palette, saturation, width,\n\u001b[0;32m   1528\u001b[0m              errcolor, errwidth, capsize, dodge):\n\u001b[0;32m   1529\u001b[0m     \u001b[39m\"\"\"Initialize the plotter.\"\"\"\u001b[39;00m\n\u001b[1;32m-> 1530\u001b[0m     \u001b[39mself\u001b[39;49m\u001b[39m.\u001b[39;49mestablish_variables(x, y, hue, data, orient,\n\u001b[0;32m   1531\u001b[0m                              order, hue_order, units)\n\u001b[0;32m   1532\u001b[0m     \u001b[39mself\u001b[39m\u001b[39m.\u001b[39mestablish_colors(color, palette, saturation)\n\u001b[0;32m   1533\u001b[0m     \u001b[39mself\u001b[39m\u001b[39m.\u001b[39mestimate_statistic(estimator, errorbar, n_boot, seed)\n",
      "File \u001b[1;32mc:\\Python\\Python310\\lib\\site-packages\\seaborn\\categorical.py:437\u001b[0m, in \u001b[0;36m_CategoricalPlotter.establish_variables\u001b[1;34m(self, x, y, hue, data, orient, order, hue_order, units)\u001b[0m\n\u001b[0;32m    435\u001b[0m \u001b[39mif\u001b[39;00m hue \u001b[39mis\u001b[39;00m \u001b[39mnot\u001b[39;00m \u001b[39mNone\u001b[39;00m:\n\u001b[0;32m    436\u001b[0m     error \u001b[39m=\u001b[39m \u001b[39m\"\u001b[39m\u001b[39mCannot use `hue` without `x` and `y`\u001b[39m\u001b[39m\"\u001b[39m\n\u001b[1;32m--> 437\u001b[0m     \u001b[39mraise\u001b[39;00m \u001b[39mValueError\u001b[39;00m(error)\n\u001b[0;32m    439\u001b[0m \u001b[39m# No hue grouping with wide inputs\u001b[39;00m\n\u001b[0;32m    440\u001b[0m plot_hues \u001b[39m=\u001b[39m \u001b[39mNone\u001b[39;00m\n",
      "\u001b[1;31mValueError\u001b[0m: Cannot use `hue` without `x` and `y`"
     ]
    }
   ],
   "source": []
  },
  {
   "cell_type": "code",
   "execution_count": null,
   "metadata": {},
   "outputs": [],
   "source": []
  }
 ],
 "metadata": {
  "kernelspec": {
   "display_name": "Python 3.10.7 64-bit",
   "language": "python",
   "name": "python3"
  },
  "language_info": {
   "codemirror_mode": {
    "name": "ipython",
    "version": 3
   },
   "file_extension": ".py",
   "mimetype": "text/x-python",
   "name": "python",
   "nbconvert_exporter": "python",
   "pygments_lexer": "ipython3",
   "version": "3.10.7"
  },
  "orig_nbformat": 4,
  "vscode": {
   "interpreter": {
    "hash": "d3e10ef16274dd72e574b8fa73b58450b957d8421a2901baded3cca26fcf5dda"
   }
  }
 },
 "nbformat": 4,
 "nbformat_minor": 2
}
