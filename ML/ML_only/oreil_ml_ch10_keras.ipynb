{
 "cells": [
  {
   "cell_type": "code",
   "execution_count": 1,
   "metadata": {},
   "outputs": [],
   "source": [
    "import tensorflow as tf\n",
    "from tensorflow import keras\n",
    "import numpy as np\n",
    "import pandas as pd"
   ]
  },
  {
   "cell_type": "code",
   "execution_count": 2,
   "metadata": {},
   "outputs": [],
   "source": [
    "'''\n",
    "텐서플로를 이용해 간단한 이미지 분류기를 만들어 볼 생각입니다. by Oreilang\n",
    "'''\n",
    "\n",
    "# 케라스에서 제공하는 데이터셋 다운로드 유틸리티 함수\n",
    "fashion_mnist = keras.datasets.fashion_mnist\n",
    "(X_train_full, y_train_full), (X_test, y_test) = fashion_mnist.load_data()"
   ]
  },
  {
   "cell_type": "code",
   "execution_count": 3,
   "metadata": {},
   "outputs": [
    {
     "data": {
      "text/plain": [
       "(60000, 28, 28)"
      ]
     },
     "execution_count": 3,
     "metadata": {},
     "output_type": "execute_result"
    }
   ],
   "source": [
    "X_train_full.shape"
   ]
  },
  {
   "cell_type": "code",
   "execution_count": 4,
   "metadata": {},
   "outputs": [
    {
     "data": {
      "text/plain": [
       "dtype('uint8')"
      ]
     },
     "execution_count": 4,
     "metadata": {},
     "output_type": "execute_result"
    }
   ],
   "source": [
    "X_train_full.dtype"
   ]
  },
  {
   "cell_type": "code",
   "execution_count": 5,
   "metadata": {},
   "outputs": [],
   "source": [
    "'''\n",
    "픽셀이 0~255의 값을 가지는 정수이고, 그래서 uint8 (8bit의 unsigned 정수)이다. \n",
    "이걸 255로 나눠서 0~1의 값을 가지도록 변환하고, validation 데이터셋과 train 데이터셋을 분리하겠다.\n",
    "'''\n",
    "\n",
    "X_valid, X_train = X_train_full[:5000] / 255.0, X_train_full[5000:] / 255.0\n",
    "y_valid, y_train = y_train_full[:5000], y_train_full[5000:]\n",
    "X_test = X_test / 255.0"
   ]
  },
  {
   "cell_type": "code",
   "execution_count": 6,
   "metadata": {},
   "outputs": [],
   "source": [
    "class_names = [\"T-shirt/top\", \"Trouser\", \"Pullover\", \"Dress\", \"Coat\",\n",
    "               \"Sandal\", \"Shirt\", \"Sneaker\", \"Bag\", \"Ankle boot\"]"
   ]
  },
  {
   "cell_type": "code",
   "execution_count": 7,
   "metadata": {},
   "outputs": [],
   "source": [
    "# 두 개의 은닉층으로 이루어진 분류용 다층 퍼셉트론입니다.\n",
    "model = keras.models.Sequential() ## 모델의 layer들의 container. Sequential 모델을 만든다. \n",
    "# 가장 간단한 케라스의 신경망 모델입니다. 순서대로 연결된 층을 일렬로 쌓아서 구성한다. 이걸 Sequential API라고 부릅니다.\n",
    "model.add(keras.layers.Flatten(input_shape=[28, 28])) ## (28, 28) shape의 input을 flatten한다. (X.reshape(-1, 28*28)을 계산하는 것과 동일)\n",
    "model.add(keras.layers.Dense(300, activation=\"relu\")) ## 뉴런 300개 & relu activation을 가지는 Dense 층\n",
    "model.add(keras.layers.Dense(100, activation=\"relu\")) ## 뉴런 100개 & relu activation을 가지는 Dense 층\n",
    "model.add(keras.layers.Dense(10, activation=\"softmax\")) ## 뉴런 10개 & softmax activation을 가지는 Dense층.(출력층은 이런 식으로 작성되어야 함)"
   ]
  },
  {
   "cell_type": "code",
   "execution_count": 8,
   "metadata": {},
   "outputs": [
    {
     "name": "stdout",
     "output_type": "stream",
     "text": [
      "Model: \"sequential\"\n",
      "_________________________________________________________________\n",
      " Layer (type)                Output Shape              Param #   \n",
      "=================================================================\n",
      " flatten (Flatten)           (None, 784)               0         \n",
      "                                                                 \n",
      " dense (Dense)               (None, 300)               235500    \n",
      "                                                                 \n",
      " dense_1 (Dense)             (None, 100)               30100     \n",
      "                                                                 \n",
      " dense_2 (Dense)             (None, 10)                1010      \n",
      "                                                                 \n",
      "=================================================================\n",
      "Total params: 266,610\n",
      "Trainable params: 266,610\n",
      "Non-trainable params: 0\n",
      "_________________________________________________________________\n"
     ]
    }
   ],
   "source": [
    "model.summary()"
   ]
  },
  {
   "cell_type": "code",
   "execution_count": 9,
   "metadata": {},
   "outputs": [
    {
     "data": {
      "text/plain": [
       "235500"
      ]
     },
     "execution_count": 9,
     "metadata": {},
     "output_type": "execute_result"
    }
   ],
   "source": [
    "(784+1)*300 # 784 : dense_2의 input, 1 : bias. --> input node 수 : (784+1), 300 : 각 input 노드마다 가져야 하는 weight의 수."
   ]
  },
  {
   "cell_type": "code",
   "execution_count": 10,
   "metadata": {},
   "outputs": [
    {
     "data": {
      "text/plain": [
       "[<keras.layers.reshaping.flatten.Flatten at 0x1417064e860>,\n",
       " <keras.layers.core.dense.Dense at 0x141707047f0>,\n",
       " <keras.layers.core.dense.Dense at 0x141707057b0>,\n",
       " <keras.layers.core.dense.Dense at 0x14170705720>]"
      ]
     },
     "execution_count": 10,
     "metadata": {},
     "output_type": "execute_result"
    }
   ],
   "source": [
    "model.layers"
   ]
  },
  {
   "cell_type": "code",
   "execution_count": 11,
   "metadata": {},
   "outputs": [],
   "source": [
    "hidden1 = model.layers[1]"
   ]
  },
  {
   "cell_type": "code",
   "execution_count": 12,
   "metadata": {},
   "outputs": [
    {
     "data": {
      "text/plain": [
       "'dense'"
      ]
     },
     "execution_count": 12,
     "metadata": {},
     "output_type": "execute_result"
    }
   ],
   "source": [
    "hidden1.name"
   ]
  },
  {
   "cell_type": "code",
   "execution_count": 13,
   "metadata": {},
   "outputs": [],
   "source": [
    "weights, biases = hidden1.get_weights()"
   ]
  },
  {
   "cell_type": "code",
   "execution_count": 14,
   "metadata": {},
   "outputs": [
    {
     "data": {
      "text/plain": [
       "array([[ 0.00333101, -0.00870356,  0.02183766, ..., -0.0711413 ,\n",
       "        -0.06405613, -0.00489669],\n",
       "       [ 0.0454184 ,  0.02310432, -0.02287433, ..., -0.01848421,\n",
       "         0.00125761,  0.06927785],\n",
       "       [ 0.03189403,  0.01523967,  0.02961459, ...,  0.00800841,\n",
       "         0.02085385,  0.02280989],\n",
       "       ...,\n",
       "       [-0.02593695, -0.05821452, -0.06201033, ...,  0.03838222,\n",
       "        -0.02246875,  0.06139304],\n",
       "       [-0.0553412 , -0.04364005, -0.01543853, ..., -0.01912199,\n",
       "        -0.05166727, -0.01848609],\n",
       "       [ 0.01699739, -0.02952962, -0.03903154, ...,  0.01390575,\n",
       "        -0.01952998,  0.00988534]], dtype=float32)"
      ]
     },
     "execution_count": 14,
     "metadata": {},
     "output_type": "execute_result"
    }
   ],
   "source": [
    "weights"
   ]
  },
  {
   "cell_type": "code",
   "execution_count": 15,
   "metadata": {},
   "outputs": [
    {
     "data": {
      "text/plain": [
       "array([0., 0., 0., 0., 0., 0., 0., 0., 0., 0., 0., 0., 0., 0., 0., 0., 0.,\n",
       "       0., 0., 0., 0., 0., 0., 0., 0., 0., 0., 0., 0., 0., 0., 0., 0., 0.,\n",
       "       0., 0., 0., 0., 0., 0., 0., 0., 0., 0., 0., 0., 0., 0., 0., 0., 0.,\n",
       "       0., 0., 0., 0., 0., 0., 0., 0., 0., 0., 0., 0., 0., 0., 0., 0., 0.,\n",
       "       0., 0., 0., 0., 0., 0., 0., 0., 0., 0., 0., 0., 0., 0., 0., 0., 0.,\n",
       "       0., 0., 0., 0., 0., 0., 0., 0., 0., 0., 0., 0., 0., 0., 0., 0., 0.,\n",
       "       0., 0., 0., 0., 0., 0., 0., 0., 0., 0., 0., 0., 0., 0., 0., 0., 0.,\n",
       "       0., 0., 0., 0., 0., 0., 0., 0., 0., 0., 0., 0., 0., 0., 0., 0., 0.,\n",
       "       0., 0., 0., 0., 0., 0., 0., 0., 0., 0., 0., 0., 0., 0., 0., 0., 0.,\n",
       "       0., 0., 0., 0., 0., 0., 0., 0., 0., 0., 0., 0., 0., 0., 0., 0., 0.,\n",
       "       0., 0., 0., 0., 0., 0., 0., 0., 0., 0., 0., 0., 0., 0., 0., 0., 0.,\n",
       "       0., 0., 0., 0., 0., 0., 0., 0., 0., 0., 0., 0., 0., 0., 0., 0., 0.,\n",
       "       0., 0., 0., 0., 0., 0., 0., 0., 0., 0., 0., 0., 0., 0., 0., 0., 0.,\n",
       "       0., 0., 0., 0., 0., 0., 0., 0., 0., 0., 0., 0., 0., 0., 0., 0., 0.,\n",
       "       0., 0., 0., 0., 0., 0., 0., 0., 0., 0., 0., 0., 0., 0., 0., 0., 0.,\n",
       "       0., 0., 0., 0., 0., 0., 0., 0., 0., 0., 0., 0., 0., 0., 0., 0., 0.,\n",
       "       0., 0., 0., 0., 0., 0., 0., 0., 0., 0., 0., 0., 0., 0., 0., 0., 0.,\n",
       "       0., 0., 0., 0., 0., 0., 0., 0., 0., 0., 0.], dtype=float32)"
      ]
     },
     "execution_count": 15,
     "metadata": {},
     "output_type": "execute_result"
    }
   ],
   "source": [
    "biases"
   ]
  },
  {
   "cell_type": "code",
   "execution_count": 17,
   "metadata": {},
   "outputs": [
    {
     "name": "stdout",
     "output_type": "stream",
     "text": [
      "Epoch 1/30\n",
      "1719/1719 [==============================] - 4s 2ms/step - loss: 0.7309 - accuracy: 0.7603 - val_loss: 0.5074 - val_accuracy: 0.8306\n",
      "Epoch 2/30\n",
      "1719/1719 [==============================] - 4s 3ms/step - loss: 0.4883 - accuracy: 0.8317 - val_loss: 0.4408 - val_accuracy: 0.8500\n",
      "Epoch 3/30\n",
      "1719/1719 [==============================] - 4s 2ms/step - loss: 0.4428 - accuracy: 0.8456 - val_loss: 0.4108 - val_accuracy: 0.8580\n",
      "Epoch 4/30\n",
      "1719/1719 [==============================] - 4s 3ms/step - loss: 0.4154 - accuracy: 0.8560 - val_loss: 0.3970 - val_accuracy: 0.8652\n",
      "Epoch 5/30\n",
      "1719/1719 [==============================] - 4s 2ms/step - loss: 0.3947 - accuracy: 0.8625 - val_loss: 0.3815 - val_accuracy: 0.8672\n",
      "Epoch 6/30\n",
      "1719/1719 [==============================] - 4s 2ms/step - loss: 0.3789 - accuracy: 0.8679 - val_loss: 0.3681 - val_accuracy: 0.8732\n",
      "Epoch 7/30\n",
      "1719/1719 [==============================] - 4s 2ms/step - loss: 0.3657 - accuracy: 0.8724 - val_loss: 0.3792 - val_accuracy: 0.8690\n",
      "Epoch 8/30\n",
      "1719/1719 [==============================] - 4s 2ms/step - loss: 0.3530 - accuracy: 0.8767 - val_loss: 0.3520 - val_accuracy: 0.8764\n",
      "Epoch 9/30\n",
      "1719/1719 [==============================] - 4s 3ms/step - loss: 0.3431 - accuracy: 0.8789 - val_loss: 0.3536 - val_accuracy: 0.8776\n",
      "Epoch 10/30\n",
      "1719/1719 [==============================] - 8s 5ms/step - loss: 0.3334 - accuracy: 0.8820 - val_loss: 0.3686 - val_accuracy: 0.8700\n",
      "Epoch 11/30\n",
      "1719/1719 [==============================] - 11s 6ms/step - loss: 0.3248 - accuracy: 0.8847 - val_loss: 0.3380 - val_accuracy: 0.8776\n",
      "Epoch 12/30\n",
      "1719/1719 [==============================] - 11s 6ms/step - loss: 0.3163 - accuracy: 0.8873 - val_loss: 0.3390 - val_accuracy: 0.8794\n",
      "Epoch 13/30\n",
      "1719/1719 [==============================] - 12s 7ms/step - loss: 0.3092 - accuracy: 0.8878 - val_loss: 0.3461 - val_accuracy: 0.8772\n",
      "Epoch 14/30\n",
      "1719/1719 [==============================] - 13s 7ms/step - loss: 0.3011 - accuracy: 0.8930 - val_loss: 0.3286 - val_accuracy: 0.8816\n",
      "Epoch 15/30\n",
      "1719/1719 [==============================] - 13s 8ms/step - loss: 0.2948 - accuracy: 0.8943 - val_loss: 0.3174 - val_accuracy: 0.8856\n",
      "Epoch 16/30\n",
      "1719/1719 [==============================] - 11s 6ms/step - loss: 0.2888 - accuracy: 0.8959 - val_loss: 0.3161 - val_accuracy: 0.8872\n",
      "Epoch 17/30\n",
      "1719/1719 [==============================] - 10s 6ms/step - loss: 0.2843 - accuracy: 0.8981 - val_loss: 0.3142 - val_accuracy: 0.8880\n",
      "Epoch 18/30\n",
      "1719/1719 [==============================] - 13s 7ms/step - loss: 0.2772 - accuracy: 0.9004 - val_loss: 0.3344 - val_accuracy: 0.8834\n",
      "Epoch 19/30\n",
      "1719/1719 [==============================] - 10s 6ms/step - loss: 0.2726 - accuracy: 0.9024 - val_loss: 0.3142 - val_accuracy: 0.8878\n",
      "Epoch 20/30\n",
      "1719/1719 [==============================] - 5s 3ms/step - loss: 0.2678 - accuracy: 0.9035 - val_loss: 0.3157 - val_accuracy: 0.8880\n",
      "Epoch 21/30\n",
      "1719/1719 [==============================] - 5s 3ms/step - loss: 0.2617 - accuracy: 0.9062 - val_loss: 0.3067 - val_accuracy: 0.8922\n",
      "Epoch 22/30\n",
      "1719/1719 [==============================] - 4s 3ms/step - loss: 0.2581 - accuracy: 0.9073 - val_loss: 0.2987 - val_accuracy: 0.8896\n",
      "Epoch 23/30\n",
      "1719/1719 [==============================] - 5s 3ms/step - loss: 0.2524 - accuracy: 0.9090 - val_loss: 0.3183 - val_accuracy: 0.8874\n",
      "Epoch 24/30\n",
      "1719/1719 [==============================] - 5s 3ms/step - loss: 0.2491 - accuracy: 0.9103 - val_loss: 0.3072 - val_accuracy: 0.8940\n",
      "Epoch 25/30\n",
      "1719/1719 [==============================] - 5s 3ms/step - loss: 0.2456 - accuracy: 0.9121 - val_loss: 0.3137 - val_accuracy: 0.8844\n",
      "Epoch 26/30\n",
      "1719/1719 [==============================] - 5s 3ms/step - loss: 0.2400 - accuracy: 0.9131 - val_loss: 0.2975 - val_accuracy: 0.8944\n",
      "Epoch 27/30\n",
      "1719/1719 [==============================] - 4s 3ms/step - loss: 0.2363 - accuracy: 0.9155 - val_loss: 0.2979 - val_accuracy: 0.8930\n",
      "Epoch 28/30\n",
      "1719/1719 [==============================] - 4s 2ms/step - loss: 0.2318 - accuracy: 0.9163 - val_loss: 0.2995 - val_accuracy: 0.8972\n",
      "Epoch 29/30\n",
      "1719/1719 [==============================] - 4s 3ms/step - loss: 0.2287 - accuracy: 0.9179 - val_loss: 0.2975 - val_accuracy: 0.8922\n",
      "Epoch 30/30\n",
      "1719/1719 [==============================] - 4s 3ms/step - loss: 0.2245 - accuracy: 0.9194 - val_loss: 0.2972 - val_accuracy: 0.8950\n"
     ]
    }
   ],
   "source": [
    "# 모델 컴파일\n",
    "model.compile(loss=\"sparse_categorical_crossentropy\",\n",
    "              optimizer=\"sgd\",\n",
    "              metrics=[\"accuracy\"])\n",
    "\n",
    "# 모델 훈련\n",
    "history = model.fit(X_train, y_train, epochs=30, validation_data=(X_valid, y_valid))"
   ]
  },
  {
   "cell_type": "code",
   "execution_count": 7,
   "metadata": {},
   "outputs": [],
   "source": [
    "import pandas as pd\n",
    "import matplotlib.pyplot as plt"
   ]
  },
  {
   "cell_type": "code",
   "execution_count": 22,
   "metadata": {},
   "outputs": [
    {
     "data": {
      "image/png": "[encoded data removed]",
      "text/plain": [
       "<Figure size 800x500 with 1 Axes>"
      ]
     },
     "metadata": {},
     "output_type": "display_data"
    }
   ],
   "source": [
    "pd.DataFrame(history.history).plot(figsize=(8, 5))\n",
    "plt.grid(True)\n",
    "plt.gca().set_ylim(0, 1)\n",
    "plt.show()"
   ]
  },
  {
   "cell_type": "code",
   "execution_count": 23,
   "metadata": {},
   "outputs": [
    {
     "name": "stdout",
     "output_type": "stream",
     "text": [
      "313/313 [==============================] - 0s 1ms/step - loss: 0.3294 - accuracy: 0.8818\n"
     ]
    },
    {
     "data": {
      "text/plain": [
       "[0.32937079668045044, 0.8817999958992004]"
      ]
     },
     "execution_count": 23,
     "metadata": {},
     "output_type": "execute_result"
    }
   ],
   "source": [
    "model.evaluate(X_test, y_test) # loss와 metric을 둘 다 넣었으므로, 두 개의 결과값이 나온다."
   ]
  },
  {
   "cell_type": "code",
   "execution_count": 24,
   "metadata": {},
   "outputs": [
    {
     "name": "stdout",
     "output_type": "stream",
     "text": [
      "1/1 [==============================] - 0s 75ms/step\n"
     ]
    },
    {
     "data": {
      "text/plain": [
       "array([[0.  , 0.  , 0.  , 0.  , 0.  , 0.  , 0.  , 0.02, 0.  , 0.98],\n",
       "       [0.  , 0.  , 1.  , 0.  , 0.  , 0.  , 0.  , 0.  , 0.  , 0.  ],\n",
       "       [0.  , 1.  , 0.  , 0.  , 0.  , 0.  , 0.  , 0.  , 0.  , 0.  ]],\n",
       "      dtype=float32)"
      ]
     },
     "execution_count": 24,
     "metadata": {},
     "output_type": "execute_result"
    }
   ],
   "source": [
    "X_new = X_test[:3]\n",
    "y_proba = model.predict(X_new)\n",
    "y_proba.round(2)"
   ]
  },
  {
   "cell_type": "code",
   "execution_count": 25,
   "metadata": {},
   "outputs": [
    {
     "ename": "AttributeError",
     "evalue": "'Sequential' object has no attribute 'predict_classes'",
     "output_type": "error",
     "traceback": [
      "\u001b[1;31m---------------------------------------------------------------------------\u001b[0m",
      "\u001b[1;31mAttributeError\u001b[0m                            Traceback (most recent call last)",
      "Cell \u001b[1;32mIn[25], line 1\u001b[0m\n\u001b[1;32m----> 1\u001b[0m y_pred \u001b[38;5;241m=\u001b[39m \u001b[43mmodel\u001b[49m\u001b[38;5;241;43m.\u001b[39;49m\u001b[43mpredict_classes\u001b[49m(X_new)\n\u001b[0;32m      2\u001b[0m y_pred\n",
      "\u001b[1;31mAttributeError\u001b[0m: 'Sequential' object has no attribute 'predict_classes'"
     ]
    }
   ],
   "source": [
    "y_pred = model.predict_classes(X_new)\n",
    "y_pred"
   ]
  },
  {
   "cell_type": "markdown",
   "metadata": {},
   "source": [
    "## 캘리포니아 주택가격 데이터셋 활용하여 회귀 신경망 활용"
   ]
  },
  {
   "cell_type": "code",
   "execution_count": 8,
   "metadata": {},
   "outputs": [],
   "source": [
    "from sklearn.datasets import fetch_california_housing\n",
    "from sklearn.model_selection import train_test_split\n",
    "from sklearn.preprocessing import StandardScaler\n",
    "\n",
    "housing = fetch_california_housing()\n",
    "\n",
    "X_train_full, X_test, y_train_full, y_test = train_test_split(housing.data, housing.target)\n",
    "X_train, X_valid, y_train, y_valid = train_test_split(X_train_full, y_train_full)\n",
    "\n",
    "scaler = StandardScaler()\n",
    "X_train = scaler.fit_transform(X_train)\n",
    "X_valid = scaler.transform(X_valid)\n",
    "X_test = scaler.transform(X_test)\n"
   ]
  },
  {
   "cell_type": "code",
   "execution_count": 9,
   "metadata": {},
   "outputs": [
    {
     "data": {
      "text/plain": [
       "(11610, 8)"
      ]
     },
     "execution_count": 9,
     "metadata": {},
     "output_type": "execute_result"
    }
   ],
   "source": [
    "X_train.shape"
   ]
  },
  {
   "cell_type": "code",
   "execution_count": 30,
   "metadata": {},
   "outputs": [
    {
     "name": "stderr",
     "output_type": "stream",
     "text": [
      "WARNING:absl:`lr` is deprecated, please use `learning_rate` instead, or use the legacy optimizer, e.g.,tf.keras.optimizers.legacy.SGD.\n"
     ]
    },
    {
     "name": "stdout",
     "output_type": "stream",
     "text": [
      "Epoch 1/20\n",
      "363/363 [==============================] - 1s 2ms/step - loss: 0.9171 - val_loss: 0.6190\n",
      "Epoch 2/20\n",
      "363/363 [==============================] - 1s 2ms/step - loss: 0.7376 - val_loss: 0.7256\n",
      "Epoch 3/20\n",
      "363/363 [==============================] - 1s 2ms/step - loss: 0.9363 - val_loss: 0.4865\n",
      "Epoch 4/20\n",
      "363/363 [==============================] - 1s 2ms/step - loss: 0.5014 - val_loss: 0.4745\n",
      "Epoch 5/20\n",
      "363/363 [==============================] - 1s 2ms/step - loss: 0.4637 - val_loss: 0.4462\n",
      "Epoch 6/20\n",
      "363/363 [==============================] - 1s 2ms/step - loss: 0.4374 - val_loss: 0.4298\n",
      "Epoch 7/20\n",
      "363/363 [==============================] - 1s 2ms/step - loss: 0.4443 - val_loss: 0.4395\n",
      "Epoch 8/20\n",
      "363/363 [==============================] - 1s 2ms/step - loss: 0.4268 - val_loss: 0.4261\n",
      "Epoch 9/20\n",
      "363/363 [==============================] - 1s 2ms/step - loss: 0.4131 - val_loss: 0.4013\n",
      "Epoch 10/20\n",
      "363/363 [==============================] - 1s 2ms/step - loss: 0.4022 - val_loss: 0.3923\n",
      "Epoch 11/20\n",
      "363/363 [==============================] - 1s 2ms/step - loss: 0.3938 - val_loss: 0.3867\n",
      "Epoch 12/20\n",
      "363/363 [==============================] - 1s 2ms/step - loss: 0.3877 - val_loss: 0.3825\n",
      "Epoch 13/20\n",
      "363/363 [==============================] - 1s 2ms/step - loss: 0.3829 - val_loss: 0.3775\n",
      "Epoch 14/20\n",
      "363/363 [==============================] - 1s 2ms/step - loss: 0.3796 - val_loss: 0.3794\n",
      "Epoch 15/20\n",
      "363/363 [==============================] - 1s 1ms/step - loss: 0.3757 - val_loss: 0.3760\n",
      "Epoch 16/20\n",
      "363/363 [==============================] - 1s 1ms/step - loss: 0.3722 - val_loss: 0.3697\n",
      "Epoch 17/20\n",
      "363/363 [==============================] - 0s 1ms/step - loss: 0.3698 - val_loss: 0.3669\n",
      "Epoch 18/20\n",
      "363/363 [==============================] - 1s 1ms/step - loss: 0.3693 - val_loss: 0.3669\n",
      "Epoch 19/20\n",
      "363/363 [==============================] - 1s 1ms/step - loss: 0.3648 - val_loss: 0.3628\n",
      "Epoch 20/20\n",
      "363/363 [==============================] - 1s 2ms/step - loss: 0.4010 - val_loss: 0.3795\n",
      "162/162 [==============================] - 0s 1ms/step - loss: 0.3777\n",
      "1/1 [==============================] - 0s 42ms/step\n"
     ]
    }
   ],
   "source": [
    "model = keras.models.Sequential([\n",
    "    keras.layers.Dense(30, activation=\"relu\", input_shape=X_train.shape[1:]), # X_train의 data개수가 0, 그 이후가 레코드 하나의 크기.\n",
    "    keras.layers.Dense(1)\n",
    "])\n",
    "model.compile(loss=\"mean_squared_error\", optimizer=keras.optimizers.SGD(lr=0.01))\n",
    "'''\n",
    "분류 모델일 때는 아래와 같이 compile 했었다.\n",
    "model.compile(loss=\"sparse_categorical_crossentropy\",\n",
    "              optimizer=\"sgd\",\n",
    "              metrics=[\"accuracy\"])\n",
    "회귀 모델일 때의 compile 메소드에는 metrics를 넣지 않는데 이유가 ?\n",
    "'''\n",
    "\n",
    "history = model.fit(X_train, y_train, epochs=20, validation_data=(X_valid, y_valid))\n",
    "mse_test = model.evaluate(X_test, y_test) # compile 시에 loss만 집어넣었으므로, mse_test도 loss만 나오게 함.\n",
    "X_new = X_test[:3]\n",
    "y_pred = model.predict(X_new)"
   ]
  },
  {
   "cell_type": "code",
   "execution_count": 35,
   "metadata": {},
   "outputs": [],
   "source": [
    "# Wide & Deep Neural Network를 활용한 캘리포니아 주택 문제 해결\n",
    "input_ = keras.layers.Input(shape=X_train.shape[1:])\n",
    "hidden1 = keras.layers.Dense(30, activation=\"relu\")(input_)\n",
    "hidden2 = keras.layers.Dense(30, activation=\"relu\")(hidden1)\n",
    "concat = keras.layers.Concatenate()([input_, hidden2])\n",
    "output = keras.layers.Dense(1)(concat)\n",
    "model = keras.Model(inputs=[input_], outputs=[output])"
   ]
  },
  {
   "cell_type": "code",
   "execution_count": 45,
   "metadata": {},
   "outputs": [],
   "source": [
    "# 딥러닝 구조를 코드로 짜기 전에 먼저 그림으로 구조를 그려놓고, 그에 따라서 해나가는 게 좋을 듯\n",
    "# 애초에 딥러닝 구조를 스스로 짜 놓을 필요성이 앞으로 있을지는 모르겠지만(pretrained model?)\n",
    "input_A = keras.layers.Input(shape=[5], name=\"wide_input\")\n",
    "input_B = keras.layers.Input(shape=[6], name=\"deep_input\")\n",
    "hidden1 = keras.layers.Dense(30, activation=\"relu\")(input_B)\n",
    "hidden2 = keras.layers.Dense(30, activation=\"relu\")(hidden1)\n",
    "concat = keras.layers.Concatenate()([input_A, hidden2])\n",
    "output = keras.layers.Dense(1, name=\"output\")(concat)\n",
    "model = keras.Model(inputs=[input_A, input_B], outputs=[output])"
   ]
  },
  {
   "cell_type": "code",
   "execution_count": 46,
   "metadata": {},
   "outputs": [
    {
     "name": "stderr",
     "output_type": "stream",
     "text": [
      "WARNING:absl:`lr` is deprecated, please use `learning_rate` instead, or use the legacy optimizer, e.g.,tf.keras.optimizers.legacy.SGD.\n"
     ]
    },
    {
     "name": "stdout",
     "output_type": "stream",
     "text": [
      "Epoch 1/20\n",
      "363/363 [==============================] - 1s 2ms/step - loss: 0.7949 - val_loss: 0.5446\n",
      "Epoch 2/20\n",
      "363/363 [==============================] - 1s 2ms/step - loss: 0.4936 - val_loss: 0.5392\n",
      "Epoch 3/20\n",
      "363/363 [==============================] - 1s 2ms/step - loss: 0.4510 - val_loss: 0.4727\n",
      "Epoch 4/20\n",
      "363/363 [==============================] - 1s 2ms/step - loss: 0.4274 - val_loss: 0.4353\n",
      "Epoch 5/20\n",
      "363/363 [==============================] - 1s 2ms/step - loss: 0.4456 - val_loss: 0.4401\n",
      "Epoch 6/20\n",
      "363/363 [==============================] - 1s 2ms/step - loss: 0.4212 - val_loss: 0.4544\n",
      "Epoch 7/20\n",
      "363/363 [==============================] - 1s 2ms/step - loss: 0.4016 - val_loss: 0.4122\n",
      "Epoch 8/20\n",
      "363/363 [==============================] - 1s 2ms/step - loss: 0.3934 - val_loss: 0.4267\n",
      "Epoch 9/20\n",
      "363/363 [==============================] - 1s 2ms/step - loss: 0.3924 - val_loss: 0.3939\n",
      "Epoch 10/20\n",
      "363/363 [==============================] - 1s 1ms/step - loss: 0.3811 - val_loss: 0.3859\n",
      "Epoch 11/20\n",
      "363/363 [==============================] - 1s 1ms/step - loss: 0.3764 - val_loss: 0.3835\n",
      "Epoch 12/20\n",
      "363/363 [==============================] - 1s 2ms/step - loss: 0.3721 - val_loss: 0.3821\n",
      "Epoch 13/20\n",
      "363/363 [==============================] - 1s 2ms/step - loss: 0.3666 - val_loss: 0.3794\n",
      "Epoch 14/20\n",
      "363/363 [==============================] - 1s 2ms/step - loss: 0.3672 - val_loss: 0.3665\n",
      "Epoch 15/20\n",
      "363/363 [==============================] - 1s 1ms/step - loss: 0.3594 - val_loss: 0.3704\n",
      "Epoch 16/20\n",
      "363/363 [==============================] - 1s 2ms/step - loss: 0.3554 - val_loss: 0.3575\n",
      "Epoch 17/20\n",
      "363/363 [==============================] - 1s 1ms/step - loss: 0.3601 - val_loss: 0.3575\n",
      "Epoch 18/20\n",
      "363/363 [==============================] - 1s 2ms/step - loss: 0.3485 - val_loss: 0.3585\n",
      "Epoch 19/20\n",
      "363/363 [==============================] - 1s 2ms/step - loss: 0.3468 - val_loss: 0.3595\n",
      "Epoch 20/20\n",
      "363/363 [==============================] - 1s 2ms/step - loss: 0.3433 - val_loss: 0.3449\n",
      "162/162 [==============================] - 0s 1ms/step - loss: 0.3542\n",
      "1/1 [==============================] - 0s 49ms/step\n"
     ]
    }
   ],
   "source": [
    "model.compile(loss=\"mse\", optimizer=keras.optimizers.SGD(lr=1e-3))\n",
    "\n",
    "X_train_A, X_train_B = X_train[:, :5], X_train[:, 2:]\n",
    "X_valid_A, X_valid_B = X_valid[:, :5], X_valid[:, 2:]\n",
    "X_test_A, X_test_B = X_test[:, :5], X_test[:, 2:]\n",
    "X_new_A, X_new_B = X_test_A[:3], X_test_B[:3]\n",
    "\n",
    "history = model.fit((X_train_A, X_train_B), y_train, epochs=20, validation_data=((X_valid_A, X_valid_B), y_valid))\n",
    "mse_test = model.evaluate((X_test_A, X_test_B), y_test)\n",
    "y_pred = model.predict((X_new_A, X_new_B))"
   ]
  },
  {
   "cell_type": "markdown",
   "metadata": {},
   "source": [
    "#### 서브클래싱 API로 동적 모델 만들기.\n",
    "\n",
    "시퀀셜 API, 함수형 API는 모두 선언적이다. 그러나 어떤 모델의 경우 반복문을 돌거나 하는 등, 커스텀해야 할 것들이 많다. customize를 더 깊은 곳까지 하고 싶다면 서브클래싱 API를 사용해서 직접 층을 구성할 수 있다."
   ]
  },
  {
   "cell_type": "code",
   "execution_count": 38,
   "metadata": {},
   "outputs": [],
   "source": [
    "class WideAndDeepModel(keras.Model):\n",
    "    def __init__(self, units=30, activation=\"relu\", **kwargs):\n",
    "        super().__init__(**kwargs)  # 표준 매개변수에 대한 처리\n",
    "        self.hidden1 = keras.layers.Dense(units, activation=activation, name=\"hidden1\")\n",
    "        self.hidden2 = keras.layers.Dense(units, activation=activation, name=\"hidden2\")\n",
    "        self.main_output = keras.layers.Dense(1, name=\"main_output\")\n",
    "        self.aux_output = keras.layers.Dense(1, name=\"aux_output\")\n",
    "\n",
    "    def call(self, inputs):\n",
    "        input_A, input_B = inputs\n",
    "        hidden1 = self.hidden1(input_B)\n",
    "        hidden2 = self.hidden2(hidden1)\n",
    "        concat = keras.layers.concatenate([input_A, hidden2])\n",
    "        main_output = self.main_output(concat)\n",
    "        aux_output = self.aux_output(hidden2)     # main_output을 위한 층과 aux_output을 위한 층은 다른 층이므로 다른 변수에 만들어줘야 한다.\n",
    "        return main_output, aux_output\n",
    "\n",
    "model1 = WideAndDeepModel()"
   ]
  },
  {
   "cell_type": "code",
   "execution_count": 39,
   "metadata": {},
   "outputs": [
    {
     "name": "stderr",
     "output_type": "stream",
     "text": [
      "WARNING:absl:`lr` is deprecated, please use `learning_rate` instead, or use the legacy optimizer, e.g.,tf.keras.optimizers.legacy.SGD.\n"
     ]
    },
    {
     "name": "stdout",
     "output_type": "stream",
     "text": [
      "Epoch 1/20\n",
      "363/363 [==============================] - 1s 2ms/step - loss: 1.0151 - output_1_loss: 0.8871 - output_2_loss: 2.1671 - val_loss: 0.6367 - val_output_1_loss: 0.5835 - val_output_2_loss: 1.1160\n",
      "Epoch 2/20\n",
      "363/363 [==============================] - 1s 2ms/step - loss: 0.5625 - output_1_loss: 0.5154 - output_2_loss: 0.9865 - val_loss: 0.7268 - val_output_1_loss: 0.7056 - val_output_2_loss: 0.9171\n",
      "Epoch 3/20\n",
      "363/363 [==============================] - 1s 2ms/step - loss: 0.5325 - output_1_loss: 0.5001 - output_2_loss: 0.8240 - val_loss: 0.5051 - val_output_1_loss: 0.4758 - val_output_2_loss: 0.7686\n",
      "Epoch 4/20\n",
      "363/363 [==============================] - 1s 2ms/step - loss: 0.4862 - output_1_loss: 0.4592 - output_2_loss: 0.7284 - val_loss: 0.4985 - val_output_1_loss: 0.4764 - val_output_2_loss: 0.6975\n",
      "Epoch 5/20\n",
      "363/363 [==============================] - 1s 2ms/step - loss: 0.4551 - output_1_loss: 0.4321 - output_2_loss: 0.6619 - val_loss: 0.5007 - val_output_1_loss: 0.4758 - val_output_2_loss: 0.7253\n",
      "Epoch 6/20\n",
      "363/363 [==============================] - 1s 2ms/step - loss: 0.4734 - output_1_loss: 0.4549 - output_2_loss: 0.6400 - val_loss: 0.4858 - val_output_1_loss: 0.4604 - val_output_2_loss: 0.7147\n",
      "Epoch 7/20\n",
      "363/363 [==============================] - 1s 2ms/step - loss: 0.4400 - output_1_loss: 0.4209 - output_2_loss: 0.6128 - val_loss: 0.4503 - val_output_1_loss: 0.4274 - val_output_2_loss: 0.6562\n",
      "Epoch 8/20\n",
      "363/363 [==============================] - 1s 1ms/step - loss: 0.4241 - output_1_loss: 0.4056 - output_2_loss: 0.5913 - val_loss: 0.4481 - val_output_1_loss: 0.4325 - val_output_2_loss: 0.5881\n",
      "Epoch 9/20\n",
      "363/363 [==============================] - 1s 1ms/step - loss: 0.4267 - output_1_loss: 0.4103 - output_2_loss: 0.5736 - val_loss: 0.4468 - val_output_1_loss: 0.4323 - val_output_2_loss: 0.5781\n",
      "Epoch 10/20\n",
      "363/363 [==============================] - 0s 1ms/step - loss: 0.4150 - output_1_loss: 0.3992 - output_2_loss: 0.5577 - val_loss: 0.4434 - val_output_1_loss: 0.4297 - val_output_2_loss: 0.5666\n",
      "Epoch 11/20\n",
      "363/363 [==============================] - 1s 1ms/step - loss: 0.4058 - output_1_loss: 0.3908 - output_2_loss: 0.5411 - val_loss: 0.4240 - val_output_1_loss: 0.4099 - val_output_2_loss: 0.5511\n",
      "Epoch 12/20\n",
      "363/363 [==============================] - 1s 1ms/step - loss: 0.3971 - output_1_loss: 0.3825 - output_2_loss: 0.5278 - val_loss: 0.4223 - val_output_1_loss: 0.4086 - val_output_2_loss: 0.5456\n",
      "Epoch 13/20\n",
      "363/363 [==============================] - 1s 1ms/step - loss: 0.3961 - output_1_loss: 0.3822 - output_2_loss: 0.5209 - val_loss: 0.4124 - val_output_1_loss: 0.3989 - val_output_2_loss: 0.5337\n",
      "Epoch 14/20\n",
      "363/363 [==============================] - 0s 1ms/step - loss: 0.3913 - output_1_loss: 0.3775 - output_2_loss: 0.5150 - val_loss: 0.4248 - val_output_1_loss: 0.4127 - val_output_2_loss: 0.5346\n",
      "Epoch 15/20\n",
      "363/363 [==============================] - 1s 1ms/step - loss: 0.4076 - output_1_loss: 0.3965 - output_2_loss: 0.5077 - val_loss: 0.3878 - val_output_1_loss: 0.3745 - val_output_2_loss: 0.5073\n",
      "Epoch 16/20\n",
      "363/363 [==============================] - 0s 1ms/step - loss: 0.3802 - output_1_loss: 0.3678 - output_2_loss: 0.4926 - val_loss: 0.3811 - val_output_1_loss: 0.3679 - val_output_2_loss: 0.5006\n",
      "Epoch 17/20\n",
      "363/363 [==============================] - 1s 1ms/step - loss: 0.3763 - output_1_loss: 0.3640 - output_2_loss: 0.4866 - val_loss: 0.3897 - val_output_1_loss: 0.3777 - val_output_2_loss: 0.4977\n",
      "Epoch 18/20\n",
      "363/363 [==============================] - 0s 1ms/step - loss: 0.3688 - output_1_loss: 0.3567 - output_2_loss: 0.4778 - val_loss: 0.3824 - val_output_1_loss: 0.3703 - val_output_2_loss: 0.4908\n",
      "Epoch 19/20\n",
      "363/363 [==============================] - 1s 1ms/step - loss: 0.3670 - output_1_loss: 0.3553 - output_2_loss: 0.4728 - val_loss: 0.3714 - val_output_1_loss: 0.3593 - val_output_2_loss: 0.4802\n",
      "Epoch 20/20\n",
      "363/363 [==============================] - 1s 1ms/step - loss: 0.3631 - output_1_loss: 0.3516 - output_2_loss: 0.4667 - val_loss: 0.3680 - val_output_1_loss: 0.3566 - val_output_2_loss: 0.4707\n"
     ]
    }
   ],
   "source": [
    "model1.compile(loss=[\"mse\", \"mse\"], loss_weights=[0.9, 0.1], optimizer=keras.optimizers.SGD(lr=0.01))\n",
    "history = model1.fit([X_train_A, X_train_B], [y_train, y_train], epochs=20,\n",
    "                      validation_data=([X_valid_A, X_valid_B], [y_valid, y_valid]))"
   ]
  },
  {
   "cell_type": "code",
   "execution_count": 41,
   "metadata": {},
   "outputs": [
    {
     "name": "stdout",
     "output_type": "stream",
     "text": [
      "162/162 [==============================] - 0s 1ms/step - loss: 0.3784 - output_1_loss: 0.3670 - output_2_loss: 0.4806\n"
     ]
    }
   ],
   "source": [
    "total_loss, main_loss, aux_loss = model1.evaluate(\n",
    "    [X_test_A, X_test_B], [y_test, y_test]\n",
    ")"
   ]
  },
  {
   "cell_type": "markdown",
   "metadata": {},
   "source": [
    "#### 모델 저장, 복원\n",
    "\n",
    "시퀀셜 API, 함수형 API의 저장은 쉽다고하네요."
   ]
  },
  {
   "cell_type": "code",
   "execution_count": 47,
   "metadata": {},
   "outputs": [],
   "source": [
    "model.save(\"my_keras_model.h5\")"
   ]
  },
  {
   "cell_type": "code",
   "execution_count": 48,
   "metadata": {},
   "outputs": [
    {
     "ename": "NotImplementedError",
     "evalue": "Saving the model to HDF5 format requires the model to be a Functional model or a Sequential model. It does not work for subclassed models, because such models are defined via the body of a Python method, which isn't safely serializable. Consider saving to the Tensorflow SavedModel format (by setting save_format=\"tf\") or using `save_weights`.",
     "output_type": "error",
     "traceback": [
      "\u001b[1;31m---------------------------------------------------------------------------\u001b[0m",
      "\u001b[1;31mNotImplementedError\u001b[0m                       Traceback (most recent call last)",
      "Cell \u001b[1;32mIn[48], line 1\u001b[0m\n\u001b[1;32m----> 1\u001b[0m \u001b[43mmodel1\u001b[49m\u001b[38;5;241;43m.\u001b[39;49m\u001b[43msave\u001b[49m\u001b[43m(\u001b[49m\u001b[38;5;124;43m\"\u001b[39;49m\u001b[38;5;124;43mmy_keras_model1.h5\u001b[39;49m\u001b[38;5;124;43m\"\u001b[39;49m\u001b[43m)\u001b[49m\n",
      "File \u001b[1;32mc:\\TIL\\ML\\venv_ml\\lib\\site-packages\\keras\\utils\\traceback_utils.py:70\u001b[0m, in \u001b[0;36mfilter_traceback.<locals>.error_handler\u001b[1;34m(*args, **kwargs)\u001b[0m\n\u001b[0;32m     67\u001b[0m     filtered_tb \u001b[39m=\u001b[39m _process_traceback_frames(e\u001b[39m.\u001b[39m__traceback__)\n\u001b[0;32m     68\u001b[0m     \u001b[39m# To get the full stack trace, call:\u001b[39;00m\n\u001b[0;32m     69\u001b[0m     \u001b[39m# `tf.debugging.disable_traceback_filtering()`\u001b[39;00m\n\u001b[1;32m---> 70\u001b[0m     \u001b[39mraise\u001b[39;00m e\u001b[39m.\u001b[39mwith_traceback(filtered_tb) \u001b[39mfrom\u001b[39;00m \u001b[39mNone\u001b[39m\n\u001b[0;32m     71\u001b[0m \u001b[39mfinally\u001b[39;00m:\n\u001b[0;32m     72\u001b[0m     \u001b[39mdel\u001b[39;00m filtered_tb\n",
      "File \u001b[1;32mc:\\TIL\\ML\\venv_ml\\lib\\site-packages\\keras\\saving\\legacy\\save.py:154\u001b[0m, in \u001b[0;36msave_model\u001b[1;34m(model, filepath, overwrite, include_optimizer, save_format, signatures, options, save_traces)\u001b[0m\n\u001b[0;32m    145\u001b[0m \u001b[39mif\u001b[39;00m (\n\u001b[0;32m    146\u001b[0m     save_format \u001b[39m==\u001b[39m \u001b[39m\"\u001b[39m\u001b[39mh5\u001b[39m\u001b[39m\"\u001b[39m\n\u001b[0;32m    147\u001b[0m     \u001b[39mor\u001b[39;00m (h5py \u001b[39mis\u001b[39;00m \u001b[39mnot\u001b[39;00m \u001b[39mNone\u001b[39;00m \u001b[39mand\u001b[39;00m \u001b[39misinstance\u001b[39m(filepath, h5py\u001b[39m.\u001b[39mFile))\n\u001b[0;32m    148\u001b[0m     \u001b[39mor\u001b[39;00m saving_utils\u001b[39m.\u001b[39mis_hdf5_filepath(filepath)\n\u001b[0;32m    149\u001b[0m ):\n\u001b[0;32m    150\u001b[0m     \u001b[39m# TODO(b/130258301): add utility method for detecting model type.\u001b[39;00m\n\u001b[0;32m    151\u001b[0m     \u001b[39mif\u001b[39;00m \u001b[39mnot\u001b[39;00m model\u001b[39m.\u001b[39m_is_graph_network \u001b[39mand\u001b[39;00m \u001b[39mnot\u001b[39;00m \u001b[39misinstance\u001b[39m(\n\u001b[0;32m    152\u001b[0m         model, sequential\u001b[39m.\u001b[39mSequential\n\u001b[0;32m    153\u001b[0m     ):\n\u001b[1;32m--> 154\u001b[0m         \u001b[39mraise\u001b[39;00m \u001b[39mNotImplementedError\u001b[39;00m(\n\u001b[0;32m    155\u001b[0m             \u001b[39m\"\u001b[39m\u001b[39mSaving the model to HDF5 format requires the model to be a \u001b[39m\u001b[39m\"\u001b[39m\n\u001b[0;32m    156\u001b[0m             \u001b[39m\"\u001b[39m\u001b[39mFunctional model or a Sequential model. It does not work for \u001b[39m\u001b[39m\"\u001b[39m\n\u001b[0;32m    157\u001b[0m             \u001b[39m\"\u001b[39m\u001b[39msubclassed models, because such models are defined via the \u001b[39m\u001b[39m\"\u001b[39m\n\u001b[0;32m    158\u001b[0m             \u001b[39m\"\u001b[39m\u001b[39mbody of a Python method, which isn\u001b[39m\u001b[39m'\u001b[39m\u001b[39mt safely serializable. \u001b[39m\u001b[39m\"\u001b[39m\n\u001b[0;32m    159\u001b[0m             \u001b[39m\"\u001b[39m\u001b[39mConsider saving to the Tensorflow SavedModel format (by \u001b[39m\u001b[39m\"\u001b[39m\n\u001b[0;32m    160\u001b[0m             \u001b[39m'\u001b[39m\u001b[39msetting save_format=\u001b[39m\u001b[39m\"\u001b[39m\u001b[39mtf\u001b[39m\u001b[39m\"\u001b[39m\u001b[39m) or using `save_weights`.\u001b[39m\u001b[39m'\u001b[39m\n\u001b[0;32m    161\u001b[0m         )\n\u001b[0;32m    162\u001b[0m     hdf5_format\u001b[39m.\u001b[39msave_model_to_hdf5(\n\u001b[0;32m    163\u001b[0m         model, filepath, overwrite, include_optimizer\n\u001b[0;32m    164\u001b[0m     )\n\u001b[0;32m    165\u001b[0m \u001b[39melse\u001b[39;00m:\n",
      "\u001b[1;31mNotImplementedError\u001b[0m: Saving the model to HDF5 format requires the model to be a Functional model or a Sequential model. It does not work for subclassed models, because such models are defined via the body of a Python method, which isn't safely serializable. Consider saving to the Tensorflow SavedModel format (by setting save_format=\"tf\") or using `save_weights`."
     ]
    }
   ],
   "source": [
    "model1.save(\"my_keras_model1.h5\")"
   ]
  },
  {
   "cell_type": "markdown",
   "metadata": {},
   "source": [
    "#### 콜백 사용하기.\n",
    "\n",
    "`fit()`메서드에서 callbacks 매개변수가 들어갈 수 있고. 이 매개변수는 케라스가 훈련의 시작이나 끝에 호출할 객체 리스트를 지정할 수 있도록 해 준다. (또는 에포크의 시작, 끝, 각 배치 처리 전후에 호출할 수 도 있다. ModelCheckpoint라는 객체는 훈련 동안 일정한 간격으로 체크포인트를 저장함)"
   ]
  },
  {
   "cell_type": "code",
   "execution_count": 51,
   "metadata": {},
   "outputs": [],
   "source": [
    "from sklearn.datasets import fetch_california_housing\n",
    "from sklearn.model_selection import train_test_split\n",
    "from sklearn.preprocessing import StandardScaler\n",
    "\n",
    "housing = fetch_california_housing()\n",
    "\n",
    "X_train_full, X_test, y_train_full, y_test = train_test_split(housing.data, housing.target)\n",
    "X_train, X_valid, y_train, y_valid = train_test_split(X_train_full, y_train_full)\n",
    "\n",
    "scaler = StandardScaler()\n",
    "X_train = scaler.fit_transform(X_train)\n",
    "X_valid = scaler.transform(X_valid)\n",
    "x_test = scaler.transform(X_test)"
   ]
  },
  {
   "cell_type": "code",
   "execution_count": 52,
   "metadata": {},
   "outputs": [
    {
     "data": {
      "text/plain": [
       "(11610, 8)"
      ]
     },
     "execution_count": 52,
     "metadata": {},
     "output_type": "execute_result"
    }
   ],
   "source": [
    "X_train.shape"
   ]
  },
  {
   "cell_type": "code",
   "execution_count": 62,
   "metadata": {},
   "outputs": [],
   "source": [
    "input_ = keras.layers.Input(shape=(8,))\n",
    "hidden1 = keras.layers.Dense(30, activation=\"relu\")(input_)\n",
    "hidden2 = keras.layers.Dense(30, activation=\"relu\")(hidden1)\n",
    "concat = keras.layers.concatenate([input_, hidden2])\n",
    "output = keras.layers.Dense(1)(concat)\n",
    "\n",
    "model = keras.Model(inputs=[input_], outputs=[output])\n",
    "model.compile(loss=\"mse\", optimizer=keras.optimizers.SGD(learning_rate=0.001))"
   ]
  },
  {
   "cell_type": "code",
   "execution_count": 63,
   "metadata": {},
   "outputs": [
    {
     "name": "stdout",
     "output_type": "stream",
     "text": [
      "Epoch 1/20\n",
      "363/363 [==============================] - 1s 1ms/step - loss: 2.0424\n",
      "Epoch 2/20\n",
      "363/363 [==============================] - 0s 1ms/step - loss: 0.7190\n",
      "Epoch 3/20\n",
      "363/363 [==============================] - 0s 1ms/step - loss: 0.6696\n",
      "Epoch 4/20\n",
      "363/363 [==============================] - 0s 1ms/step - loss: 0.6371\n",
      "Epoch 5/20\n",
      "363/363 [==============================] - 0s 1ms/step - loss: 0.6118\n",
      "Epoch 6/20\n",
      "363/363 [==============================] - 0s 1ms/step - loss: 0.5915\n",
      "Epoch 7/20\n",
      "363/363 [==============================] - 1s 1ms/step - loss: 0.5751\n",
      "Epoch 8/20\n",
      "363/363 [==============================] - 1s 2ms/step - loss: 0.5607\n",
      "Epoch 9/20\n",
      "363/363 [==============================] - 0s 1ms/step - loss: 0.5489\n",
      "Epoch 10/20\n",
      "363/363 [==============================] - 0s 1ms/step - loss: 0.5392\n",
      "Epoch 11/20\n",
      "363/363 [==============================] - 1s 1ms/step - loss: 0.5304\n",
      "Epoch 12/20\n",
      "363/363 [==============================] - 1s 2ms/step - loss: 0.5244\n",
      "Epoch 13/20\n",
      "363/363 [==============================] - 1s 1ms/step - loss: 0.5175\n",
      "Epoch 14/20\n",
      "363/363 [==============================] - 0s 1ms/step - loss: 0.5118\n",
      "Epoch 15/20\n",
      "363/363 [==============================] - 0s 1ms/step - loss: 0.5065\n",
      "Epoch 16/20\n",
      "363/363 [==============================] - 0s 1ms/step - loss: 0.5026\n",
      "Epoch 17/20\n",
      "363/363 [==============================] - 0s 1ms/step - loss: 0.4990\n",
      "Epoch 18/20\n",
      "363/363 [==============================] - 0s 1ms/step - loss: 0.4944\n",
      "Epoch 19/20\n",
      "363/363 [==============================] - 1s 1ms/step - loss: 0.4906\n",
      "Epoch 20/20\n",
      "363/363 [==============================] - 0s 1ms/step - loss: 0.4878\n"
     ]
    }
   ],
   "source": [
    "checkpoint_cb = keras.callbacks.ModelCheckpoint(\"my_keras_model.h5\")\n",
    "history = model.fit(X_train, y_train, epochs=20, callbacks=[checkpoint_cb])"
   ]
  },
  {
   "cell_type": "code",
   "execution_count": 64,
   "metadata": {},
   "outputs": [],
   "source": [
    "input_ = keras.layers.Input(shape=(8,))\n",
    "hidden1 = keras.layers.Dense(30, activation=\"relu\")(input_)\n",
    "hidden2 = keras.layers.Dense(30, activation=\"relu\")(hidden1)\n",
    "concat = keras.layers.concatenate([input_, hidden2])\n",
    "output = keras.layers.Dense(1)(concat)\n",
    "\n",
    "model2 = keras.Model(inputs=[input_], outputs=[output])\n",
    "model2.compile(loss=\"mse\", optimizer=keras.optimizers.SGD(learning_rate=0.001))"
   ]
  },
  {
   "cell_type": "code",
   "execution_count": 65,
   "metadata": {},
   "outputs": [
    {
     "name": "stdout",
     "output_type": "stream",
     "text": [
      "Epoch 1/20\n",
      "363/363 [==============================] - 1s 2ms/step - loss: 2.3985 - val_loss: 0.9515\n",
      "Epoch 2/20\n",
      "363/363 [==============================] - 1s 1ms/step - loss: 0.7892 - val_loss: 0.7021\n",
      "Epoch 3/20\n",
      "363/363 [==============================] - 1s 1ms/step - loss: 0.7053 - val_loss: 0.6409\n",
      "Epoch 4/20\n",
      "363/363 [==============================] - 1s 1ms/step - loss: 0.6581 - val_loss: 0.5995\n",
      "Epoch 5/20\n",
      "363/363 [==============================] - 1s 2ms/step - loss: 0.6230 - val_loss: 0.5692\n",
      "Epoch 6/20\n",
      "363/363 [==============================] - 1s 2ms/step - loss: 0.5967 - val_loss: 0.5555\n",
      "Epoch 7/20\n",
      "363/363 [==============================] - 1s 2ms/step - loss: 0.5762 - val_loss: 0.5304\n",
      "Epoch 8/20\n",
      "363/363 [==============================] - 1s 2ms/step - loss: 0.5605 - val_loss: 0.5174\n",
      "Epoch 9/20\n",
      "363/363 [==============================] - 1s 2ms/step - loss: 0.5475 - val_loss: 0.5117\n",
      "Epoch 10/20\n",
      "363/363 [==============================] - 1s 2ms/step - loss: 0.5370 - val_loss: 0.5055\n",
      "Epoch 11/20\n",
      "363/363 [==============================] - 1s 2ms/step - loss: 0.5282 - val_loss: 0.4916\n",
      "Epoch 12/20\n",
      "363/363 [==============================] - 1s 2ms/step - loss: 0.5206 - val_loss: 0.4862\n",
      "Epoch 13/20\n",
      "363/363 [==============================] - 1s 2ms/step - loss: 0.5138 - val_loss: 0.4777\n",
      "Epoch 14/20\n",
      "363/363 [==============================] - 1s 2ms/step - loss: 0.5084 - val_loss: 0.4739\n",
      "Epoch 15/20\n",
      "363/363 [==============================] - 1s 2ms/step - loss: 0.5029 - val_loss: 0.4731\n",
      "Epoch 16/20\n",
      "363/363 [==============================] - 1s 2ms/step - loss: 0.4982 - val_loss: 0.4711\n",
      "Epoch 17/20\n",
      "363/363 [==============================] - 1s 2ms/step - loss: 0.4942 - val_loss: 0.4639\n",
      "Epoch 18/20\n",
      "363/363 [==============================] - 1s 2ms/step - loss: 0.4902 - val_loss: 0.4600\n",
      "Epoch 19/20\n",
      "363/363 [==============================] - 1s 2ms/step - loss: 0.4867 - val_loss: 0.4592\n",
      "Epoch 20/20\n",
      "363/363 [==============================] - 1s 2ms/step - loss: 0.4830 - val_loss: 0.4679\n"
     ]
    }
   ],
   "source": [
    "checkpoint_cb2 = keras.callbacks.ModelCheckpoint(\"my_keras_best_model.h5\", save_best_only=True)\n",
    "history2 = model2.fit(X_train, y_train, epochs=20, validation_data=(X_valid, y_valid), callbacks=[checkpoint_cb2])"
   ]
  },
  {
   "cell_type": "code",
   "execution_count": 66,
   "metadata": {},
   "outputs": [],
   "source": [
    "best_model = keras.models.load_model(\"my_keras_best_model.h5\")"
   ]
  },
  {
   "cell_type": "code",
   "execution_count": 67,
   "metadata": {},
   "outputs": [
    {
     "name": "stdout",
     "output_type": "stream",
     "text": [
      "Model: \"model_7\"\n",
      "__________________________________________________________________________________________________\n",
      " Layer (type)                   Output Shape         Param #     Connected to                     \n",
      "==================================================================================================\n",
      " input_7 (InputLayer)           [(None, 8)]          0           []                               \n",
      "                                                                                                  \n",
      " dense_32 (Dense)               (None, 30)           270         ['input_7[0][0]']                \n",
      "                                                                                                  \n",
      " dense_33 (Dense)               (None, 30)           930         ['dense_32[0][0]']               \n",
      "                                                                                                  \n",
      " concatenate_7 (Concatenate)    (None, 38)           0           ['input_7[0][0]',                \n",
      "                                                                  'dense_33[0][0]']               \n",
      "                                                                                                  \n",
      " dense_34 (Dense)               (None, 1)            39          ['concatenate_7[0][0]']          \n",
      "                                                                                                  \n",
      "==================================================================================================\n",
      "Total params: 1,239\n",
      "Trainable params: 1,239\n",
      "Non-trainable params: 0\n",
      "__________________________________________________________________________________________________\n"
     ]
    }
   ],
   "source": [
    "best_model.summary()"
   ]
  },
  {
   "cell_type": "code",
   "execution_count": 74,
   "metadata": {},
   "outputs": [
    {
     "data": {
      "text/plain": [
       "<keras.layers.core.dense.Dense at 0x29b2726e620>"
      ]
     },
     "execution_count": 74,
     "metadata": {},
     "output_type": "execute_result"
    }
   ],
   "source": [
    "best_model.layers[4]"
   ]
  },
  {
   "cell_type": "code",
   "execution_count": 73,
   "metadata": {},
   "outputs": [
    {
     "data": {
      "text/plain": [
       "<keras.layers.core.dense.Dense at 0x29b2726e620>"
      ]
     },
     "execution_count": 73,
     "metadata": {},
     "output_type": "execute_result"
    }
   ],
   "source": [
    "best_model.get_layer('dense_34')"
   ]
  },
  {
   "cell_type": "code",
   "execution_count": 77,
   "metadata": {},
   "outputs": [],
   "source": [
    "weights, biases = best_model.get_layer('dense_34').get_weights()"
   ]
  },
  {
   "cell_type": "code",
   "execution_count": 79,
   "metadata": {},
   "outputs": [
    {
     "data": {
      "text/plain": [
       "(38, 1)"
      ]
     },
     "execution_count": 79,
     "metadata": {},
     "output_type": "execute_result"
    }
   ],
   "source": [
    "weights.shape"
   ]
  },
  {
   "cell_type": "markdown",
   "metadata": {},
   "source": [
    "#### EarlyStopping callback\n",
    "\n",
    "`keras.callbacks.EarlyStopping()`을 활용하기"
   ]
  },
  {
   "cell_type": "code",
   "execution_count": 80,
   "metadata": {},
   "outputs": [
    {
     "name": "stdout",
     "output_type": "stream",
     "text": [
      "Epoch 1/100\n",
      "363/363 [==============================] - 0s 1ms/step - loss: 0.4846 - val_loss: 0.4641\n",
      "Epoch 2/100\n",
      "363/363 [==============================] - 0s 1ms/step - loss: 0.4820 - val_loss: 0.4642\n",
      "Epoch 3/100\n",
      "363/363 [==============================] - 0s 1ms/step - loss: 0.4799 - val_loss: 0.4586\n",
      "Epoch 4/100\n",
      "363/363 [==============================] - 0s 1ms/step - loss: 0.4763 - val_loss: 0.4562\n",
      "Epoch 5/100\n",
      "363/363 [==============================] - 0s 987us/step - loss: 0.4740 - val_loss: 0.4571\n",
      "Epoch 6/100\n",
      "363/363 [==============================] - 0s 1ms/step - loss: 0.4721 - val_loss: 0.4523\n",
      "Epoch 7/100\n",
      "363/363 [==============================] - 0s 1ms/step - loss: 0.4702 - val_loss: 0.4496\n",
      "Epoch 8/100\n",
      "363/363 [==============================] - 0s 994us/step - loss: 0.4672 - val_loss: 0.4480\n",
      "Epoch 9/100\n",
      "363/363 [==============================] - 0s 991us/step - loss: 0.4651 - val_loss: 0.4468\n",
      "Epoch 10/100\n",
      "363/363 [==============================] - 0s 989us/step - loss: 0.4635 - val_loss: 0.4432\n",
      "Epoch 11/100\n",
      "363/363 [==============================] - 0s 986us/step - loss: 0.4617 - val_loss: 0.4411\n",
      "Epoch 12/100\n",
      "363/363 [==============================] - 0s 1ms/step - loss: 0.4609 - val_loss: 0.4410\n",
      "Epoch 13/100\n",
      "363/363 [==============================] - 0s 979us/step - loss: 0.4586 - val_loss: 0.4386\n",
      "Epoch 14/100\n",
      "363/363 [==============================] - 0s 978us/step - loss: 0.4568 - val_loss: 0.4372\n",
      "Epoch 15/100\n",
      "363/363 [==============================] - 0s 1ms/step - loss: 0.4552 - val_loss: 0.4371\n",
      "Epoch 16/100\n",
      "363/363 [==============================] - 0s 1ms/step - loss: 0.4544 - val_loss: 0.4343\n",
      "Epoch 17/100\n",
      "363/363 [==============================] - 0s 1ms/step - loss: 0.4526 - val_loss: 0.4357\n",
      "Epoch 18/100\n",
      "363/363 [==============================] - 0s 994us/step - loss: 0.4514 - val_loss: 0.4317\n",
      "Epoch 19/100\n",
      "363/363 [==============================] - 0s 998us/step - loss: 0.4496 - val_loss: 0.4307\n",
      "Epoch 20/100\n",
      "363/363 [==============================] - 0s 991us/step - loss: 0.4494 - val_loss: 0.4301\n",
      "Epoch 21/100\n",
      "363/363 [==============================] - 0s 1ms/step - loss: 0.4475 - val_loss: 0.4277\n",
      "Epoch 22/100\n",
      "363/363 [==============================] - 0s 1ms/step - loss: 0.4461 - val_loss: 0.4275\n",
      "Epoch 23/100\n",
      "363/363 [==============================] - 0s 1ms/step - loss: 0.4451 - val_loss: 0.4265\n",
      "Epoch 24/100\n",
      "363/363 [==============================] - 0s 1ms/step - loss: 0.4440 - val_loss: 0.4281\n",
      "Epoch 25/100\n",
      "363/363 [==============================] - 0s 1ms/step - loss: 0.4428 - val_loss: 0.4239\n",
      "Epoch 26/100\n",
      "363/363 [==============================] - 0s 1ms/step - loss: 0.4423 - val_loss: 0.4239\n",
      "Epoch 27/100\n",
      "363/363 [==============================] - 0s 988us/step - loss: 0.4406 - val_loss: 0.4219\n",
      "Epoch 28/100\n",
      "363/363 [==============================] - 0s 1ms/step - loss: 0.4398 - val_loss: 0.4238\n",
      "Epoch 29/100\n",
      "363/363 [==============================] - 0s 1ms/step - loss: 0.4387 - val_loss: 0.4214\n",
      "Epoch 30/100\n",
      "363/363 [==============================] - 0s 1000us/step - loss: 0.4377 - val_loss: 0.4202\n",
      "Epoch 31/100\n",
      "363/363 [==============================] - 0s 1ms/step - loss: 0.4365 - val_loss: 0.4195\n",
      "Epoch 32/100\n",
      "363/363 [==============================] - 0s 1ms/step - loss: 0.4353 - val_loss: 0.4181\n",
      "Epoch 33/100\n",
      "363/363 [==============================] - 0s 988us/step - loss: 0.4341 - val_loss: 0.4165\n",
      "Epoch 34/100\n",
      "363/363 [==============================] - 0s 1ms/step - loss: 0.4332 - val_loss: 0.4166\n",
      "Epoch 35/100\n",
      "363/363 [==============================] - 0s 1ms/step - loss: 0.4326 - val_loss: 0.4170\n",
      "Epoch 36/100\n",
      "363/363 [==============================] - 0s 977us/step - loss: 0.4309 - val_loss: 0.4139\n",
      "Epoch 37/100\n",
      "363/363 [==============================] - 0s 977us/step - loss: 0.4301 - val_loss: 0.4134\n",
      "Epoch 38/100\n",
      "363/363 [==============================] - 0s 986us/step - loss: 0.4294 - val_loss: 0.4124\n",
      "Epoch 39/100\n",
      "363/363 [==============================] - 0s 985us/step - loss: 0.4289 - val_loss: 0.4129\n",
      "Epoch 40/100\n",
      "363/363 [==============================] - 0s 1ms/step - loss: 0.4273 - val_loss: 0.4095\n",
      "Epoch 41/100\n",
      "363/363 [==============================] - 0s 1ms/step - loss: 0.4263 - val_loss: 0.4100\n",
      "Epoch 42/100\n",
      "363/363 [==============================] - 0s 985us/step - loss: 0.4253 - val_loss: 0.4092\n",
      "Epoch 43/100\n",
      "363/363 [==============================] - 0s 998us/step - loss: 0.4245 - val_loss: 0.4083\n",
      "Epoch 44/100\n",
      "363/363 [==============================] - 0s 980us/step - loss: 0.4230 - val_loss: 0.4077\n",
      "Epoch 45/100\n",
      "363/363 [==============================] - 0s 968us/step - loss: 0.4222 - val_loss: 0.4083\n",
      "Epoch 46/100\n",
      "363/363 [==============================] - 0s 974us/step - loss: 0.4212 - val_loss: 0.4068\n",
      "Epoch 47/100\n",
      "363/363 [==============================] - 0s 996us/step - loss: 0.4200 - val_loss: 0.4040\n",
      "Epoch 48/100\n",
      "363/363 [==============================] - 0s 1ms/step - loss: 0.4195 - val_loss: 0.4050\n",
      "Epoch 49/100\n",
      "363/363 [==============================] - 0s 1ms/step - loss: 0.4184 - val_loss: 0.4037\n",
      "Epoch 50/100\n",
      "363/363 [==============================] - 0s 1ms/step - loss: 0.4175 - val_loss: 0.4019\n",
      "Epoch 51/100\n",
      "363/363 [==============================] - 0s 1ms/step - loss: 0.4167 - val_loss: 0.4023\n",
      "Epoch 52/100\n",
      "363/363 [==============================] - 0s 1ms/step - loss: 0.4155 - val_loss: 0.4002\n",
      "Epoch 53/100\n",
      "363/363 [==============================] - 0s 1ms/step - loss: 0.4154 - val_loss: 0.3999\n",
      "Epoch 54/100\n",
      "363/363 [==============================] - 0s 997us/step - loss: 0.4138 - val_loss: 0.3989\n",
      "Epoch 55/100\n",
      "363/363 [==============================] - 0s 1ms/step - loss: 0.4130 - val_loss: 0.3987\n",
      "Epoch 56/100\n",
      "363/363 [==============================] - 0s 1ms/step - loss: 0.4124 - val_loss: 0.3987\n",
      "Epoch 57/100\n",
      "363/363 [==============================] - 0s 1ms/step - loss: 0.4112 - val_loss: 0.3978\n",
      "Epoch 58/100\n",
      "363/363 [==============================] - 0s 1ms/step - loss: 0.4109 - val_loss: 0.3955\n",
      "Epoch 59/100\n",
      "363/363 [==============================] - 0s 1ms/step - loss: 0.4096 - val_loss: 0.3951\n",
      "Epoch 60/100\n",
      "363/363 [==============================] - 0s 995us/step - loss: 0.4095 - val_loss: 0.3938\n",
      "Epoch 61/100\n",
      "363/363 [==============================] - 0s 985us/step - loss: 0.4090 - val_loss: 0.3946\n",
      "Epoch 62/100\n",
      "363/363 [==============================] - 0s 955us/step - loss: 0.4070 - val_loss: 0.3951\n",
      "Epoch 63/100\n",
      "363/363 [==============================] - 0s 971us/step - loss: 0.4056 - val_loss: 0.3928\n",
      "Epoch 64/100\n",
      "363/363 [==============================] - 0s 958us/step - loss: 0.4059 - val_loss: 0.3908\n",
      "Epoch 65/100\n",
      "363/363 [==============================] - 0s 961us/step - loss: 0.4053 - val_loss: 0.3898\n",
      "Epoch 66/100\n",
      "363/363 [==============================] - 0s 1ms/step - loss: 0.4036 - val_loss: 0.3902\n",
      "Epoch 67/100\n",
      "363/363 [==============================] - 0s 993us/step - loss: 0.4027 - val_loss: 0.3896\n",
      "Epoch 68/100\n",
      "363/363 [==============================] - 0s 980us/step - loss: 0.4029 - val_loss: 0.3889\n",
      "Epoch 69/100\n",
      "363/363 [==============================] - 0s 973us/step - loss: 0.4011 - val_loss: 0.3871\n",
      "Epoch 70/100\n",
      "363/363 [==============================] - 0s 990us/step - loss: 0.4002 - val_loss: 0.3880\n",
      "Epoch 71/100\n",
      "363/363 [==============================] - 0s 949us/step - loss: 0.3992 - val_loss: 0.3858\n",
      "Epoch 72/100\n",
      "363/363 [==============================] - 0s 963us/step - loss: 0.3986 - val_loss: 0.3882\n",
      "Epoch 73/100\n",
      "363/363 [==============================] - 0s 963us/step - loss: 0.3975 - val_loss: 0.3868\n",
      "Epoch 74/100\n",
      "363/363 [==============================] - 0s 990us/step - loss: 0.3970 - val_loss: 0.3852\n",
      "Epoch 75/100\n",
      "363/363 [==============================] - 0s 1ms/step - loss: 0.3967 - val_loss: 0.3838\n",
      "Epoch 76/100\n",
      "363/363 [==============================] - 0s 973us/step - loss: 0.3965 - val_loss: 0.3823\n",
      "Epoch 77/100\n",
      "363/363 [==============================] - 0s 1ms/step - loss: 0.3944 - val_loss: 0.3836\n",
      "Epoch 78/100\n",
      "363/363 [==============================] - 0s 1ms/step - loss: 0.3943 - val_loss: 0.3822\n",
      "Epoch 79/100\n",
      "363/363 [==============================] - 0s 993us/step - loss: 0.3929 - val_loss: 0.3805\n",
      "Epoch 80/100\n",
      "363/363 [==============================] - 0s 1ms/step - loss: 0.3923 - val_loss: 0.3820\n",
      "Epoch 81/100\n",
      "363/363 [==============================] - 0s 1ms/step - loss: 0.3914 - val_loss: 0.3798\n",
      "Epoch 82/100\n",
      "363/363 [==============================] - 0s 1ms/step - loss: 0.3909 - val_loss: 0.3802\n",
      "Epoch 83/100\n",
      "363/363 [==============================] - 0s 952us/step - loss: 0.3893 - val_loss: 0.3779\n",
      "Epoch 84/100\n",
      "363/363 [==============================] - 0s 1ms/step - loss: 0.3893 - val_loss: 0.3777\n",
      "Epoch 85/100\n",
      "363/363 [==============================] - 0s 978us/step - loss: 0.3886 - val_loss: 0.3774\n",
      "Epoch 86/100\n",
      "363/363 [==============================] - 0s 1ms/step - loss: 0.3887 - val_loss: 0.3748\n",
      "Epoch 87/100\n",
      "363/363 [==============================] - 0s 969us/step - loss: 0.3873 - val_loss: 0.3752\n",
      "Epoch 88/100\n",
      "363/363 [==============================] - 0s 987us/step - loss: 0.3860 - val_loss: 0.3752\n",
      "Epoch 89/100\n",
      "363/363 [==============================] - 0s 992us/step - loss: 0.3848 - val_loss: 0.3751\n",
      "Epoch 90/100\n",
      "363/363 [==============================] - 0s 987us/step - loss: 0.3848 - val_loss: 0.3737\n",
      "Epoch 91/100\n",
      "363/363 [==============================] - 0s 991us/step - loss: 0.3833 - val_loss: 0.3730\n",
      "Epoch 92/100\n",
      "363/363 [==============================] - 0s 998us/step - loss: 0.3826 - val_loss: 0.3743\n",
      "Epoch 93/100\n",
      "363/363 [==============================] - 0s 968us/step - loss: 0.3825 - val_loss: 0.3713\n",
      "Epoch 94/100\n",
      "363/363 [==============================] - 0s 991us/step - loss: 0.3812 - val_loss: 0.3712\n",
      "Epoch 95/100\n",
      "363/363 [==============================] - 0s 940us/step - loss: 0.3813 - val_loss: 0.3709\n",
      "Epoch 96/100\n",
      "363/363 [==============================] - 0s 967us/step - loss: 0.3807 - val_loss: 0.3695\n",
      "Epoch 97/100\n",
      "363/363 [==============================] - 0s 970us/step - loss: 0.3797 - val_loss: 0.3696\n",
      "Epoch 98/100\n",
      "363/363 [==============================] - 0s 936us/step - loss: 0.3787 - val_loss: 0.3687\n",
      "Epoch 99/100\n",
      "363/363 [==============================] - 0s 928us/step - loss: 0.3768 - val_loss: 0.3699\n",
      "Epoch 100/100\n",
      "363/363 [==============================] - 0s 950us/step - loss: 0.3772 - val_loss: 0.3668\n"
     ]
    }
   ],
   "source": [
    "early_stopping_cb = keras.callbacks.EarlyStopping(patience=10, restore_best_weights=True)  # 10개 epoch 까지만 참는다.\n",
    "\n",
    "history = model.fit(\n",
    "    X_train, y_train, epochs=100,\n",
    "    validation_data=(X_valid, y_valid),\n",
    "    callbacks=[checkpoint_cb, early_stopping_cb]\n",
    ")"
   ]
  },
  {
   "cell_type": "markdown",
   "metadata": {},
   "source": [
    "#### 사용자 정의 콜백을 만들 수도 있다."
   ]
  },
  {
   "cell_type": "code",
   "execution_count": 81,
   "metadata": {},
   "outputs": [],
   "source": [
    "class PrintValTrainRatioCallback(keras.callbacks.Callback):\n",
    "    def on_epoch_end(self, epoch, logs):\n",
    "        print(\"\\nval/train: {:.2f}\".format(logs['val_loss']/logs['loss']))"
   ]
  },
  {
   "cell_type": "code",
   "execution_count": 82,
   "metadata": {},
   "outputs": [
    {
     "name": "stdout",
     "output_type": "stream",
     "text": [
      "Epoch 1/100\n",
      "353/363 [============================>.] - ETA: 0s - loss: 0.3756\n",
      "val/train: 0.98\n",
      "363/363 [==============================] - 0s 1ms/step - loss: 0.3763 - val_loss: 0.3669\n",
      "Epoch 2/100\n",
      "338/363 [==========================>...] - ETA: 0s - loss: 0.3808\n",
      "val/train: 0.97\n",
      "363/363 [==============================] - 0s 1ms/step - loss: 0.3760 - val_loss: 0.3653\n",
      "Epoch 3/100\n",
      "337/363 [==========================>...] - ETA: 0s - loss: 0.3824\n",
      "val/train: 0.97\n",
      "363/363 [==============================] - 0s 1ms/step - loss: 0.3758 - val_loss: 0.3659\n",
      "Epoch 4/100\n",
      "315/363 [=========================>....] - ETA: 0s - loss: 0.3751\n",
      "val/train: 0.98\n",
      "363/363 [==============================] - 0s 1ms/step - loss: 0.3752 - val_loss: 0.3659\n",
      "Epoch 5/100\n",
      "345/363 [===========================>..] - ETA: 0s - loss: 0.3741\n",
      "val/train: 0.98\n",
      "363/363 [==============================] - 0s 1ms/step - loss: 0.3731 - val_loss: 0.3650\n",
      "Epoch 6/100\n",
      "332/363 [==========================>...] - ETA: 0s - loss: 0.3740\n",
      "val/train: 0.97\n",
      "363/363 [==============================] - 0s 1ms/step - loss: 0.3731 - val_loss: 0.3636\n",
      "Epoch 7/100\n",
      "343/363 [===========================>..] - ETA: 0s - loss: 0.3716\n",
      "val/train: 0.98\n",
      "363/363 [==============================] - 0s 994us/step - loss: 0.3716 - val_loss: 0.3646\n",
      "Epoch 8/100\n",
      "343/363 [===========================>..] - ETA: 0s - loss: 0.3679\n",
      "val/train: 0.98\n",
      "363/363 [==============================] - 0s 1ms/step - loss: 0.3706 - val_loss: 0.3627\n",
      "Epoch 9/100\n",
      "352/363 [============================>.] - ETA: 0s - loss: 0.3704\n",
      "val/train: 0.98\n",
      "363/363 [==============================] - 0s 994us/step - loss: 0.3704 - val_loss: 0.3623\n",
      "Epoch 10/100\n",
      "331/363 [==========================>...] - ETA: 0s - loss: 0.3721\n",
      "val/train: 0.98\n",
      "363/363 [==============================] - 0s 1ms/step - loss: 0.3693 - val_loss: 0.3614\n",
      "Epoch 11/100\n",
      "339/363 [===========================>..] - ETA: 0s - loss: 0.3700\n",
      "val/train: 0.98\n",
      "363/363 [==============================] - 0s 1ms/step - loss: 0.3692 - val_loss: 0.3601\n",
      "Epoch 12/100\n",
      "342/363 [===========================>..] - ETA: 0s - loss: 0.3720\n",
      "val/train: 0.98\n",
      "363/363 [==============================] - 0s 996us/step - loss: 0.3683 - val_loss: 0.3611\n",
      "Epoch 13/100\n",
      "352/363 [============================>.] - ETA: 0s - loss: 0.3684\n",
      "val/train: 0.98\n",
      "363/363 [==============================] - 0s 985us/step - loss: 0.3674 - val_loss: 0.3609\n",
      "Epoch 14/100\n",
      "353/363 [============================>.] - ETA: 0s - loss: 0.3677\n",
      "val/train: 0.99\n",
      "363/363 [==============================] - 0s 982us/step - loss: 0.3675 - val_loss: 0.3621\n",
      "Epoch 15/100\n",
      "341/363 [===========================>..] - ETA: 0s - loss: 0.3648\n",
      "val/train: 0.98\n",
      "363/363 [==============================] - 0s 1ms/step - loss: 0.3658 - val_loss: 0.3597\n",
      "Epoch 16/100\n",
      "353/363 [============================>.] - ETA: 0s - loss: 0.3710\n",
      "val/train: 0.97\n",
      "363/363 [==============================] - 0s 993us/step - loss: 0.3695 - val_loss: 0.3599\n",
      "Epoch 17/100\n",
      "343/363 [===========================>..] - ETA: 0s - loss: 0.3630\n",
      "val/train: 0.98\n",
      "363/363 [==============================] - 0s 1ms/step - loss: 0.3673 - val_loss: 0.3611\n",
      "Epoch 18/100\n",
      "349/363 [===========================>..] - ETA: 0s - loss: 0.3634\n",
      "val/train: 0.99\n",
      "363/363 [==============================] - 0s 990us/step - loss: 0.3634 - val_loss: 0.3581\n",
      "Epoch 19/100\n",
      "347/363 [===========================>..] - ETA: 0s - loss: 0.3644\n",
      "val/train: 0.98\n",
      "363/363 [==============================] - 0s 978us/step - loss: 0.3643 - val_loss: 0.3582\n",
      "Epoch 20/100\n",
      "356/363 [============================>.] - ETA: 0s - loss: 0.3633\n",
      "val/train: 0.98\n",
      "363/363 [==============================] - 0s 968us/step - loss: 0.3630 - val_loss: 0.3571\n",
      "Epoch 21/100\n",
      "349/363 [===========================>..] - ETA: 0s - loss: 0.3642\n",
      "val/train: 0.99\n",
      "363/363 [==============================] - 0s 989us/step - loss: 0.3622 - val_loss: 0.3569\n",
      "Epoch 22/100\n",
      "344/363 [===========================>..] - ETA: 0s - loss: 0.3620\n",
      "val/train: 0.98\n",
      "363/363 [==============================] - 0s 993us/step - loss: 0.3611 - val_loss: 0.3542\n",
      "Epoch 23/100\n",
      "348/363 [===========================>..] - ETA: 0s - loss: 0.3594\n",
      "val/train: 0.98\n",
      "363/363 [==============================] - 0s 984us/step - loss: 0.3604 - val_loss: 0.3541\n",
      "Epoch 24/100\n",
      "328/363 [==========================>...] - ETA: 0s - loss: 0.3552\n",
      "val/train: 0.99\n",
      "363/363 [==============================] - 0s 1ms/step - loss: 0.3593 - val_loss: 0.3556\n",
      "Epoch 25/100\n",
      "359/363 [============================>.] - ETA: 0s - loss: 0.3592\n",
      "val/train: 0.99\n",
      "363/363 [==============================] - 0s 960us/step - loss: 0.3590 - val_loss: 0.3537\n",
      "Epoch 26/100\n",
      "352/363 [============================>.] - ETA: 0s - loss: 0.3601\n",
      "val/train: 0.98\n",
      "363/363 [==============================] - 0s 984us/step - loss: 0.3597 - val_loss: 0.3524\n",
      "Epoch 27/100\n",
      "356/363 [============================>.] - ETA: 0s - loss: 0.3592\n",
      "val/train: 0.99\n",
      "363/363 [==============================] - 0s 969us/step - loss: 0.3580 - val_loss: 0.3536\n",
      "Epoch 28/100\n",
      "295/363 [=======================>......] - ETA: 0s - loss: 0.3485\n",
      "val/train: 0.99\n",
      "363/363 [==============================] - 0s 943us/step - loss: 0.3582 - val_loss: 0.3538\n",
      "Epoch 29/100\n",
      "358/363 [============================>.] - ETA: 0s - loss: 0.3593\n",
      "val/train: 0.98\n",
      "363/363 [==============================] - 0s 968us/step - loss: 0.3577 - val_loss: 0.3507\n",
      "Epoch 30/100\n",
      "357/363 [============================>.] - ETA: 0s - loss: 0.3545\n",
      "val/train: 0.99\n",
      "363/363 [==============================] - 0s 962us/step - loss: 0.3565 - val_loss: 0.3543\n",
      "Epoch 31/100\n",
      "360/363 [============================>.] - ETA: 0s - loss: 0.3553\n",
      "val/train: 0.98\n",
      "363/363 [==============================] - 0s 950us/step - loss: 0.3550 - val_loss: 0.3496\n",
      "Epoch 32/100\n",
      "356/363 [============================>.] - ETA: 0s - loss: 0.3573\n",
      "val/train: 0.98\n",
      "363/363 [==============================] - 0s 964us/step - loss: 0.3566 - val_loss: 0.3510\n",
      "Epoch 33/100\n",
      "354/363 [============================>.] - ETA: 0s - loss: 0.3540\n",
      "val/train: 0.99\n",
      "363/363 [==============================] - 0s 967us/step - loss: 0.3539 - val_loss: 0.3494\n",
      "Epoch 34/100\n",
      "354/363 [============================>.] - ETA: 0s - loss: 0.3618\n",
      "val/train: 0.97\n",
      "363/363 [==============================] - 0s 966us/step - loss: 0.3624 - val_loss: 0.3519\n",
      "Epoch 35/100\n",
      "359/363 [============================>.] - ETA: 0s - loss: 0.3537\n",
      "val/train: 0.99\n",
      "363/363 [==============================] - 0s 962us/step - loss: 0.3579 - val_loss: 0.3530\n",
      "Epoch 36/100\n",
      "359/363 [============================>.] - ETA: 0s - loss: 0.3516\n",
      "val/train: 1.00\n",
      "363/363 [==============================] - 0s 964us/step - loss: 0.3523 - val_loss: 0.3511\n",
      "Epoch 37/100\n",
      "357/363 [============================>.] - ETA: 0s - loss: 0.3538\n",
      "val/train: 0.99\n",
      "363/363 [==============================] - 0s 980us/step - loss: 0.3524 - val_loss: 0.3487\n",
      "Epoch 38/100\n",
      "347/363 [===========================>..] - ETA: 0s - loss: 0.3494\n",
      "val/train: 1.00\n",
      "363/363 [==============================] - 0s 983us/step - loss: 0.3511 - val_loss: 0.3493\n",
      "Epoch 39/100\n",
      "353/363 [============================>.] - ETA: 0s - loss: 0.3518\n",
      "val/train: 0.99\n",
      "363/363 [==============================] - 0s 984us/step - loss: 0.3508 - val_loss: 0.3465\n",
      "Epoch 40/100\n",
      "356/363 [============================>.] - ETA: 0s - loss: 0.3514\n",
      "val/train: 0.99\n",
      "363/363 [==============================] - 0s 983us/step - loss: 0.3500 - val_loss: 0.3454\n",
      "Epoch 41/100\n",
      "352/363 [============================>.] - ETA: 0s - loss: 0.3475\n",
      "val/train: 0.99\n",
      "363/363 [==============================] - 0s 983us/step - loss: 0.3497 - val_loss: 0.3476\n",
      "Epoch 42/100\n",
      "351/363 [============================>.] - ETA: 0s - loss: 0.3497\n",
      "val/train: 0.99\n",
      "363/363 [==============================] - 0s 978us/step - loss: 0.3496 - val_loss: 0.3453\n",
      "Epoch 43/100\n",
      "356/363 [============================>.] - ETA: 0s - loss: 0.3506\n",
      "val/train: 0.99\n",
      "363/363 [==============================] - 0s 983us/step - loss: 0.3492 - val_loss: 0.3443\n",
      "Epoch 44/100\n",
      "355/363 [============================>.] - ETA: 0s - loss: 0.3480\n",
      "val/train: 0.99\n",
      "363/363 [==============================] - 0s 977us/step - loss: 0.3477 - val_loss: 0.3437\n",
      "Epoch 45/100\n",
      "352/363 [============================>.] - ETA: 0s - loss: 0.3481\n",
      "val/train: 1.00\n",
      "363/363 [==============================] - 0s 993us/step - loss: 0.3487 - val_loss: 0.3503\n",
      "Epoch 46/100\n",
      "352/363 [============================>.] - ETA: 0s - loss: 0.3463\n",
      "val/train: 1.00\n",
      "363/363 [==============================] - 0s 973us/step - loss: 0.3468 - val_loss: 0.3467\n",
      "Epoch 47/100\n",
      "354/363 [============================>.] - ETA: 0s - loss: 0.3467\n",
      "val/train: 1.00\n",
      "363/363 [==============================] - 0s 972us/step - loss: 0.3455 - val_loss: 0.3466\n",
      "Epoch 48/100\n",
      "353/363 [============================>.] - ETA: 0s - loss: 0.3448\n",
      "val/train: 0.99\n",
      "363/363 [==============================] - 0s 979us/step - loss: 0.3468 - val_loss: 0.3431\n",
      "Epoch 49/100\n",
      "356/363 [============================>.] - ETA: 0s - loss: 0.3449\n",
      "val/train: 1.00\n",
      "363/363 [==============================] - 0s 971us/step - loss: 0.3445 - val_loss: 0.3440\n",
      "Epoch 50/100\n",
      "349/363 [===========================>..] - ETA: 0s - loss: 0.3453\n",
      "val/train: 0.99\n",
      "363/363 [==============================] - 0s 995us/step - loss: 0.3450 - val_loss: 0.3413\n",
      "Epoch 51/100\n",
      "346/363 [===========================>..] - ETA: 0s - loss: 0.3437\n",
      "val/train: 0.99\n",
      "363/363 [==============================] - 0s 1ms/step - loss: 0.3445 - val_loss: 0.3426\n",
      "Epoch 52/100\n",
      "354/363 [============================>.] - ETA: 0s - loss: 0.3434\n",
      "val/train: 0.99\n",
      "363/363 [==============================] - 0s 967us/step - loss: 0.3440 - val_loss: 0.3402\n",
      "Epoch 53/100\n",
      "330/363 [==========================>...] - ETA: 0s - loss: 0.3462\n",
      "val/train: 1.00\n",
      "363/363 [==============================] - 0s 1ms/step - loss: 0.3424 - val_loss: 0.3428\n",
      "Epoch 54/100\n",
      "352/363 [============================>.] - ETA: 0s - loss: 0.3527\n",
      "val/train: 0.97\n",
      "363/363 [==============================] - 0s 994us/step - loss: 0.3504 - val_loss: 0.3394\n",
      "Epoch 55/100\n",
      "345/363 [===========================>..] - ETA: 0s - loss: 0.3458\n",
      "val/train: 0.99\n",
      "363/363 [==============================] - 0s 995us/step - loss: 0.3451 - val_loss: 0.3422\n",
      "Epoch 56/100\n",
      "357/363 [============================>.] - ETA: 0s - loss: 0.3404\n",
      "val/train: 1.00\n",
      "363/363 [==============================] - 0s 964us/step - loss: 0.3410 - val_loss: 0.3418\n",
      "Epoch 57/100\n",
      "361/363 [============================>.] - ETA: 0s - loss: 0.3411\n",
      "val/train: 1.00\n",
      "363/363 [==============================] - 0s 983us/step - loss: 0.3408 - val_loss: 0.3417\n",
      "Epoch 58/100\n",
      "353/363 [============================>.] - ETA: 0s - loss: 0.3543\n",
      "val/train: 0.96\n",
      "363/363 [==============================] - 0s 974us/step - loss: 0.3532 - val_loss: 0.3387\n",
      "Epoch 59/100\n",
      "362/363 [============================>.] - ETA: 0s - loss: 0.3506\n",
      "val/train: 0.97\n",
      "363/363 [==============================] - 0s 956us/step - loss: 0.3502 - val_loss: 0.3388\n",
      "Epoch 60/100\n",
      "357/363 [============================>.] - ETA: 0s - loss: 0.3410\n",
      "val/train: 1.00\n",
      "363/363 [==============================] - 0s 994us/step - loss: 0.3396 - val_loss: 0.3388\n",
      "Epoch 61/100\n",
      "352/363 [============================>.] - ETA: 0s - loss: 0.3420\n",
      "val/train: 0.99\n",
      "363/363 [==============================] - 0s 1ms/step - loss: 0.3403 - val_loss: 0.3366\n",
      "Epoch 62/100\n",
      "355/363 [============================>.] - ETA: 0s - loss: 0.3397\n",
      "val/train: 0.99\n",
      "363/363 [==============================] - 0s 978us/step - loss: 0.3399 - val_loss: 0.3370\n",
      "Epoch 63/100\n",
      "359/363 [============================>.] - ETA: 0s - loss: 0.3382\n",
      "val/train: 1.00\n",
      "363/363 [==============================] - 0s 964us/step - loss: 0.3383 - val_loss: 0.3374\n",
      "Epoch 64/100\n",
      "349/363 [===========================>..] - ETA: 0s - loss: 0.3359\n",
      "val/train: 1.00\n",
      "363/363 [==============================] - 0s 978us/step - loss: 0.3370 - val_loss: 0.3368\n",
      "Epoch 65/100\n",
      "331/363 [==========================>...] - ETA: 0s - loss: 0.3368\n",
      "val/train: 1.00\n",
      "363/363 [==============================] - 0s 1ms/step - loss: 0.3366 - val_loss: 0.3364\n",
      "Epoch 66/100\n",
      "348/363 [===========================>..] - ETA: 0s - loss: 0.3367\n",
      "val/train: 1.00\n",
      "363/363 [==============================] - 0s 1ms/step - loss: 0.3367 - val_loss: 0.3383\n",
      "Epoch 67/100\n",
      "348/363 [===========================>..] - ETA: 0s - loss: 0.3543\n",
      "val/train: 0.95\n",
      "363/363 [==============================] - 0s 1ms/step - loss: 0.3526 - val_loss: 0.3340\n",
      "Epoch 68/100\n",
      "345/363 [===========================>..] - ETA: 0s - loss: 0.3384\n",
      "val/train: 1.00\n",
      "363/363 [==============================] - 0s 990us/step - loss: 0.3395 - val_loss: 0.3384\n",
      "Epoch 69/100\n",
      "353/363 [============================>.] - ETA: 0s - loss: 0.3375\n",
      "val/train: 0.99\n",
      "363/363 [==============================] - 0s 982us/step - loss: 0.3366 - val_loss: 0.3343\n",
      "Epoch 70/100\n",
      "349/363 [===========================>..] - ETA: 0s - loss: 0.3341\n",
      "val/train: 1.01\n",
      "363/363 [==============================] - 0s 1ms/step - loss: 0.3342 - val_loss: 0.3376\n",
      "Epoch 71/100\n",
      "298/363 [=======================>......] - ETA: 0s - loss: 0.3358\n",
      "val/train: 1.01\n",
      "363/363 [==============================] - 0s 1ms/step - loss: 0.3345 - val_loss: 0.3369\n",
      "Epoch 72/100\n",
      "360/363 [============================>.] - ETA: 0s - loss: 0.3329\n",
      "val/train: 1.00\n",
      "363/363 [==============================] - 0s 982us/step - loss: 0.3338 - val_loss: 0.3341\n",
      "Epoch 73/100\n",
      "319/363 [=========================>....] - ETA: 0s - loss: 0.3440\n",
      "val/train: 0.99\n",
      "363/363 [==============================] - 0s 1ms/step - loss: 0.3351 - val_loss: 0.3333\n",
      "Epoch 74/100\n",
      "342/363 [===========================>..] - ETA: 0s - loss: 0.3355\n",
      "val/train: 1.00\n",
      "363/363 [==============================] - 0s 1ms/step - loss: 0.3341 - val_loss: 0.3347\n",
      "Epoch 75/100\n",
      "362/363 [============================>.] - ETA: 0s - loss: 0.3330\n",
      "val/train: 1.00\n",
      "363/363 [==============================] - 0s 1ms/step - loss: 0.3329 - val_loss: 0.3320\n",
      "Epoch 76/100\n",
      "331/363 [==========================>...] - ETA: 0s - loss: 0.3278\n",
      "val/train: 1.00\n",
      "363/363 [==============================] - 0s 1ms/step - loss: 0.3320 - val_loss: 0.3335\n",
      "Epoch 77/100\n",
      "336/363 [==========================>...] - ETA: 0s - loss: 0.3338\n",
      "val/train: 0.99\n",
      "363/363 [==============================] - 0s 1ms/step - loss: 0.3333 - val_loss: 0.3308\n",
      "Epoch 78/100\n",
      "350/363 [===========================>..] - ETA: 0s - loss: 0.3345\n",
      "val/train: 1.00\n",
      "363/363 [==============================] - 0s 1ms/step - loss: 0.3325 - val_loss: 0.3322\n",
      "Epoch 79/100\n",
      "324/363 [=========================>....] - ETA: 0s - loss: 0.3341\n",
      "val/train: 1.00\n",
      "363/363 [==============================] - 0s 1ms/step - loss: 0.3320 - val_loss: 0.3321\n",
      "Epoch 80/100\n",
      "335/363 [==========================>...] - ETA: 0s - loss: 0.3282\n",
      "val/train: 1.00\n",
      "363/363 [==============================] - 0s 1ms/step - loss: 0.3303 - val_loss: 0.3312\n",
      "Epoch 81/100\n",
      "339/363 [===========================>..] - ETA: 0s - loss: 0.3314\n",
      "val/train: 1.01\n",
      "363/363 [==============================] - 0s 1ms/step - loss: 0.3303 - val_loss: 0.3324\n",
      "Epoch 82/100\n",
      "340/363 [===========================>..] - ETA: 0s - loss: 0.3318\n",
      "val/train: 1.00\n",
      "363/363 [==============================] - 0s 994us/step - loss: 0.3336 - val_loss: 0.3336\n",
      "Epoch 83/100\n",
      "346/363 [===========================>..] - ETA: 0s - loss: 0.3293\n",
      "val/train: 1.01\n",
      "363/363 [==============================] - 0s 1ms/step - loss: 0.3288 - val_loss: 0.3311\n",
      "Epoch 84/100\n",
      "320/363 [=========================>....] - ETA: 0s - loss: 0.3280\n",
      "val/train: 1.00\n",
      "363/363 [==============================] - 0s 1ms/step - loss: 0.3296 - val_loss: 0.3300\n",
      "Epoch 85/100\n",
      "337/363 [==========================>...] - ETA: 0s - loss: 0.3318\n",
      "val/train: 1.00\n",
      "363/363 [==============================] - 0s 1ms/step - loss: 0.3291 - val_loss: 0.3288\n",
      "Epoch 86/100\n",
      "316/363 [=========================>....] - ETA: 0s - loss: 0.3291\n",
      "val/train: 1.01\n",
      "363/363 [==============================] - 0s 1ms/step - loss: 0.3282 - val_loss: 0.3323\n",
      "Epoch 87/100\n",
      "359/363 [============================>.] - ETA: 0s - loss: 0.3288\n",
      "val/train: 1.01\n",
      "363/363 [==============================] - 0s 1ms/step - loss: 0.3276 - val_loss: 0.3315\n",
      "Epoch 88/100\n",
      "362/363 [============================>.] - ETA: 0s - loss: 0.3282\n",
      "val/train: 1.00\n",
      "363/363 [==============================] - 0s 1ms/step - loss: 0.3281 - val_loss: 0.3280\n",
      "Epoch 89/100\n",
      "333/363 [==========================>...] - ETA: 0s - loss: 0.3283\n",
      "val/train: 1.00\n",
      "363/363 [==============================] - 0s 1ms/step - loss: 0.3264 - val_loss: 0.3273\n",
      "Epoch 90/100\n",
      "343/363 [===========================>..] - ETA: 0s - loss: 0.3227\n",
      "val/train: 1.03\n",
      "363/363 [==============================] - 0s 1ms/step - loss: 0.3263 - val_loss: 0.3345\n",
      "Epoch 91/100\n",
      "330/363 [==========================>...] - ETA: 0s - loss: 0.3247\n",
      "val/train: 1.00\n",
      "363/363 [==============================] - 0s 1ms/step - loss: 0.3272 - val_loss: 0.3264\n",
      "Epoch 92/100\n",
      "347/363 [===========================>..] - ETA: 0s - loss: 0.3248\n",
      "val/train: 1.02\n",
      "363/363 [==============================] - 0s 991us/step - loss: 0.3264 - val_loss: 0.3315\n",
      "Epoch 93/100\n",
      "340/363 [===========================>..] - ETA: 0s - loss: 0.3233\n",
      "val/train: 1.01\n",
      "363/363 [==============================] - 0s 1ms/step - loss: 0.3251 - val_loss: 0.3292\n",
      "Epoch 94/100\n",
      "322/363 [=========================>....] - ETA: 0s - loss: 0.3257\n",
      "val/train: 1.00\n",
      "363/363 [==============================] - 0s 1ms/step - loss: 0.3286 - val_loss: 0.3273\n",
      "Epoch 95/100\n",
      "327/363 [==========================>...] - ETA: 0s - loss: 0.3294\n",
      "val/train: 1.01\n",
      "363/363 [==============================] - 0s 1ms/step - loss: 0.3255 - val_loss: 0.3275\n",
      "Epoch 96/100\n",
      "332/363 [==========================>...] - ETA: 0s - loss: 0.3296\n",
      "val/train: 1.01\n",
      "363/363 [==============================] - 0s 1ms/step - loss: 0.3251 - val_loss: 0.3285\n",
      "Epoch 97/100\n",
      "342/363 [===========================>..] - ETA: 0s - loss: 0.3539\n",
      "val/train: 0.92\n",
      "363/363 [==============================] - 0s 1ms/step - loss: 0.3520 - val_loss: 0.3248\n",
      "Epoch 98/100\n",
      "320/363 [=========================>....] - ETA: 0s - loss: 0.3247\n",
      "val/train: 1.00\n",
      "363/363 [==============================] - 0s 1ms/step - loss: 0.3257 - val_loss: 0.3267\n",
      "Epoch 99/100\n",
      "328/363 [==========================>...] - ETA: 0s - loss: 0.3272\n",
      "val/train: 1.01\n",
      "363/363 [==============================] - 0s 1ms/step - loss: 0.3233 - val_loss: 0.3279\n",
      "Epoch 100/100\n",
      "335/363 [==========================>...] - ETA: 0s - loss: 0.3219\n",
      "val/train: 1.02\n",
      "363/363 [==============================] - 0s 1ms/step - loss: 0.3233 - val_loss: 0.3291\n"
     ]
    }
   ],
   "source": [
    "my_cb = PrintValTrainRatioCallback()\n",
    "history = model.fit(\n",
    "    X_train, y_train, epochs=100,\n",
    "    validation_data=(X_valid, y_valid),\n",
    "    callbacks=[checkpoint_cb, early_stopping_cb, my_cb]\n",
    ")\n",
    "\n",
    "# 왜 에포크마다 두 줄씩 나와?"
   ]
  },
  {
   "cell_type": "markdown",
   "metadata": {},
   "source": [
    "#### tensorboard 사용하기"
   ]
  },
  {
   "cell_type": "code",
   "execution_count": 83,
   "metadata": {},
   "outputs": [],
   "source": [
    "import os\n",
    "root_logdir = os.path.join(os.curdir, \"my_logs\")\n",
    "\n",
    "def get_run_logdir():\n",
    "    import time\n",
    "    run_id = time.strftime(\"run_%Y_%m_%d-%H_%M_%S\")\n",
    "    return os.path.join(root_logdir, run_id)\n",
    "\n",
    "run_logdir = get_run_logdir()"
   ]
  },
  {
   "cell_type": "code",
   "execution_count": 84,
   "metadata": {},
   "outputs": [
    {
     "name": "stdout",
     "output_type": "stream",
     "text": [
      "Epoch 1/30\n",
      "363/363 [==============================] - 0s 1ms/step - loss: 0.3221 - val_loss: 0.3281\n",
      "Epoch 2/30\n",
      "363/363 [==============================] - 0s 1ms/step - loss: 0.3230 - val_loss: 0.3261\n",
      "Epoch 3/30\n",
      "363/363 [==============================] - 0s 1ms/step - loss: 0.3220 - val_loss: 0.3242\n",
      "Epoch 4/30\n",
      "363/363 [==============================] - 0s 1ms/step - loss: 0.3219 - val_loss: 0.3235\n",
      "Epoch 5/30\n",
      "363/363 [==============================] - 0s 1ms/step - loss: 0.3212 - val_loss: 0.3224\n",
      "Epoch 6/30\n",
      "363/363 [==============================] - 0s 1ms/step - loss: 0.3206 - val_loss: 0.3270\n",
      "Epoch 7/30\n",
      "363/363 [==============================] - 0s 1ms/step - loss: 0.3215 - val_loss: 0.3225\n",
      "Epoch 8/30\n",
      "363/363 [==============================] - 0s 1ms/step - loss: 0.3208 - val_loss: 0.3248\n",
      "Epoch 9/30\n",
      "363/363 [==============================] - 0s 1ms/step - loss: 0.3199 - val_loss: 0.3239\n",
      "Epoch 10/30\n",
      "363/363 [==============================] - 0s 1ms/step - loss: 0.3186 - val_loss: 0.3217\n",
      "Epoch 11/30\n",
      "363/363 [==============================] - 0s 1ms/step - loss: 0.3198 - val_loss: 0.3236\n",
      "Epoch 12/30\n",
      "363/363 [==============================] - 0s 1ms/step - loss: 0.3190 - val_loss: 0.3233\n",
      "Epoch 13/30\n",
      "363/363 [==============================] - 0s 975us/step - loss: 0.3190 - val_loss: 0.3226\n",
      "Epoch 14/30\n",
      "363/363 [==============================] - 0s 1ms/step - loss: 0.3183 - val_loss: 0.3234\n",
      "Epoch 15/30\n",
      "363/363 [==============================] - 0s 1ms/step - loss: 0.3176 - val_loss: 0.3240\n",
      "Epoch 16/30\n",
      "363/363 [==============================] - 0s 1ms/step - loss: 0.3180 - val_loss: 0.3215\n",
      "Epoch 17/30\n",
      "363/363 [==============================] - 0s 1ms/step - loss: 0.3178 - val_loss: 0.3200\n",
      "Epoch 18/30\n",
      "363/363 [==============================] - 0s 1ms/step - loss: 0.3167 - val_loss: 0.3195\n",
      "Epoch 19/30\n",
      "363/363 [==============================] - 0s 1ms/step - loss: 0.3175 - val_loss: 0.3204\n",
      "Epoch 20/30\n",
      "363/363 [==============================] - 0s 1ms/step - loss: 0.3169 - val_loss: 0.3210\n",
      "Epoch 21/30\n",
      "363/363 [==============================] - 0s 1ms/step - loss: 0.3165 - val_loss: 0.3204\n",
      "Epoch 22/30\n",
      "363/363 [==============================] - 0s 1ms/step - loss: 0.3165 - val_loss: 0.3222\n",
      "Epoch 23/30\n",
      "363/363 [==============================] - 0s 1ms/step - loss: 0.3167 - val_loss: 0.3203\n",
      "Epoch 24/30\n",
      "363/363 [==============================] - 0s 1ms/step - loss: 0.3153 - val_loss: 0.3192\n",
      "Epoch 25/30\n",
      "363/363 [==============================] - 0s 1ms/step - loss: 0.3161 - val_loss: 0.3179\n",
      "Epoch 26/30\n",
      "363/363 [==============================] - 0s 1ms/step - loss: 0.3151 - val_loss: 0.3192\n",
      "Epoch 27/30\n",
      "363/363 [==============================] - 0s 991us/step - loss: 0.3149 - val_loss: 0.3196\n",
      "Epoch 28/30\n",
      "363/363 [==============================] - 0s 995us/step - loss: 0.3144 - val_loss: 0.3170\n",
      "Epoch 29/30\n",
      "363/363 [==============================] - 0s 1ms/step - loss: 0.3142 - val_loss: 0.3178\n",
      "Epoch 30/30\n",
      "363/363 [==============================] - 0s 1ms/step - loss: 0.3163 - val_loss: 0.3195\n"
     ]
    }
   ],
   "source": [
    "tensorboard_cb = keras.callbacks.TensorBoard(run_logdir)\n",
    "history = model.fit(\n",
    "    X_train, y_train, epochs=30,\n",
    "    validation_data=(X_valid, y_valid),\n",
    "    callbacks=[tensorboard_cb]\n",
    ")"
   ]
  },
  {
   "cell_type": "code",
   "execution_count": null,
   "metadata": {},
   "outputs": [],
   "source": []
  }
 ],
 "metadata": {
  "kernelspec": {
   "display_name": "Python 3.10.7 ('venv_ml': venv)",
   "language": "python",
   "name": "python3"
  },
  "language_info": {
   "codemirror_mode": {
    "name": "ipython",
    "version": 3
   },
   "file_extension": ".py",
   "mimetype": "text/x-python",
   "name": "python",
   "nbconvert_exporter": "python",
   "pygments_lexer": "ipython3",
   "version": "3.10.7"
  },
  "orig_nbformat": 4,
  "vscode": {
   "interpreter": {
    "hash": "34f79edca71b491da1184107855aae9e808535a0ee8a0ea99ef7c0ae573f9e6f"
   }
  }
 },
 "nbformat": 4,
 "nbformat_minor": 2
}
