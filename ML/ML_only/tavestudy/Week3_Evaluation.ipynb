{
 "cells": [
  {
   "cell_type": "markdown",
   "metadata": {},
   "source": [
    "# 평가\n",
    "- 데이터 예측 순서 : 데이터 가공/변환 -> 모델 학습/예측 -> 평가 순\n",
    "- 여러 방법으로 모델 성능을 평가할 수 있다.\n",
    "- 회귀 성능 평가 방법은 복잡하지 않음. 거의 다 같은 방법을 쓰는 듯\n",
    "- 분류의 성능 평가는 훨씬 까다롭다. 방법도 여러 가지\n",
    "- 평가 지표들\n",
    " - 1) 정확도\n",
    " - 2) 오차 행렬\n",
    " - 3) 정밀도\n",
    " - 4) 재현율\n",
    " - 5) F1 스코어\n",
    " - 6) ROC AUC"
   ]
  },
  {
   "cell_type": "markdown",
   "metadata": {},
   "source": [
    "## 1. 정확도\n",
    "- 실제 데이터와 예측 데이터가 얼마나 일치하는지를 판단\n",
    "- 직관적이라 좋을 순 있는데 모델의 예측 성능을 왜곡할 수 있다. 어떻게?\n",
    "- 예시 1 : 성별만으로 타이타닉 생존자 예측하고 정확도 계산\n",
    "- 예시 2 : 불균형 레이블 비율을 가진 데이터 셋에서, 무조건 0으로 예측하고 정확도 계산"
   ]
  },
  {
   "cell_type": "code",
   "execution_count": 4,
   "metadata": {},
   "outputs": [],
   "source": [
    "'''예시 1 : 성별만으로 타이타닉 생존자 예측하고, 정확도 계산하기.'''\n",
    "\n",
    "'''BaseEstimator 클래스를 상속받아 새로운 클래스를 만들면 사이킷런과 호환되는\n",
    "자기가 원하는 Estimator를 만들 수 있음'''\n",
    "\n",
    "# 성별이 여자인 경우 1(생존), 남자인 경우 0(사망) 으로 예측하는 Classifier\n",
    "from sklearn.base import BaseEstimator\n",
    "\n",
    "class MyDummyClassifier(BaseEstimator):  # 상속\n",
    "    # fit 메서드는 아무것도 하지 않음\n",
    "    def fit(self, X, y=None):\n",
    "        pass\n",
    "    # predict : Sex 피쳐의 0, 1 구분만 함\n",
    "    \n",
    "    def predict(self, X):\n",
    "        pred = np.zeros((X.shape[0], 1))\n",
    "        for i in range(X.shape[0]):\n",
    "            if X['Sex'].iloc[i] == 1:\n",
    "                pred[i] = 0\n",
    "            else:\n",
    "                pred[i] = 1\n",
    "                \n",
    "        return pred"
   ]
  },
  {
   "cell_type": "code",
   "execution_count": 5,
   "metadata": {},
   "outputs": [],
   "source": [
    "# 저번에 썼던 전처리 함수 가져오기 (뒤에 사용함)\n",
    "from sklearn.preprocessing import LabelEncoder\n",
    "\n",
    "def fillna(df):\n",
    "    df['Age'].fillna(df['Age'].mean(), inplace = True)\n",
    "    df['Cabin'].fillna('N', inplace = True)\n",
    "    df['Embarked'].fillna('N', inplace = True)\n",
    "    df['Fare'].fillna(0, inplace = True)\n",
    "    return df\n",
    "    \n",
    "def drop_features(df):\n",
    "    df.drop(['PassengerId', 'Name', 'Ticket'], axis = 1, inplace = True)\n",
    "    return df\n",
    "\n",
    "def format_features(df):\n",
    "    df['Cabin'] = df['Cabin'].str[:1]\n",
    "    features = ['Cabin', 'Sex', 'Embarked']\n",
    "    for feature in features:\n",
    "        le = LabelEncoder()\n",
    "        le = le.fit(df[feature])\n",
    "        df[feature] = le.transform(df[feature])\n",
    "    return df\n",
    "\n",
    "\n",
    "def transform_features(df):\n",
    "    df = fillna(df)\n",
    "    df = drop_features(df)\n",
    "    df = format_features(df)\n",
    "    return df"
   ]
  },
  {
   "cell_type": "code",
   "execution_count": 6,
   "metadata": {},
   "outputs": [
    {
     "name": "stdout",
     "output_type": "stream",
     "text": [
      "Dummy_classifier 정확도 : 0.7877\n"
     ]
    }
   ],
   "source": [
    "import numpy as np\n",
    "import pandas as pd\n",
    "from sklearn.model_selection import train_test_split\n",
    "from sklearn.metrics import accuracy_score\n",
    "\n",
    "# 원본 데이터 데이터 가공, 학습 데이터 / 테스트 분할.\n",
    "titanic_df = pd.read_csv(\"titanic/titanic_train.csv\")\n",
    "y_titanic_df = titanic_df['Survived']\n",
    "X_titanic_df = titanic_df.drop('Survived', axis = 1)\n",
    "X_titanic_df = transform_features(X_titanic_df)\n",
    "X_train, X_test, y_train, y_test = train_test_split(X_titanic_df, y_titanic_df,\n",
    "                                                    test_size = 0.2, random_state = 0)\n",
    "\n",
    "# 더미 클래지파이어로 분류\n",
    "\n",
    "myclf = MyDummyClassifier()\n",
    "myclf.fit(X_train, y_train) # pass\n",
    "\n",
    "mypredictions = myclf.predict(X_test)\n",
    "print(\"Dummy_classifier 정확도 : {0:.4f}\".format(accuracy_score(y_test, mypredictions)))"
   ]
  },
  {
   "cell_type": "markdown",
   "metadata": {},
   "source": [
    "- 단순한 알고리즘, 그렇지만 정확도는 78.77%\n",
    "- 그러니까 조심히 써야 합니다.."
   ]
  },
  {
   "cell_type": "code",
   "execution_count": 7,
   "metadata": {},
   "outputs": [],
   "source": [
    "'''예시 2 : 불균형 레이블 비율(1:10%, 0:90%)을 가진 데이터셋에서 \n",
    "무조건 0으로 예측하고 정확도 계산.'''\n",
    "\n",
    "# MNIST Data 활용\n",
    "from sklearn.datasets import load_digits\n",
    "from sklearn.model_selection import train_test_split\n",
    "from sklearn.base import BaseEstimator\n",
    "from sklearn.metrics import accuracy_score\n",
    "import numpy as np\n",
    "import pandas as pd\n",
    "\n",
    "# 모든 데이터의 label을 0으로 예측하는 Estimator 클래스 생성\n",
    "class MyFakeClassifier(BaseEstimator):\n",
    "    def fit(self, X, y):\n",
    "        pass\n",
    "    # 입력값 들어오는 X 데이터 세트의 크기만큼 모두 0 값으로 만들어서 반환.\n",
    "    # 즉 모든 데이터세트의 예측값이 0\n",
    "    def predict(self, X):\n",
    "        return np.zeros((len(X), 1), dtype=bool)\n",
    "    \n",
    "digits = load_digits()\n",
    "\n",
    "# digits 번호가 7번이면 True이고 이를 astype(int)로 1로 변환, 7번이 아니면 False이고 0 변환\n",
    "y = (digits.target == 7).astype(int) # boolean mask를 int형 데이터들로 변환\n",
    "X_train, X_test, y_train, y_test = train_test_split(digits.data, y, random_state = 11)"
   ]
  },
  {
   "cell_type": "code",
   "execution_count": 8,
   "metadata": {},
   "outputs": [
    {
     "name": "stdout",
     "output_type": "stream",
     "text": [
      "[0 1 2 3 4 5 6 7 8 9 0 1 2 3 4 5 6 7 8 9]\n",
      "1797\n",
      "3    183\n",
      "5    182\n",
      "1    182\n",
      "6    181\n",
      "4    181\n",
      "9    180\n",
      "7    179\n",
      "0    178\n",
      "2    177\n",
      "8    174\n",
      "dtype: int64\n"
     ]
    }
   ],
   "source": [
    "# 참고 : digits 데이터는 0~9까지 10개의 레이블이 골고루 분포되어 있는, 1797개 데이터\n",
    "print(digits.target[:20])\n",
    "print(digits.target.shape[0])\n",
    "print(pd.Series(digits.target).value_counts())"
   ]
  },
  {
   "cell_type": "code",
   "execution_count": 9,
   "metadata": {},
   "outputs": [
    {
     "name": "stdout",
     "output_type": "stream",
     "text": [
      "레이블 테스트 세트 크기 :  (450,)\n",
      "테스트 세트 레이블 0, 1 분포도\n",
      "0    405\n",
      "1     45\n",
      "dtype: int64\n",
      "정확도 :0.900\n"
     ]
    }
   ],
   "source": [
    "# 레이블 분포도 확인\n",
    "print('레이블 테스트 세트 크기 : ', y_test.shape)\n",
    "print('테스트 세트 레이블 0, 1 분포도')\n",
    "print(pd.Series(y_test).value_counts())\n",
    "\n",
    "# Dummy classifier사용\n",
    "fakeclf = MyFakeClassifier()\n",
    "fakeclf.fit(X_train, y_train) # pass\n",
    "fakepred = fakeclf.predict(X_test)\n",
    "print(\"정확도 :{:.3f}\".format(accuracy_score(y_test, fakepred)))"
   ]
  },
  {
   "cell_type": "markdown",
   "metadata": {},
   "source": [
    "- 예측 모델이라고 취급하기 힘든 모델인데 정확도는 90%가 나왔다\n",
    "- 그러니까 정확도만 쓰는 건 안좋을 수 있따. 특히 불균형 레이블 데이터셋에서는!"
   ]
  },
  {
   "cell_type": "markdown",
   "metadata": {},
   "source": [
    "## 2. 오차 행렬 (confusion matrix)\n",
    "- 학습된 분류 모델이 예측을 수행하면서 얼마나 헷갈리고 있는지도 함께 보여준다.\n",
    "- 어떤 유형의 예측 오류가 발생하고 있는지를 함께 나타내는 지표\n",
    "- 오차행렬 사분면의 TN, FP, FN, TP 값을 다양하게 활용해서 분류 모델 예측 성능의 오류가 어떻게 나타나는지 확인한다.\n",
    " - 실제값 분류가 행에, 예측값 분류가 열에 놓임.\n",
    "\n",
    "\n",
    "\n",
    "* 헷갈리는 것들 정리\n",
    "\n",
    "\n",
    "1. TN : Negative 라고 예측해서, True(맞음)\n",
    "2. FP : Positive 라고 예측해서, False(틀림)\n",
    "3. FN : Negative 라고 예측해서, False(틀림)\n",
    "4. TP : Positive 라고 예측해서, True(맞음)\n",
    "\n",
    "\n",
    "- TN, TP를 높이면 좋은거임\n",
    "- 오차행렬 그림 p153"
   ]
  },
  {
   "cell_type": "code",
   "execution_count": 10,
   "metadata": {},
   "outputs": [
    {
     "data": {
      "text/plain": [
       "array([[405,   0],\n",
       "       [ 45,   0]], dtype=int64)"
      ]
     },
     "execution_count": 10,
     "metadata": {},
     "output_type": "execute_result"
    }
   ],
   "source": [
    "# 오차행렬(오차행렬 그림)\n",
    "\n",
    "# TN, FP\n",
    "# FN, TP\n",
    "\n",
    "# sklearn에서 confusion matrix 클래스\n",
    "from sklearn.metrics import confusion_matrix\n",
    "\n",
    "# MNIST 데이터 예측 결과를 오차행렬로 표시\n",
    "# accuracy_score(y_test, pred)의 인자와 마찬가지로, 앞에 실제값, 뒤에 예측값 데이터를 집어넣는다.\n",
    "# 실제값과 예측값 순서가 바뀌면 안됨! 바뀌면 행렬이 Transpose돼서 뭐가 뭔지 헷갈려짐 ㅠ\n",
    "confusion_matrix(y_test, fakepred)"
   ]
  },
  {
   "cell_type": "markdown",
   "metadata": {},
   "source": [
    "- 정확도 = 예측 결과와 실제값이 동일한 건수 / 전체 데이터수\n",
    "- = (TN + TP)/(TN + FP + FN + TP)\n",
    "- TN, TP, FN, FP 값들은 Classifier 성능의 여러 면모를 판단할 수 있는 기반 정보를 제공한다.\n",
    "- 뒤에 나올 여러 평가지표들에서 이들을 사용함\n",
    "\n",
    "-------------------------------------------\n",
    "\n",
    "- 불균형 레이블 클래스를 가지는 이진 분류 모델에선 일반적으로, 중점적으로 찾아야 하는 아주 적은 수의 결과값에 Positive(1), 그렇지 않은 경우엔 Negative(0)을 부여한다. ex. 암 검진 예측 모델/사기 행위 예측 모델\n",
    "\n",
    "\n",
    "- 따라서 이런 데이터 세트에서는 Positive 데이터가 매우 작기 때문에, ML 알고리즘이 Positive 보다 Negative 로 예측할 때의 정확도가 더 커지는 현상이 생긴다.\n",
    "\n",
    "\n",
    "- Negative 예측이 Positive 예측보다 정확함 -> TN이 커지고, TP가 작아짐\n",
    "- Negative로 예측할 때 정확도가 큼 -> FN은 작아짐\n",
    "- Positive로 예측 자체를 잘 안함 -> FP도 작아짐\n",
    "\n",
    "\n",
    "- -> 결과적으로, Positive를 잘 예측해야 하는 특징의 데이터에서, TN만 커져서 정확도가 커지는, 그래서 좋은 모델이라고 평가하는 오류가 생김\n",
    "\n",
    "#### 결론 : 정확도만으로는 신뢰도가 떨어진다."
   ]
  },
  {
   "cell_type": "markdown",
   "metadata": {},
   "source": [
    "## 3. 정밀도, 재현율\n",
    "- Positive 데이터 세트의 예측 성능에 더 초점을 맞춘 평가 지표 (즉, 암 검진이나 사기 행위 예측 모델 등에서 사용 가능\n",
    "- 정밀도 = TP / (FP + TP) : Positive로 예측한 것들 중에, Positive임을 맞춘 비율\n",
    "- 재현율 = TP / (FN + TP) : 실제 Positive인 것들 중에, Positive임을 맞춘 비율\n",
    "\n",
    "- 정밀도는 예측 성능을 더욱 정밀하게 측정하기 위한 평가 지표, 양성 예측도라고도 한다.\n",
    " - Positive로 예측한 것들이 얼마나 정밀한가.\n",
    "- 재현율은 민감도(Sensitivity) 또는 TPR이라고도 한다.\n",
    " - 얼마나 실제와 비슷하게 재현했는가.\n",
    "\n",
    "\n",
    "------------------------------------------------\n",
    "\n",
    "#### 중요 : 정밀도와 재현율 중 어떤 게 더 중요한 지표일지\n",
    "- __재현율__이 중요 지표인 경우 : 실제 Positive 데이터를 Negative로 잘못 판단하면 업무상 큰 영향이 발생하는 경우(즉, FN이 작아야 하는 경우)\n",
    "- ex. 암 판단 모델 : 암인데 암이 아닌 걸로 잘못 판단하면 큰일남\n",
    "- ex2. 금융 사기 적발 모델 : 사기인데 아닌 걸로 잘못 판단하면 큰일남\n",
    "\n",
    "\n",
    "- __정밀도__가 중요 지표인 경우 : 실제 Negative 데이터를 Positive로 잘못 판단하면 업무상 큰 영향이 발생하는 경우(즉, FP가 작아야 하는 경우)"
   ]
  },
  {
   "cell_type": "code",
   "execution_count": 36,
   "metadata": {},
   "outputs": [],
   "source": [
    "# 정밀도, 재현율\n",
    "# 정밀도 : precision_score\n",
    "# 재현율 : recall_score\n",
    "\n",
    "from sklearn.metrics import accuracy_score, precision_score, recall_score, confusion_matrix\n",
    "\n",
    "# 한꺼번에 보여주는 함수 하나 장만\n",
    "def get_clf_eval(y_test, pred):\n",
    "    confusion = confusion_matrix(y_test, pred)\n",
    "    accuracy = accuracy_score(y_test, pred)\n",
    "    precision = precision_score(y_test, pred)\n",
    "    recall = recall_score(y_test, pred)\n",
    "    print('오차행렬')\n",
    "    print(confusion)\n",
    "    print('정확도:{:.4f}, 정밀도:{:.4f}, 재현율:{:.4f}'.format(accuracy, precision, recall))"
   ]
  },
  {
   "cell_type": "code",
   "execution_count": 12,
   "metadata": {},
   "outputs": [
    {
     "name": "stdout",
     "output_type": "stream",
     "text": [
      "오차행렬\n",
      "[[104  14]\n",
      " [ 13  48]]\n",
      "정확도:0.8492, 정밀도:0.7742, 재현율:0.7869\n"
     ]
    },
    {
     "name": "stderr",
     "output_type": "stream",
     "text": [
      "C:\\Users\\frank\\Anaconda3\\lib\\site-packages\\sklearn\\linear_model\\_logistic.py:765: ConvergenceWarning: lbfgs failed to converge (status=1):\n",
      "STOP: TOTAL NO. of ITERATIONS REACHED LIMIT.\n",
      "\n",
      "Increase the number of iterations (max_iter) or scale the data as shown in:\n",
      "    https://scikit-learn.org/stable/modules/preprocessing.html\n",
      "Please also refer to the documentation for alternative solver options:\n",
      "    https://scikit-learn.org/stable/modules/linear_model.html#logistic-regression\n",
      "  extra_warning_msg=_LOGISTIC_SOLVER_CONVERGENCE_MSG)\n"
     ]
    }
   ],
   "source": [
    "# 로지스틱 회귀로 타이타닉 생존자 예측, confusion matrix, accuracy, precision, recall 확인\n",
    "\n",
    "import pandas as pd\n",
    "from sklearn.model_selection import train_test_split\n",
    "from sklearn.linear_model import LogisticRegression\n",
    "\n",
    "# 원본 데이터 아까처럼 전처리\n",
    "titanic_df = pd.read_csv(\"titanic/titanic_train.csv\")\n",
    "y_titanic_df = titanic_df['Survived']\n",
    "X_titanic_df = titanic_df.drop('Survived', axis=1)\n",
    "X_titanic_df = transform_features(X_titanic_df)\n",
    "\n",
    "X_train, X_test, y_train, y_test = train_test_split(X_titanic_df, y_titanic_df, \n",
    "                                                    test_size = 0.2, random_state = 11)\n",
    "\n",
    "lr_clf = LogisticRegression()\n",
    "lr_clf.fit(X_train, y_train)\n",
    "pred = lr_clf.predict(X_test)\n",
    "get_clf_eval(y_test, pred)"
   ]
  },
  {
   "cell_type": "markdown",
   "metadata": {},
   "source": [
    "### 3-1. 정밀도 - 재현율 트레이드오프\n",
    "\n",
    "- 정밀도, 또는 재현율이 특별히 강조돼야 할 경우, 분류의 결정 임곗값을 조절해 정밀도/재현율의 수치를 높일 수 있다.\n",
    "\n",
    "\n",
    "- 사이킷런의 분류 알고리즘은, 예측 데이터가 특정 레이블에 속하는지 계산하기 위해, 먼저 개별 레이블별로 결정 확률을 구한다. 그리고 예측 확률이 큰 레이블 값으로 에측하게 된다.\n",
    "\n",
    "\n",
    "- ex. 특정 데이터가 0이 될 확률이 10%, 1이 될 확률이 90%로 나왔다면 얘는 1로 예측\n",
    "\n",
    "\n",
    "- 원래는 0.5 이하이면 0(Negative), 0.5 이상이면 1(Positive)가 되도록 임곗값이 설정되어 있을 것.\n",
    "\n",
    "\n",
    "- ex. 재현율이 높아야 하는 경우(즉, FN이 작아야 하는 경우) : Positive로 예측 결과를 도출하기 쉽도록, 임곗값을 낮춘다."
   ]
  },
  {
   "cell_type": "markdown",
   "metadata": {},
   "source": [
    "predict_proba()\n",
    "- 개별 데이터별로 예측 확률을 반환하는 메서드\n",
    "- predict()메서드와 유사하지만 반환 결과가 예측 결과 클래스값이 아니라, 예측 확률 결과.\n",
    "- 반환되는 ndarray에서 첫 번째 컬럼이 클래스 0으로 예측할 확률, 두 번째 컬럼이 클래스 1로 예측할 확률\n",
    "---------\n",
    "predict_proba()메소드, Binarizer 클래스를 이용해서 임곗값을 조절하고 정밀도, 재현율 확인\n",
    "- predict_proba()의 반환값에서 두 번째 컬럼(데이터가 클래스 1로 예측될 확률)에 Binarizer를 적용한다."
   ]
  },
  {
   "cell_type": "code",
   "execution_count": 13,
   "metadata": {},
   "outputs": [
    {
     "name": "stdout",
     "output_type": "stream",
     "text": [
      "pred_proba array 앞3개만 추출\n",
      " [[0.46190673 0.53809327]\n",
      " [0.87861966 0.12138034]\n",
      " [0.87716687 0.12283313]]\n",
      "두개 클래스 중에서 더 큰 확률을 클래스값으로\n",
      " [[0.46190673 0.53809327 1.        ]\n",
      " [0.87861966 0.12138034 0.        ]\n",
      " [0.87716687 0.12283313 0.        ]]\n"
     ]
    }
   ],
   "source": [
    "# 정밀도-재현율 트레이드오프\n",
    "\n",
    "# predict_proba() : 각 데이터가 어떤 레이블로 예측될지 확률을 표시하는 메서드\n",
    "\n",
    "pred_proba = lr_clf.predict_proba(X_test)\n",
    "pred = lr_clf.predict(X_test)\n",
    "print('pred_proba array 앞3개만 추출\\n', pred_proba[:3])\n",
    "\n",
    "# 예측확률 array와, 예측결과 array 합쳐서 확인\n",
    "pred_proba_result = np.concatenate([pred_proba, pred.reshape(-1, 1)], axis = 1)\n",
    "print('두개 클래스 중에서 더 큰 확률을 클래스값으로\\n', pred_proba_result[:3])"
   ]
  },
  {
   "cell_type": "code",
   "execution_count": 14,
   "metadata": {},
   "outputs": [
    {
     "name": "stdout",
     "output_type": "stream",
     "text": [
      "[[0. 0. 1.]\n",
      " [1. 0. 0.]\n",
      " [0. 0. 1.]]\n"
     ]
    }
   ],
   "source": [
    "# Binarizer 클래스\n",
    "# 객체 생성할 때 threshold 인자를 받는다. bin = Binarizer(threshold = float) \n",
    "# binarizer.fit_transform(ndarray) 형태로 사용\n",
    "# threshold 보다 같거나 작으면 0, 크면 1 반환\n",
    "\n",
    "from sklearn.preprocessing import Binarizer\n",
    "\n",
    "X = [[   1,  -1,   2],\n",
    "     [   2,   0,   0],\n",
    "     [   0, 1.1, 1.2]]\n",
    "\n",
    "binarizer = Binarizer(threshold=1.1)\n",
    "print(binarizer.fit_transform(X))"
   ]
  },
  {
   "cell_type": "code",
   "execution_count": 15,
   "metadata": {},
   "outputs": [
    {
     "name": "stdout",
     "output_type": "stream",
     "text": [
      "오차행렬\n",
      "[[104  14]\n",
      " [ 13  48]]\n",
      "정확도:0.8492, 정밀도:0.7742, 재현율:0.7869\n"
     ]
    }
   ],
   "source": [
    "# Binarizer 객체 생성할 때, threshold 조절\n",
    "\n",
    "from sklearn.preprocessing import Binarizer\n",
    "\n",
    "# Binarizer 의 threshold 설정값\n",
    "custom_threshold = 0.5\n",
    "\n",
    "# predict_proba() 반환값의 두번째 컬럼(결과 = 1, Positive) 칼럼만 추출해서 Binarizer 적용\n",
    "# Positive확률이 0.5보다 작거나 같으면 0, 아니면 1을 반환할 것\n",
    "pred_proba_1 = pred_proba[:, 1].reshape(-1, 1)\n",
    "\n",
    "binarizer = Binarizer(threshold = custom_threshold).fit(pred_proba_1)\n",
    "# 객체 생성하면서 한꺼번에 fit할수도 있나봄.\n",
    "custom_predict = binarizer.transform(pred_proba_1)\n",
    "\n",
    "get_clf_eval(y_test, custom_predict)"
   ]
  },
  {
   "cell_type": "code",
   "execution_count": 16,
   "metadata": {},
   "outputs": [
    {
     "name": "stdout",
     "output_type": "stream",
     "text": [
      "오차행렬\n",
      "[[98 20]\n",
      " [10 51]]\n",
      "정확도:0.8324, 정밀도:0.7183, 재현율:0.8361\n"
     ]
    }
   ],
   "source": [
    "# custom_threshold를 0.4 로 낮추어서 확인\n",
    "custom_threshold = 0.4\n",
    "pred_proba_1 = pred_proba[:, 1].reshape(-1, 1)\n",
    "binarizer = Binarizer(threshold = custom_threshold).fit(pred_proba_1)\n",
    "custom_predict = binarizer.transform(pred_proba_1)\n",
    "\n",
    "get_clf_eval(y_test, custom_predict)"
   ]
  },
  {
   "cell_type": "markdown",
   "metadata": {},
   "source": [
    "#### 임계값을 낮추면, 재현율은 올라가고 정밀도는 떨어졌음.\n",
    "- 임계값을 낮추면 Positive로 예측하기가 더 쉬워지기 때문에\n",
    "- FN이 줄어듦, FP는 늘어남."
   ]
  },
  {
   "cell_type": "code",
   "execution_count": 17,
   "metadata": {},
   "outputs": [
    {
     "name": "stdout",
     "output_type": "stream",
     "text": [
      "임계값: 0.4\n",
      "오차행렬\n",
      "[[98 20]\n",
      " [10 51]]\n",
      "정확도:0.8324, 정밀도:0.7183, 재현율:0.8361\n",
      "임계값: 0.45\n",
      "오차행렬\n",
      "[[103  15]\n",
      " [ 12  49]]\n",
      "정확도:0.8492, 정밀도:0.7656, 재현율:0.8033\n",
      "임계값: 0.5\n",
      "오차행렬\n",
      "[[104  14]\n",
      " [ 13  48]]\n",
      "정확도:0.8492, 정밀도:0.7742, 재현율:0.7869\n",
      "임계값: 0.55\n",
      "오차행렬\n",
      "[[109   9]\n",
      " [ 15  46]]\n",
      "정확도:0.8659, 정밀도:0.8364, 재현율:0.7541\n",
      "임계값: 0.6\n",
      "오차행렬\n",
      "[[112   6]\n",
      " [ 16  45]]\n",
      "정확도:0.8771, 정밀도:0.8824, 재현율:0.7377\n"
     ]
    }
   ],
   "source": [
    "# threshold값을 차례대로 대입하면서 Evaluation함\n",
    "thresholds = [0.4, 0.45, 0.5, 0.55, 0.6]\n",
    "\n",
    "# 임계값에 따라 데이터 예측 결과를 평가해주는 함수\n",
    "def get_eval_by_threshold(y_test, pred_proba_c1, thresholds):\n",
    "    for custom_threshold in thresholds:\n",
    "        binarizer = Binarizer(threshold = custom_threshold).fit(pred_proba_c1)\n",
    "        custom_predict = binarizer.transform(pred_proba_c1)\n",
    "        print('임계값:', custom_threshold)\n",
    "        get_clf_eval(y_test, custom_predict)\n",
    "        \n",
    "get_eval_by_threshold(y_test, pred_proba[:, 1].reshape(-1, 1), thresholds)"
   ]
  },
  {
   "cell_type": "markdown",
   "metadata": {},
   "source": [
    "### 3-2. 정밀도 - 재현율 그래프\n",
    "- precision_recall_curve()라는 클래스 사용. 인자가 이전까지 쓰던 지표들 쓸때랑 좀 다름, 반환값도 다름\n",
    "- 이전 : y_test, pred\n",
    "- 얘 : y_test, pred_proba[:, 1]\n",
    "\n",
    "\n",
    "- 반환값 : precisions, recalls, thresholds의 3개 배열"
   ]
  },
  {
   "cell_type": "code",
   "execution_count": 18,
   "metadata": {},
   "outputs": [
    {
     "name": "stdout",
     "output_type": "stream",
     "text": [
      "분류결정임계값 배열의 shape: (143,)\n",
      "임계값 배열 index: [  0  15  30  45  60  75  90 105 120 135]\n",
      "임계값: [0.1  0.12 0.14 0.19 0.28 0.4  0.56 0.67 0.82 0.95]\n",
      "정밀도: [0.389 0.44  0.466 0.539 0.647 0.729 0.836 0.949 0.958 1.   ]\n",
      "재현율: [1.    0.967 0.902 0.902 0.902 0.836 0.754 0.607 0.377 0.148]\n"
     ]
    }
   ],
   "source": [
    "from sklearn.metrics import precision_recall_curve\n",
    "\n",
    "# 레이블값을 1로 예측할 확률들\n",
    "pred_proba_class1 = lr_clf.predict_proba(X_test)[:,1]\n",
    "\n",
    "# 실제값 데이터 세트, 레이블 값 1로 예측할 확률을 precision_recall_curve 인자로\n",
    "# 반환값은 precision배열, recall배열, 그리고 각 prec, recall을 계산할 때 어떤 threshold에서\n",
    "# 계산했는지를 알려주는 배열.\n",
    "precisions, recalls, thresholds = precision_recall_curve(y_test, pred_proba_class1)\n",
    "print('분류결정임계값 배열의 shape:', thresholds.shape)\n",
    "# thresholds 배열은 그냥 지가 알아서 0.11~0.95 내에서 꽤 많이 담음\n",
    "\n",
    "# threshold 중에서 샘플로 10개만 추출, 15 step으로\n",
    "thr_index = np.arange(0, thresholds.shape[0], 15)\n",
    "print('임계값 배열 index:', thr_index)\n",
    "print('임계값:', np.round(thresholds[thr_index], 2))\n",
    "\n",
    "# 각 임계값의 정밀도, 재현율 값\n",
    "print('정밀도:', np.round(precisions[thr_index], 3))\n",
    "print('재현율:', np.round(recalls[thr_index], 3))"
   ]
  },
  {
   "cell_type": "code",
   "execution_count": 19,
   "metadata": {
    "scrolled": true
   },
   "outputs": [
    {
     "data": {
      "image/png": "[encoded data removed]",
      "text/plain": [
       "<Figure size 432x288 with 1 Axes>"
      ]
     },
     "metadata": {
      "needs_background": "light"
     },
     "output_type": "display_data"
    }
   ],
   "source": [
    "# 곡선 형태의 그래프로 시각화\n",
    "import matplotlib.pyplot as plt\n",
    "import matplotlib.ticker as ticker\n",
    "%matplotlib inline\n",
    "\n",
    "def precision_recall_curve_plot(y_test, pred_proba_c1):\n",
    "    # threshold ndarray, threshold에 따른 정밀도, 재현율 ndarray 추출\n",
    "    precisions, recalls, thresholds = precision_recall_curve(y_test, pred_proba_c1)\n",
    "    \n",
    "    # X축은 threshold, y축은 정밀도, 재현율 값으로 Plotting\n",
    "    #plt.figure(figsize = (8, 6))\n",
    "    threshold_boundary = thresholds.shape[0]\n",
    "    plt.plot(thresholds, precisions[0:threshold_boundary], linestyle='--', label = 'precision')\n",
    "    plt.plot(thresholds, recalls[0:threshold_boundary], label = 'recall')\n",
    "    \n",
    "    # threshold 값 X축의 scale 을 0.1로 변경\n",
    "    #start, end = plt.xlim()\n",
    "    #plt.xticks(np.round(np.arange(start, end, 0.1), 2))\n",
    "    \n",
    "    # x, y축 label과 legend, grid 설정\n",
    "    #plt.xlabel('Threshold value'); plt.ylabel('Precision and Recall value')\n",
    "    #plt.legend(); plt.grid()\n",
    "    plt.show()\n",
    "    \n",
    "precision_recall_curve_plot(y_test, lr_clf.predict_proba(X_test)[:, 1])"
   ]
  },
  {
   "cell_type": "markdown",
   "metadata": {},
   "source": [
    "### 3-3. 정밀도, 재현율의 맹점.\n",
    "- 두 개의 수치를 상호 보완할 수 있는 수준에서 임계값 변경\n",
    "- 어느 것 하나만 극단적으로 높이는 방법은 아무 도움이 안 된다.\n",
    "- ex. 암 진단에서\n",
    "- 1} 정밀도 100% 만들기\n",
    " - FP를 낮춰야 하므로, 진짜진짜 확실할 때만 암 판정, 아니면 다 정상 판정해버리면 됨\n",
    " - 이러면 데이터 분석을 할필요가 없음\n",
    "- 2} 재현율 100% 만들기\n",
    " - FN을 낮춰야 하므로, 그냥 모든 사람한테 Positive판정 때리면 됨\n",
    " - 마찬가지로 쓸필요가 없음\n",
    "--------------------\n",
    "#### 결론 : 둘 다 어느 정도는 좋아야 한다. 한쪽만 과도하게 높아봤자 소용없다"
   ]
  },
  {
   "cell_type": "markdown",
   "metadata": {},
   "source": [
    "## 4. F1 스코어\n",
    "- 정밀도, 재현율 결합한 지표\n",
    "- F1 = 2 / ((1/recall) + (1/precision)) = 2* ((precision*recall) / (precision+recall))\n",
    "- 두 지표가 어느 한쪽으로 치우치지 않을 때 상대적으로 높은 값을 가진다."
   ]
  },
  {
   "cell_type": "code",
   "execution_count": 20,
   "metadata": {},
   "outputs": [
    {
     "name": "stdout",
     "output_type": "stream",
     "text": [
      "F1 스코어 :0.7805\n"
     ]
    }
   ],
   "source": [
    "# F1스코어 : 정밀도와 재현율을 결합한 지표\n",
    "\n",
    "from sklearn.metrics import f1_score\n",
    "f1 = f1_score(y_test, pred) # accuracy, precision, recall_score 쓸때랑 똑같이! 쓰면됨\n",
    "print('F1 스코어 :{:.4f}'.format(f1))"
   ]
  },
  {
   "cell_type": "code",
   "execution_count": 21,
   "metadata": {},
   "outputs": [
    {
     "name": "stdout",
     "output_type": "stream",
     "text": [
      "임계값: 0.4\n",
      "오차행렬\n",
      "[[98 20]\n",
      " [10 51]]\n",
      "정확도:0.8324, 정밀도:0.7183, 재현율:0.8361, F1:0.7727\n",
      "임계값: 0.45\n",
      "오차행렬\n",
      "[[103  15]\n",
      " [ 12  49]]\n",
      "정확도:0.8492, 정밀도:0.7656, 재현율:0.8033, F1:0.7840\n",
      "임계값: 0.5\n",
      "오차행렬\n",
      "[[104  14]\n",
      " [ 13  48]]\n",
      "정확도:0.8492, 정밀도:0.7742, 재현율:0.7869, F1:0.7805\n",
      "임계값: 0.55\n",
      "오차행렬\n",
      "[[109   9]\n",
      " [ 15  46]]\n",
      "정확도:0.8659, 정밀도:0.8364, 재현율:0.7541, F1:0.7931\n",
      "임계값: 0.6\n",
      "오차행렬\n",
      "[[112   6]\n",
      " [ 16  45]]\n",
      "정확도:0.8771, 정밀도:0.8824, 재현율:0.7377, F1:0.8036\n"
     ]
    }
   ],
   "source": [
    "# 평가지표 알려주는 함수에 f1_score까지 같이 써주자\n",
    "def get_clf_eval(y_test, pred):\n",
    "    confusion = confusion_matrix(y_test, pred)\n",
    "    accuracy = accuracy_score(y_test, pred)\n",
    "    precision = precision_score(y_test, pred)\n",
    "    recall = recall_score(y_test, pred)\n",
    "    \n",
    "    f1 = f1_score(y_test, pred)\n",
    "    print('오차행렬')\n",
    "    print(confusion)\n",
    "    print('정확도:{:.4f}, 정밀도:{:.4f}, 재현율:{:.4f}, F1:{:.4f}'.format(accuracy, \n",
    "                                                                 precision, recall,\n",
    "                                                                 f1))\n",
    "    \n",
    "thresholds = [0.4, 0.45, 0.5, 0.55, 0.6] # 아까랑 똑같은 threshold 배열\n",
    "pred_proba = lr_clf.predict_proba(X_test)\n",
    "get_eval_by_threshold(y_test, pred_proba[:, 1].reshape(-1 ,1), thresholds)"
   ]
  },
  {
   "cell_type": "markdown",
   "metadata": {},
   "source": [
    "## 5. ROC곡선, AUC(Area Under Curve)\n",
    "- 이진 분류의 예측 성능 측정에서 중요하게 사용된다.\n",
    "- FPR(False Positive Rate)가 변할 때 TPR(True Positive Rate)가 어떻게 변하는지를 나타낸다.\n",
    "- TNR = TN / (FP + TN). 즉 실제 Negative중에서 Negative 예측에 성공한 수준.\n",
    "\n",
    "\n",
    "\n",
    "- __FPR = FP / (FP + TN) = 1 - TNR__ (1 - 특이성)\n",
    "- __TPR = TP / (FN + TP)__ (민감도)\n",
    "\n",
    "\n",
    "- #### 실제 P를 P로 잘 예측했는지 VS 실제 N을 N으로 잘 예측했는지\n",
    " - 정밀도, 재현율은 FP vs FN이었다. 결론적으로는 비슷한 맥락인듯\n",
    "\n",
    "- TPR은 재현율으로 아까 배웠던거랑 같음, FPR은 정밀도랑은 다른 얘기\n",
    "-----\n",
    "### 5-1. ROC 곡선\n",
    "- precision_recall_curve() 클래스와 마찬가지로, 인자로 y_test, pred_proba[:, 1]을 받음\n",
    "- 반환값 : FPRs, TPRs, thresholds의 3개 배열"
   ]
  },
  {
   "cell_type": "code",
   "execution_count": 22,
   "metadata": {},
   "outputs": [
    {
     "name": "stdout",
     "output_type": "stream",
     "text": [
      "샘플 추출을 위한 임곗값 배열의 index: [ 1  6 11 16 21 26 31 36 41 46 51]\n",
      "샘플 인덱스로 추출한 임곗값 : [0.97 0.65 0.63 0.56 0.45 0.4  0.35 0.15 0.13 0.11 0.11]\n",
      "샘플 임곗값별 FPR: [0.    0.017 0.034 0.076 0.127 0.169 0.203 0.466 0.585 0.686 0.797]\n",
      "샘플 임곗값별 TPR: [0.033 0.639 0.721 0.754 0.803 0.836 0.885 0.902 0.934 0.967 0.984]\n"
     ]
    }
   ],
   "source": [
    "# ROC곡선, AUC\n",
    "# FPR(False Positive Rate, Positive로 예측해서 틀림)이 변할 때 TPR(True Positive Rate)\n",
    "# (Positive로 예측해서 맞음)이 어떻게 변하는지를 나타낸다.\n",
    "# Positive의 예측정확성 VS Negative의 예측정확성\n",
    "\n",
    "from sklearn.metrics import roc_curve\n",
    "\n",
    "# label = 1일 때 예측확률\n",
    "pred_proba_class1 = lr_clf.predict_proba(X_test)[:, 1]\n",
    "\n",
    "fprs, tprs, thresholds = roc_curve(y_test, pred_proba_class1)\n",
    "# 반환된 임곗값 배열에서 샘플로 아까했던것처럼 데이터 추출, 5 step\n",
    "# 1번째 index는 그냥 넘김\n",
    "thr_index = np.arange(1, thresholds.shape[0], 5)\n",
    "print('샘플 추출을 위한 임곗값 배열의 index:', thr_index)\n",
    "print('샘플 인덱스로 추출한 임곗값 :', np.round(thresholds[thr_index], 2))\n",
    "\n",
    "# 5 step 단위로 추출된 임곗값에 따른 FPR, TPR값\n",
    "print('샘플 임곗값별 FPR:', np.round(fprs[thr_index], 3))\n",
    "print('샘플 임곗값별 TPR:', np.round(tprs[thr_index], 3))"
   ]
  },
  {
   "cell_type": "code",
   "execution_count": 23,
   "metadata": {},
   "outputs": [
    {
     "data": {
      "image/png": "[encoded data removed]",
      "text/plain": [
       "<Figure size 432x288 with 1 Axes>"
      ]
     },
     "metadata": {
      "needs_background": "light"
     },
     "output_type": "display_data"
    }
   ],
   "source": [
    "def roc_curve_plot(y_test, pred_proba_c1):\n",
    "    # 임곗값에 따른 FPR, TPR값 반환\n",
    "    fprs, tprs, thresholds = roc_curve(y_test, pred_proba_c1)\n",
    "    # ROC 곡선\n",
    "    plt.plot(fprs, tprs, label = 'ROC')\n",
    "    # 가운데 대각선 직선\n",
    "    plt.plot([0,1],[0,1], 'k--', label='Random')\n",
    "    \n",
    "    # FPR X축 Scale 0.1 로 변경하고 legend, label 어쩌구\n",
    "    start, end = plt.xlim()\n",
    "    plt.xticks(np.round(np.arange(start, end, 0.1), 2))\n",
    "    plt.xlim(0, 1); plt.ylim(0, 1)\n",
    "    plt.xlabel('FPR(1-Sensitivity)'); plt.ylabel('TPR(Recall)')\n",
    "    plt.legend()\n",
    "    \n",
    "roc_curve_plot(y_test, pred_proba[:, 1])"
   ]
  },
  {
   "cell_type": "markdown",
   "metadata": {},
   "source": [
    "### 3-2. AUC (roc_auc_score)\n",
    "- 인자 : y_test, pred_proba[:, 1]"
   ]
  },
  {
   "cell_type": "code",
   "execution_count": 24,
   "metadata": {},
   "outputs": [
    {
     "name": "stdout",
     "output_type": "stream",
     "text": [
      "ROC AUC 값 :0.9024\n"
     ]
    }
   ],
   "source": [
    "from sklearn.metrics import roc_auc_score\n",
    "\n",
    "pred_proba = lr_clf.predict_proba(X_test)[:, 1]\n",
    "roc_score = roc_auc_score(y_test, pred_proba)\n",
    "print('ROC AUC 값 :{:.4f}'.format(roc_score))"
   ]
  },
  {
   "cell_type": "code",
   "execution_count": 25,
   "metadata": {},
   "outputs": [],
   "source": [
    "# 오차행렬, 정확도, 정밀도, 재현율, f1스코어, ROC-AUC까지 한번에\n",
    "\n",
    "def get_clf_eval(y_test, pred=None, pred_proba=None):\n",
    "    confusion = confusion_matrix(y_test, pred)\n",
    "    accuracy = accuracy_score(y_test, pred)\n",
    "    precision = precision_score(y_test, pred)\n",
    "    recall = recall_score(y_test, pred)\n",
    "    f1 = f1_score(y_test, pred)\n",
    "    # ROC-AUC\n",
    "    roc_auc = roc_auc_score(y_test, pred_proba)\n",
    "    print('오차행렬')\n",
    "    print(confusion)\n",
    "    print('정확도:{:.4f}, 정밀도:{:.4f}, 재현율:{:.4f}, \\\n",
    "F1:{:.4f}, AUC:{:.4f}'.format(accuracy, precision, recall, f1, roc_auc))"
   ]
  },
  {
   "cell_type": "markdown",
   "metadata": {},
   "source": [
    "## 6. 피마 인디언 당뇨병 예측"
   ]
  },
  {
   "cell_type": "code",
   "execution_count": 26,
   "metadata": {},
   "outputs": [
    {
     "name": "stdout",
     "output_type": "stream",
     "text": [
      "0    500\n",
      "1    268\n",
      "Name: Outcome, dtype: int64\n"
     ]
    },
    {
     "data": {
      "text/html": [
       "<div>\n",
       "<style scoped>\n",
       "    .dataframe tbody tr th:only-of-type {\n",
       "        vertical-align: middle;\n",
       "    }\n",
       "\n",
       "    .dataframe tbody tr th {\n",
       "        vertical-align: top;\n",
       "    }\n",
       "\n",
       "    .dataframe thead th {\n",
       "        text-align: right;\n",
       "    }\n",
       "</style>\n",
       "<table border=\"1\" class=\"dataframe\">\n",
       "  <thead>\n",
       "    <tr style=\"text-align: right;\">\n",
       "      <th></th>\n",
       "      <th>Pregnancies</th>\n",
       "      <th>Glucose</th>\n",
       "      <th>BloodPressure</th>\n",
       "      <th>SkinThickness</th>\n",
       "      <th>Insulin</th>\n",
       "      <th>BMI</th>\n",
       "      <th>DiabetesPedigreeFunction</th>\n",
       "      <th>Age</th>\n",
       "      <th>Outcome</th>\n",
       "    </tr>\n",
       "  </thead>\n",
       "  <tbody>\n",
       "    <tr>\n",
       "      <th>0</th>\n",
       "      <td>6</td>\n",
       "      <td>148</td>\n",
       "      <td>72</td>\n",
       "      <td>35</td>\n",
       "      <td>0</td>\n",
       "      <td>33.6</td>\n",
       "      <td>0.627</td>\n",
       "      <td>50</td>\n",
       "      <td>1</td>\n",
       "    </tr>\n",
       "    <tr>\n",
       "      <th>1</th>\n",
       "      <td>1</td>\n",
       "      <td>85</td>\n",
       "      <td>66</td>\n",
       "      <td>29</td>\n",
       "      <td>0</td>\n",
       "      <td>26.6</td>\n",
       "      <td>0.351</td>\n",
       "      <td>31</td>\n",
       "      <td>0</td>\n",
       "    </tr>\n",
       "    <tr>\n",
       "      <th>2</th>\n",
       "      <td>8</td>\n",
       "      <td>183</td>\n",
       "      <td>64</td>\n",
       "      <td>0</td>\n",
       "      <td>0</td>\n",
       "      <td>23.3</td>\n",
       "      <td>0.672</td>\n",
       "      <td>32</td>\n",
       "      <td>1</td>\n",
       "    </tr>\n",
       "  </tbody>\n",
       "</table>\n",
       "</div>"
      ],
      "text/plain": [
       "   Pregnancies  Glucose  BloodPressure  SkinThickness  Insulin   BMI  \\\n",
       "0            6      148             72             35        0  33.6   \n",
       "1            1       85             66             29        0  26.6   \n",
       "2            8      183             64              0        0  23.3   \n",
       "\n",
       "   DiabetesPedigreeFunction  Age  Outcome  \n",
       "0                     0.627   50        1  \n",
       "1                     0.351   31        0  \n",
       "2                     0.672   32        1  "
      ]
     },
     "execution_count": 26,
     "metadata": {},
     "output_type": "execute_result"
    }
   ],
   "source": [
    "import numpy as np\n",
    "import pandas as pd\n",
    "import matplotlib.pyplot as plt\n",
    "%matplotlib inline\n",
    "\n",
    "from sklearn.model_selection import train_test_split\n",
    "from sklearn.metrics import accuracy_score, precision_score, recall_score, roc_auc_score\n",
    "from sklearn.metrics import f1_score, confusion_matrix, precision_recall_curve, roc_curve\n",
    "from sklearn.preprocessing import StandardScaler\n",
    "from sklearn.linear_model import LogisticRegression\n",
    "\n",
    "diabetes_data = pd.read_csv(\"diabetes.csv\")\n",
    "print(diabetes_data['Outcome'].value_counts())\n",
    "diabetes_data.head(3)"
   ]
  },
  {
   "cell_type": "markdown",
   "metadata": {},
   "source": [
    "#### Negative 값이 상대적으로 많음 (500개)"
   ]
  },
  {
   "cell_type": "code",
   "execution_count": 27,
   "metadata": {},
   "outputs": [
    {
     "name": "stdout",
     "output_type": "stream",
     "text": [
      "<class 'pandas.core.frame.DataFrame'>\n",
      "RangeIndex: 768 entries, 0 to 767\n",
      "Data columns (total 9 columns):\n",
      "Pregnancies                 768 non-null int64\n",
      "Glucose                     768 non-null int64\n",
      "BloodPressure               768 non-null int64\n",
      "SkinThickness               768 non-null int64\n",
      "Insulin                     768 non-null int64\n",
      "BMI                         768 non-null float64\n",
      "DiabetesPedigreeFunction    768 non-null float64\n",
      "Age                         768 non-null int64\n",
      "Outcome                     768 non-null int64\n",
      "dtypes: float64(2), int64(7)\n",
      "memory usage: 54.1 KB\n"
     ]
    }
   ],
   "source": [
    "diabetes_data.info()"
   ]
  },
  {
   "cell_type": "markdown",
   "metadata": {},
   "source": [
    "#### Null값 없음, 피쳐 타입은 모두 숫자형이고 인코딩할 필요가 딱히 없음(카테고리컬 데이터 X)"
   ]
  },
  {
   "cell_type": "code",
   "execution_count": 28,
   "metadata": {},
   "outputs": [
    {
     "name": "stdout",
     "output_type": "stream",
     "text": [
      "오차행렬\n",
      "[[88 12]\n",
      " [23 31]]\n",
      "정확도:0.7727, 정밀도:0.7209, 재현율:0.5741, F1:0.6392, AUC:0.7919\n"
     ]
    },
    {
     "name": "stderr",
     "output_type": "stream",
     "text": [
      "C:\\Users\\frank\\Anaconda3\\lib\\site-packages\\sklearn\\linear_model\\_logistic.py:765: ConvergenceWarning: lbfgs failed to converge (status=1):\n",
      "STOP: TOTAL NO. of ITERATIONS REACHED LIMIT.\n",
      "\n",
      "Increase the number of iterations (max_iter) or scale the data as shown in:\n",
      "    https://scikit-learn.org/stable/modules/preprocessing.html\n",
      "Please also refer to the documentation for alternative solver options:\n",
      "    https://scikit-learn.org/stable/modules/linear_model.html#logistic-regression\n",
      "  extra_warning_msg=_LOGISTIC_SOLVER_CONVERGENCE_MSG)\n"
     ]
    }
   ],
   "source": [
    "# 맨 끝 컬럼이 Outcome 컬럼으로, 레이블 값.\n",
    "X = diabetes_data.iloc[:, :-1]\n",
    "y = diabetes_data.iloc[:, -1]\n",
    "\n",
    "X_train, X_test, y_train, y_test = train_test_split(X, y, test_size = 0.2,\n",
    "                                                    random_state = 156, stratify = y)\n",
    "\n",
    "# LR로 학습, 예측, 평가\n",
    "lr_clf = LogisticRegression()\n",
    "lr_clf.fit(X_train, y_train)\n",
    "pred = lr_clf.predict(X_test)\n",
    "pred_proba = lr_clf.predict_proba(X_test)[:, 1] # 2번째 컬럼(1일 확률) 만 뽑아낸다.\n",
    "\n",
    "get_clf_eval(y_test, pred, pred_proba)"
   ]
  },
  {
   "cell_type": "markdown",
   "metadata": {},
   "source": [
    "#### 재현율 많이 낮음, 전체 데이터의 65%가 Negative\n",
    "#### N으로 예측할 확률이 조금 더 크기 때문에, 재현율에 초점을 맞춘다(FN을 줄여보겠다)."
   ]
  },
  {
   "cell_type": "code",
   "execution_count": 29,
   "metadata": {},
   "outputs": [
    {
     "data": {
      "image/png": "[encoded data removed]",
      "text/plain": [
       "<Figure size 432x288 with 1 Axes>"
      ]
     },
     "metadata": {
      "needs_background": "light"
     },
     "output_type": "display_data"
    }
   ],
   "source": [
    "pred_proba_c1 = lr_clf.predict_proba(X_test)[:, 1]\n",
    "precision_recall_curve_plot(y_test, pred_proba_c1)"
   ]
  },
  {
   "cell_type": "markdown",
   "metadata": {},
   "source": [
    "- 임계값 0.42 정도로 낮추면 정밀도 - 재현율이 균형을 맞출 것, 그러나 두 개 지표 모두 0.7이 안된다.\n",
    "- 임계값 조작하기 전에, 먼저 원본 데이터 DataFrame을 다시 전처리\n",
    "- describe()메서드 활용"
   ]
  },
  {
   "cell_type": "code",
   "execution_count": 30,
   "metadata": {},
   "outputs": [
    {
     "data": {
      "text/html": [
       "<div>\n",
       "<style scoped>\n",
       "    .dataframe tbody tr th:only-of-type {\n",
       "        vertical-align: middle;\n",
       "    }\n",
       "\n",
       "    .dataframe tbody tr th {\n",
       "        vertical-align: top;\n",
       "    }\n",
       "\n",
       "    .dataframe thead th {\n",
       "        text-align: right;\n",
       "    }\n",
       "</style>\n",
       "<table border=\"1\" class=\"dataframe\">\n",
       "  <thead>\n",
       "    <tr style=\"text-align: right;\">\n",
       "      <th></th>\n",
       "      <th>Pregnancies</th>\n",
       "      <th>Glucose</th>\n",
       "      <th>BloodPressure</th>\n",
       "      <th>SkinThickness</th>\n",
       "      <th>Insulin</th>\n",
       "      <th>BMI</th>\n",
       "      <th>DiabetesPedigreeFunction</th>\n",
       "      <th>Age</th>\n",
       "      <th>Outcome</th>\n",
       "    </tr>\n",
       "  </thead>\n",
       "  <tbody>\n",
       "    <tr>\n",
       "      <th>count</th>\n",
       "      <td>768.000000</td>\n",
       "      <td>768.000000</td>\n",
       "      <td>768.000000</td>\n",
       "      <td>768.000000</td>\n",
       "      <td>768.000000</td>\n",
       "      <td>768.000000</td>\n",
       "      <td>768.000000</td>\n",
       "      <td>768.000000</td>\n",
       "      <td>768.000000</td>\n",
       "    </tr>\n",
       "    <tr>\n",
       "      <th>mean</th>\n",
       "      <td>3.845052</td>\n",
       "      <td>120.894531</td>\n",
       "      <td>69.105469</td>\n",
       "      <td>20.536458</td>\n",
       "      <td>79.799479</td>\n",
       "      <td>31.992578</td>\n",
       "      <td>0.471876</td>\n",
       "      <td>33.240885</td>\n",
       "      <td>0.348958</td>\n",
       "    </tr>\n",
       "    <tr>\n",
       "      <th>std</th>\n",
       "      <td>3.369578</td>\n",
       "      <td>31.972618</td>\n",
       "      <td>19.355807</td>\n",
       "      <td>15.952218</td>\n",
       "      <td>115.244002</td>\n",
       "      <td>7.884160</td>\n",
       "      <td>0.331329</td>\n",
       "      <td>11.760232</td>\n",
       "      <td>0.476951</td>\n",
       "    </tr>\n",
       "    <tr>\n",
       "      <th>min</th>\n",
       "      <td>0.000000</td>\n",
       "      <td>0.000000</td>\n",
       "      <td>0.000000</td>\n",
       "      <td>0.000000</td>\n",
       "      <td>0.000000</td>\n",
       "      <td>0.000000</td>\n",
       "      <td>0.078000</td>\n",
       "      <td>21.000000</td>\n",
       "      <td>0.000000</td>\n",
       "    </tr>\n",
       "    <tr>\n",
       "      <th>25%</th>\n",
       "      <td>1.000000</td>\n",
       "      <td>99.000000</td>\n",
       "      <td>62.000000</td>\n",
       "      <td>0.000000</td>\n",
       "      <td>0.000000</td>\n",
       "      <td>27.300000</td>\n",
       "      <td>0.243750</td>\n",
       "      <td>24.000000</td>\n",
       "      <td>0.000000</td>\n",
       "    </tr>\n",
       "    <tr>\n",
       "      <th>50%</th>\n",
       "      <td>3.000000</td>\n",
       "      <td>117.000000</td>\n",
       "      <td>72.000000</td>\n",
       "      <td>23.000000</td>\n",
       "      <td>30.500000</td>\n",
       "      <td>32.000000</td>\n",
       "      <td>0.372500</td>\n",
       "      <td>29.000000</td>\n",
       "      <td>0.000000</td>\n",
       "    </tr>\n",
       "    <tr>\n",
       "      <th>75%</th>\n",
       "      <td>6.000000</td>\n",
       "      <td>140.250000</td>\n",
       "      <td>80.000000</td>\n",
       "      <td>32.000000</td>\n",
       "      <td>127.250000</td>\n",
       "      <td>36.600000</td>\n",
       "      <td>0.626250</td>\n",
       "      <td>41.000000</td>\n",
       "      <td>1.000000</td>\n",
       "    </tr>\n",
       "    <tr>\n",
       "      <th>max</th>\n",
       "      <td>17.000000</td>\n",
       "      <td>199.000000</td>\n",
       "      <td>122.000000</td>\n",
       "      <td>99.000000</td>\n",
       "      <td>846.000000</td>\n",
       "      <td>67.100000</td>\n",
       "      <td>2.420000</td>\n",
       "      <td>81.000000</td>\n",
       "      <td>1.000000</td>\n",
       "    </tr>\n",
       "  </tbody>\n",
       "</table>\n",
       "</div>"
      ],
      "text/plain": [
       "       Pregnancies     Glucose  BloodPressure  SkinThickness     Insulin  \\\n",
       "count   768.000000  768.000000     768.000000     768.000000  768.000000   \n",
       "mean      3.845052  120.894531      69.105469      20.536458   79.799479   \n",
       "std       3.369578   31.972618      19.355807      15.952218  115.244002   \n",
       "min       0.000000    0.000000       0.000000       0.000000    0.000000   \n",
       "25%       1.000000   99.000000      62.000000       0.000000    0.000000   \n",
       "50%       3.000000  117.000000      72.000000      23.000000   30.500000   \n",
       "75%       6.000000  140.250000      80.000000      32.000000  127.250000   \n",
       "max      17.000000  199.000000     122.000000      99.000000  846.000000   \n",
       "\n",
       "              BMI  DiabetesPedigreeFunction         Age     Outcome  \n",
       "count  768.000000                768.000000  768.000000  768.000000  \n",
       "mean    31.992578                  0.471876   33.240885    0.348958  \n",
       "std      7.884160                  0.331329   11.760232    0.476951  \n",
       "min      0.000000                  0.078000   21.000000    0.000000  \n",
       "25%     27.300000                  0.243750   24.000000    0.000000  \n",
       "50%     32.000000                  0.372500   29.000000    0.000000  \n",
       "75%     36.600000                  0.626250   41.000000    1.000000  \n",
       "max     67.100000                  2.420000   81.000000    1.000000  "
      ]
     },
     "execution_count": 30,
     "metadata": {},
     "output_type": "execute_result"
    }
   ],
   "source": [
    "diabetes_data.describe()"
   ]
  },
  {
   "cell_type": "markdown",
   "metadata": {},
   "source": [
    "- min값이 0으로 되어 있는 피쳐가 많다. Glucose : 포도당 수치, min값이 0인 것은 이상하다!\n",
    "- Glucose 피쳐의 히스토그램 확인"
   ]
  },
  {
   "cell_type": "code",
   "execution_count": 31,
   "metadata": {},
   "outputs": [
    {
     "data": {
      "text/plain": [
       "(array([  5.,   0.,   4.,  32., 156., 211., 163.,  95.,  56.,  46.]),\n",
       " array([  0. ,  19.9,  39.8,  59.7,  79.6,  99.5, 119.4, 139.3, 159.2,\n",
       "        179.1, 199. ]),\n",
       " <a list of 10 Patch objects>)"
      ]
     },
     "execution_count": 31,
     "metadata": {},
     "output_type": "execute_result"
    },
    {
     "data": {
      "image/png": "[encoded data removed]",
      "text/plain": [
       "<Figure size 432x288 with 1 Axes>"
      ]
     },
     "metadata": {
      "needs_background": "light"
     },
     "output_type": "display_data"
    }
   ],
   "source": [
    "plt.hist(diabetes_data['Glucose'], bins = 10)"
   ]
  },
  {
   "cell_type": "markdown",
   "metadata": {},
   "source": [
    "- min() 값이 0인 피쳐에 대해, 0값이 얼마나 있는지, 몇 퍼센트 있는지 확인\n",
    "- Glucose, BloodPressure, SkinThickness, Insulin, BMI"
   ]
  },
  {
   "cell_type": "code",
   "execution_count": 32,
   "metadata": {},
   "outputs": [
    {
     "name": "stdout",
     "output_type": "stream",
     "text": [
      "Glucose의 0 건수는 5, 비율은 0.65%\n",
      "BloodPressure의 0 건수는 35, 비율은 4.56%\n",
      "SkinThickness의 0 건수는 227, 비율은 29.56%\n",
      "Insulin의 0 건수는 374, 비율은 48.7%\n",
      "BMI의 0 건수는 11, 비율은 1.43%\n"
     ]
    }
   ],
   "source": [
    "# 0값 조사 피쳐\n",
    "zero_features = ['Glucose', 'BloodPressure', 'SkinThickness', 'Insulin', 'BMI']\n",
    "\n",
    "# 전체 데이터 건수\n",
    "total_count = diabetes_data['Glucose'].count()\n",
    "\n",
    "# 피쳐 반복하면서 데이터값 0인 건수를 추출하고, 퍼센트 계산\n",
    "for feature in zero_features:\n",
    "    zero_count = diabetes_data[diabetes_data[feature]==0][feature].count()\n",
    "    print('{}의 0 건수는 {}, 비율은 {}%'.format(feature, zero_count,\n",
    "                                             np.round(zero_count/total_count*100, 2)))"
   ]
  },
  {
   "cell_type": "markdown",
   "metadata": {},
   "source": [
    "#### SkinThickness, Insulin 0값 너무 많다! 그래서 0값들 다 평균값으로 대체"
   ]
  },
  {
   "cell_type": "code",
   "execution_count": 33,
   "metadata": {},
   "outputs": [],
   "source": [
    "# zero_features 리스트 내부에 저장된 개별 피처들에 대해 0값을 평균값으로 대체\n",
    "mean_zero_features = diabetes_data[zero_features].mean()\n",
    "diabetes_data[zero_features] = diabetes_data[zero_features].replace(0, mean_zero_features)"
   ]
  },
  {
   "cell_type": "markdown",
   "metadata": {},
   "source": [
    "#### 피처 스케일링 : LR의 경우 일반적으로, 숫자 데이터에 스케일링 적용\n",
    "#### 이후 학습/ 테스트 나누고 LR적용해 성능 평가 지표 확인"
   ]
  },
  {
   "cell_type": "code",
   "execution_count": 34,
   "metadata": {},
   "outputs": [
    {
     "name": "stdout",
     "output_type": "stream",
     "text": [
      "오차행렬\n",
      "[[90 10]\n",
      " [21 33]]\n",
      "정확도:0.7987, 정밀도:0.7674, 재현율:0.6111, F1:0.6804, AUC:0.8433\n"
     ]
    }
   ],
   "source": [
    "X = diabetes_data.iloc[:, :-1]\n",
    "y = diabetes_data.iloc[:, -1]\n",
    "\n",
    "# StandardScaler 이용, 피쳐에 스케일링 적용\n",
    "scaler = StandardScaler()\n",
    "X_scaled = scaler.fit_transform(X)\n",
    "\n",
    "X_train, X_test, y_train, y_test = train_test_split(X_scaled, y, test_size = 0.2,\n",
    "                                                    random_state = 156, stratify=y)\n",
    "\n",
    "# 로지스틱 회귀로 학습, 예측, 평가\n",
    "lr_clf = LogisticRegression()\n",
    "lr_clf.fit(X_train, y_train)\n",
    "pred = lr_clf.predict(X_test)\n",
    "pred_proba = lr_clf.predict_proba(X_test)[:, 1]\n",
    "\n",
    "get_clf_eval(y_test, pred, pred_proba)"
   ]
  },
  {
   "cell_type": "markdown",
   "metadata": {},
   "source": [
    "#### 성능 살짝 개선됨. 재현율 수치는 그래도 개선이 필요하다(0.6)\n",
    "#### 임계값 변화시켜 가면서 재현율 값 개선 확인해보기"
   ]
  },
  {
   "cell_type": "code",
   "execution_count": 37,
   "metadata": {},
   "outputs": [
    {
     "name": "stdout",
     "output_type": "stream",
     "text": [
      "임계값: 0.3\n",
      "오차행렬\n",
      "[[67 33]\n",
      " [11 43]]\n",
      "정확도:0.7143, 정밀도:0.5658, 재현율:0.7963\n",
      "임계값: 0.33\n",
      "오차행렬\n",
      "[[72 28]\n",
      " [12 42]]\n",
      "정확도:0.7403, 정밀도:0.6000, 재현율:0.7778\n",
      "임계값: 0.36\n",
      "오차행렬\n",
      "[[76 24]\n",
      " [15 39]]\n",
      "정확도:0.7468, 정밀도:0.6190, 재현율:0.7222\n",
      "임계값: 0.39\n",
      "오차행렬\n",
      "[[78 22]\n",
      " [16 38]]\n",
      "정확도:0.7532, 정밀도:0.6333, 재현율:0.7037\n",
      "임계값: 0.42\n",
      "오차행렬\n",
      "[[84 16]\n",
      " [18 36]]\n",
      "정확도:0.7792, 정밀도:0.6923, 재현율:0.6667\n",
      "임계값: 0.45\n",
      "오차행렬\n",
      "[[85 15]\n",
      " [18 36]]\n",
      "정확도:0.7857, 정밀도:0.7059, 재현율:0.6667\n",
      "임계값: 0.48\n",
      "오차행렬\n",
      "[[88 12]\n",
      " [19 35]]\n",
      "정확도:0.7987, 정밀도:0.7447, 재현율:0.6481\n",
      "임계값: 0.5\n",
      "오차행렬\n",
      "[[90 10]\n",
      " [21 33]]\n",
      "정확도:0.7987, 정밀도:0.7674, 재현율:0.6111\n"
     ]
    },
    {
     "data": {
      "text/plain": [
       "array([[0.0356],\n",
       "       [0.2007],\n",
       "       [0.1577],\n",
       "       [0.5666],\n",
       "       [0.4144],\n",
       "       [0.7545],\n",
       "       [0.8392],\n",
       "       [0.1506],\n",
       "       [0.1929],\n",
       "       [0.1066],\n",
       "       [0.6681],\n",
       "       [0.3943],\n",
       "       [0.0466],\n",
       "       [0.3907],\n",
       "       [0.2636],\n",
       "       [0.0922],\n",
       "       [0.7932],\n",
       "       [0.0884],\n",
       "       [0.5845],\n",
       "       [0.8036],\n",
       "       [0.4161],\n",
       "       [0.3476],\n",
       "       [0.0637],\n",
       "       [0.3174],\n",
       "       [0.2979],\n",
       "       [0.1041],\n",
       "       [0.921 ],\n",
       "       [0.7492],\n",
       "       [0.1726],\n",
       "       [0.8883],\n",
       "       [0.2288],\n",
       "       [0.2358],\n",
       "       [0.1119],\n",
       "       [0.1517],\n",
       "       [0.1022],\n",
       "       [0.7421],\n",
       "       [0.2208],\n",
       "       [0.2066],\n",
       "       [0.8529],\n",
       "       [0.6633],\n",
       "       [0.41  ],\n",
       "       [0.2349],\n",
       "       [0.7027],\n",
       "       [0.1292],\n",
       "       [0.3438],\n",
       "       [0.0148],\n",
       "       [0.4645],\n",
       "       [0.0879],\n",
       "       [0.4869],\n",
       "       [0.3287],\n",
       "       [0.3097],\n",
       "       [0.9179],\n",
       "       [0.8972],\n",
       "       [0.0609],\n",
       "       [0.1254],\n",
       "       [0.4289],\n",
       "       [0.0694],\n",
       "       [0.3534],\n",
       "       [0.3299],\n",
       "       [0.3935],\n",
       "       [0.1792],\n",
       "       [0.837 ],\n",
       "       [0.3333],\n",
       "       [0.6238],\n",
       "       [0.3033],\n",
       "       [0.1027],\n",
       "       [0.2432],\n",
       "       [0.7183],\n",
       "       [0.1461],\n",
       "       [0.7697],\n",
       "       [0.0594],\n",
       "       [0.3352],\n",
       "       [0.1192],\n",
       "       [0.4569],\n",
       "       [0.7902],\n",
       "       [0.3027],\n",
       "       [0.0401],\n",
       "       [0.0653],\n",
       "       [0.1089],\n",
       "       [0.2499],\n",
       "       [0.1094],\n",
       "       [0.081 ],\n",
       "       [0.8289],\n",
       "       [0.1736],\n",
       "       [0.29  ],\n",
       "       [0.3456],\n",
       "       [0.4829],\n",
       "       [0.7848],\n",
       "       [0.0584],\n",
       "       [0.0228],\n",
       "       [0.0414],\n",
       "       [0.6198],\n",
       "       [0.868 ],\n",
       "       [0.2407],\n",
       "       [0.2892],\n",
       "       [0.69  ],\n",
       "       [0.2211],\n",
       "       [0.197 ],\n",
       "       [0.03  ],\n",
       "       [0.8163],\n",
       "       [0.8797],\n",
       "       [0.4082],\n",
       "       [0.4147],\n",
       "       [0.3378],\n",
       "       [0.1059],\n",
       "       [0.1482],\n",
       "       [0.2988],\n",
       "       [0.4621],\n",
       "       [0.0407],\n",
       "       [0.1051],\n",
       "       [0.7512],\n",
       "       [0.537 ],\n",
       "       [0.1422],\n",
       "       [0.1982],\n",
       "       [0.3842],\n",
       "       [0.5285],\n",
       "       [0.8748],\n",
       "       [0.125 ],\n",
       "       [0.2688],\n",
       "       [0.9763],\n",
       "       [0.5361],\n",
       "       [0.4867],\n",
       "       [0.7122],\n",
       "       [0.6555],\n",
       "       [0.2512],\n",
       "       [0.2189],\n",
       "       [0.1114],\n",
       "       [0.0633],\n",
       "       [0.2347],\n",
       "       [0.1173],\n",
       "       [0.0226],\n",
       "       [0.0892],\n",
       "       [0.3629],\n",
       "       [0.0897],\n",
       "       [0.0429],\n",
       "       [0.6291],\n",
       "       [0.7674],\n",
       "       [0.7626],\n",
       "       [0.0375],\n",
       "       [0.115 ],\n",
       "       [0.2078],\n",
       "       [0.4922],\n",
       "       [0.727 ],\n",
       "       [0.165 ],\n",
       "       [0.7753],\n",
       "       [0.0602],\n",
       "       [0.1349],\n",
       "       [0.0186],\n",
       "       [0.8137],\n",
       "       [0.4512],\n",
       "       [0.3794],\n",
       "       [0.0372],\n",
       "       [0.5915],\n",
       "       [0.127 ]])"
      ]
     },
     "execution_count": 37,
     "metadata": {},
     "output_type": "execute_result"
    }
   ],
   "source": [
    "# 실험하고픈 thresholds\n",
    "thresholds = [0.3, 0.33, 0.36, 0.39, 0.42, 0.45, 0.48, 0.50]\n",
    "pred_proba = lr_clf.predict_proba(X_test)[:, 1]\n",
    "get_eval_by_threshold(y_test, np.round(pred_proba.reshape(-1, 1), 4), thresholds)\n",
    "np.round(pred_proba.reshape(-1, 1), 4)"
   ]
  },
  {
   "cell_type": "code",
   "execution_count": null,
   "metadata": {},
   "outputs": [],
   "source": []
  }
 ],
 "metadata": {
  "kernelspec": {
   "display_name": "Python 3",
   "language": "python",
   "name": "python3"
  },
  "language_info": {
   "codemirror_mode": {
    "name": "ipython",
    "version": 3
   },
   "file_extension": ".py",
   "mimetype": "text/x-python",
   "name": "python",
   "nbconvert_exporter": "python",
   "pygments_lexer": "ipython3",
   "version": "3.7.3"
  }
 },
 "nbformat": 4,
 "nbformat_minor": 2
}
