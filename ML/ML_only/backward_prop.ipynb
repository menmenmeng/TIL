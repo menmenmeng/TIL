{
 "cells": [
  {
   "cell_type": "markdown",
   "metadata": {},
   "source": [
    "![image](/ML_only/backpropagation_2.png)"
   ]
  },
  {
   "cell_type": "code",
   "execution_count": 2,
   "metadata": {},
   "outputs": [],
   "source": [
    "# 라이브러리 임포트 및 sigmoid 함수 정의\n",
    "import numpy as np\n",
    "\n",
    "def sigmoid(x) -> np.ndarray:\n",
    "    z = 1/(1+np.exp(-x))\n",
    "    return z"
   ]
  },
  {
   "cell_type": "code",
   "execution_count": 7,
   "metadata": {},
   "outputs": [],
   "source": [
    "# 데이터 정의\n",
    "x = np.array([.1, .2])\n",
    "W1 = np.array([[.3, .25],  # hidden1 - node1\n",
    "               [.4, .35]]) # hidden1 - node2\n",
    "W2 = np.array([[.45, .4],  # output - node1\n",
    "               [.7, .6]])  # output - node2"
   ]
  },
  {
   "cell_type": "code",
   "execution_count": null,
   "metadata": {},
   "outputs": [],
   "source": []
  }
 ],
 "metadata": {
  "kernelspec": {
   "display_name": "Python 3.10.7 ('venv_trading': venv)",
   "language": "python",
   "name": "python3"
  },
  "language_info": {
   "codemirror_mode": {
    "name": "ipython",
    "version": 3
   },
   "file_extension": ".py",
   "mimetype": "text/x-python",
   "name": "python",
   "nbconvert_exporter": "python",
   "pygments_lexer": "ipython3",
   "version": "3.10.7"
  },
  "orig_nbformat": 4,
  "vscode": {
   "interpreter": {
    "hash": "d8f141eb8da52afde71440ff339b42d23bca3afcdb804d0ace6ce1888eac2c59"
   }
  }
 },
 "nbformat": 4,
 "nbformat_minor": 2
}
