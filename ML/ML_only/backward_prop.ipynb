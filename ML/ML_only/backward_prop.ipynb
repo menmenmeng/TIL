{
 "cells": [
  {
   "cell_type": "markdown",
   "metadata": {},
   "source": [
    "[딥러닝 자연어처리 입문](https://wikidocs.net/37406) 에서 참조한 이미지, 아래 이미지의 간단한 뉴럴넷을 직접 구현해 보면서 역전파 관련 궁금한 점들을 해결하려 함.\n",
    "![image](backpropagation_my.jpg)\n",
    "\n",
    "빨간색 사다리꼴 기준으로 가중치의 gradient를 계산함.  \n",
    "__E->w = E->h * h->z * z->w__"
   ]
  },
  {
   "cell_type": "code",
   "execution_count": 18,
   "metadata": {},
   "outputs": [],
   "source": [
    "# 라이브러리 임포트 및 사용 함수 정의\n",
    "import numpy as np\n",
    "\n",
    "def sigmoid(x) -> np.ndarray:\n",
    "    z = 1/(1+np.exp(-x))\n",
    "    return z\n",
    "\n",
    "def MSE(target, output) -> np.ndarray:\n",
    "    res = np.sum((target-output)**2)\n",
    "    return res"
   ]
  },
  {
   "cell_type": "code",
   "execution_count": 19,
   "metadata": {},
   "outputs": [],
   "source": [
    "# 데이터 정의\n",
    "x = np.array([.1, .2])\n",
    "W1 = np.array([[.3, .25],  # hidden1 - node1\n",
    "               [.4, .35]]) # hidden1 - node2\n",
    "W2 = np.array([[.45, .4],  # hidden2 - node1\n",
    "               [.7, .6]])  # hidden2 - node2\n",
    "W3 = np.array([[0.5, 0.4]]) # output - node"
   ]
  },
  {
   "cell_type": "code",
   "execution_count": 23,
   "metadata": {},
   "outputs": [],
   "source": [
    "z1 = np.dot(x, W1.T)  # hidden1 result before activation function\n",
    "h1 = sigmoid(z1)      # hidden1 result after activation function\n",
    "z2 = np.dot(h1, W2.T) # hidden2 result before activation function\n",
    "h2 = sigmoid(z2)      # hidden2 result after activation function\n",
    "z3 = np.dot(h2, W3.T) # output result before activation function\n",
    "output = sigmoid(z3)  # output\n",
    "target = np.array([0.84])  # target"
   ]
  },
  {
   "cell_type": "markdown",
   "metadata": {},
   "source": [
    "$\\frac{\\partial E}{\\partial W1_{11}} = \\frac{\\partial E}{\\partial h_{11}} \\times \\frac{\\partial h_{11}}{\\partial z_{11}} \\times \\frac{\\partial z_{11}}{\\partial W1_{11}}$\n",
    "\n",
    "위에서 $\\frac{\\partial E}{\\partial h_{11}}$를 계산하는 방법으로 다음과 같은 두 가지가 있다.\n",
    "\n",
    "$\\frac{\\partial E}{\\partial h_{11}} = \\frac{\\partial E}{\\partial h_{21}} \\times \\frac{\\partial h_{21}}{\\partial z_{21}} \\times \\frac{\\partial z_{21}}{\\partial h_{11}}$\n",
    "\n",
    "$\\frac{\\partial E}{\\partial h_{11}} = \\frac{\\partial E}{\\partial h_{22}} \\times \\frac{\\partial h_{22}}{\\partial z_{22}} \\times \\frac{\\partial z_{22}}{\\partial h_{11}}$\n",
    "\n",
    "두 방법 모두 같은 값을 보내주는지, 확인해보려 함."
   ]
  },
  {
   "cell_type": "code",
   "execution_count": 21,
   "metadata": {},
   "outputs": [
    {
     "data": {
      "text/plain": [
       "array([0.10710971, 0.15620839])"
      ]
     },
     "execution_count": 21,
     "metadata": {},
     "output_type": "execute_result"
    }
   ],
   "source": [
    "(1-sigmoid(z2))*sigmoid(z2) * W2[:, 0]"
   ]
  },
  {
   "cell_type": "code",
   "execution_count": 22,
   "metadata": {},
   "outputs": [
    {
     "data": {
      "text/plain": [
       "array([[0.05355485, 0.06248336]])"
      ]
     },
     "execution_count": 22,
     "metadata": {},
     "output_type": "execute_result"
    }
   ],
   "source": [
    "((1-sigmoid(z2))*sigmoid(z2) * W2[:, 0]) * W3"
   ]
  },
  {
   "cell_type": "markdown",
   "metadata": {},
   "source": [
    "다른데? 다름... 평균을 내던가 하는건가."
   ]
  }
 ],
 "metadata": {
  "kernelspec": {
   "display_name": "Python 3.10.7 ('venv_ml': venv)",
   "language": "python",
   "name": "python3"
  },
  "language_info": {
   "codemirror_mode": {
    "name": "ipython",
    "version": 3
   },
   "file_extension": ".py",
   "mimetype": "text/x-python",
   "name": "python",
   "nbconvert_exporter": "python",
   "pygments_lexer": "ipython3",
   "version": "3.10.7"
  },
  "orig_nbformat": 4,
  "vscode": {
   "interpreter": {
    "hash": "34f79edca71b491da1184107855aae9e808535a0ee8a0ea99ef7c0ae573f9e6f"
   }
  }
 },
 "nbformat": 4,
 "nbformat_minor": 2
}
