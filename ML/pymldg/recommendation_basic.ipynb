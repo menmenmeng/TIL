{
 "cells": [
  {
   "cell_type": "code",
   "execution_count": 1,
   "metadata": {},
   "outputs": [],
   "source": [
    "import numpy as np\n",
    "import pandas as pd"
   ]
  },
  {
   "cell_type": "code",
   "execution_count": 6,
   "metadata": {},
   "outputs": [],
   "source": [
    "# 사용자-평점 행렬 R을 선언한다.\n",
    "R = np.array([[4, np.nan, np.nan, 2, np.nan],\n",
    "              [np.nan, 5, np.nan, 3, 1],\n",
    "              [np.nan, np.nan, 3, 4, 4],\n",
    "              [5, 2, 1, 2, np.nan]])\n",
    "\n",
    "# 사용자의 수, 아이템의 수를 R.shape(4, 5)를 이용해 정의\n",
    "num_users, num_items = R.shape\n",
    "K = 3 # 3개의 잠재 요인을 설정함\n",
    "\n",
    "np.random.seed(1)\n",
    "# 사용자~잠재요인 행렬(P), 아이템~잠재요인 행렬(Q). scale : std.dev of normal dist. 여기서는 K로 나눴다는 거.\n",
    "# 각 사용자/아이템에게 있어 잠재 요인의 합이 1에 가까워지도록 scaling했다고 보임.\n",
    "P = np.random.normal(scale=1./K, size=(num_users, K))\n",
    "Q = np.random.normal(scale=1./K, size=(num_items, K))"
   ]
  },
  {
   "cell_type": "code",
   "execution_count": 7,
   "metadata": {},
   "outputs": [],
   "source": [
    "# 실제 R행렬과, 예측 R행렬의 오차를 구하는 get_rmse() 함수를 만들겠습니다.\n",
    "# get_rmse() 함수는, 실제 R행렬에서 NULL 아닌 행렬 값의 위치 인덱스 추출 --> 실제 R 행렬값과, 예측행렬 값의 RMSE 값을 반환.\n",
    "# 실제 R행렬에 있는, 실제 값만 가지고 계속 step을 밟아 가는 것!\n",
    "from sklearn.metrics import mean_squared_error\n",
    "\n",
    "def get_rmse(R, P, Q, non_zeros):\n",
    "    error = 0 # initializing.\n",
    "    full_pred_matrix = np.dot(P, Q.T)\n",
    "\n",
    "    # 실제 R행렬에서 null 아닌 값의 위치 인덱스를 추출, 실제 R행렬과 예측 행렬의 RMSE 계산\n",
    "    # non_zeros : 행렬의 모든 index 중, non_zero인 index의 (x, y)쌍을 모아 놓음\n",
    "    x_non_zero_ind = [non_zero[0] for non_zero in non_zeros]\n",
    "    y_non_zero_ind = [non_zero[1] for non_zero in non_zeros]\n",
    "\n",
    "    R_non_zeros = R[x_non_zero_ind, y_non_zero_ind] # indexing : 각각 쌍을 주면, 그에 해당하는 값을 1차원 array로 반환\n",
    "    full_pred_matrix_non_zeros = full_pred_matrix[x_non_zero_ind, y_non_zero_ind]\n",
    "\n",
    "    mse = mean_squared_error(R_non_zeros, full_pred_matrix_non_zeros)\n",
    "    rmse = np.sqrt(mse)\n",
    "\n",
    "    return rmse"
   ]
  },
  {
   "cell_type": "code",
   "execution_count": 8,
   "metadata": {},
   "outputs": [
    {
     "name": "stdout",
     "output_type": "stream",
     "text": [
      "### iteration step :  0 rmse : 3.2388050277987723\n",
      "### iteration step :  50 rmse : 0.4876723101369648\n",
      "### iteration step :  100 rmse : 0.1564340384819247\n",
      "### iteration step :  150 rmse : 0.07455141311978046\n",
      "### iteration step :  200 rmse : 0.04325226798579314\n",
      "### iteration step :  250 rmse : 0.029248328780878973\n",
      "### iteration step :  300 rmse : 0.022621116143829466\n",
      "### iteration step :  350 rmse : 0.019493636196525135\n",
      "### iteration step :  400 rmse : 0.018022719092132704\n",
      "### iteration step :  450 rmse : 0.01731968595344266\n",
      "### iteration step :  500 rmse : 0.016973657887570753\n",
      "### iteration step :  550 rmse : 0.016796804595895633\n",
      "### iteration step :  600 rmse : 0.01670132290188466\n",
      "### iteration step :  650 rmse : 0.01664473691247669\n",
      "### iteration step :  700 rmse : 0.016605910068210026\n",
      "### iteration step :  750 rmse : 0.016574200475705\n",
      "### iteration step :  800 rmse : 0.01654431582921597\n",
      "### iteration step :  850 rmse : 0.01651375177473524\n",
      "### iteration step :  900 rmse : 0.01648146573819501\n",
      "### iteration step :  950 rmse : 0.016447171683479155\n"
     ]
    }
   ],
   "source": [
    "# 행렬 분해 수행 - p, q의 변화율을 계산해 새로운 p, q를 계산하기.\n",
    "# 실제 R 행렬에서 null이 아닌 요소들의 정보를 가져옴. index, 그 index의 R행렬값\n",
    "non_zeros = [(i, j, R[i, j]) for i in range(num_users) for j in range(num_items) if R[i, j]>0]\n",
    "\n",
    "steps = 1000\n",
    "learning_rate = 0.01\n",
    "r_lambda = 0.01\n",
    "\n",
    "# SGD 이용, p, q를 업데이트\n",
    "for step in range(steps):\n",
    "    for i, j, r in non_zeros:\n",
    "        # 이 index에서, 실제값과 예측값의 차이 구하기\n",
    "        eij = r - np.dot(P[i, :], Q[j, :].T) # 사용자 i의 잠재요인, 아이템 j의 잠재요인\n",
    "        # SGD 업데이트\n",
    "        P[i, :] = P[i, :] + learning_rate*(eij * Q[j, :] - r_lambda * P[i, :])\n",
    "        Q[j, :] = Q[j, :] + learning_rate*(eij * P[i, :] - r_lambda * Q[j, :])\n",
    "\n",
    "    rmse = get_rmse(R, P, Q, non_zeros)\n",
    "    if (step%50)==0:\n",
    "        print(\"### iteration step : \", step, \"rmse :\", rmse)"
   ]
  },
  {
   "cell_type": "code",
   "execution_count": 11,
   "metadata": {},
   "outputs": [
    {
     "name": "stdout",
     "output_type": "stream",
     "text": [
      "예측 행렬 : \n",
      "[[3.991 0.897 1.306 2.002 1.663]\n",
      " [6.696 4.978 0.979 2.981 1.003]\n",
      " [6.677 0.391 2.987 3.977 3.986]\n",
      " [4.968 2.005 1.006 2.017 1.14 ]]\n"
     ]
    }
   ],
   "source": [
    "pred_matrix = np.dot(P, Q.T)\n",
    "print('예측 행렬 : \\n', np.round(pred_matrix, 3), sep='')"
   ]
  },
  {
   "cell_type": "code",
   "execution_count": 13,
   "metadata": {},
   "outputs": [
    {
     "name": "stdout",
     "output_type": "stream",
     "text": [
      "실제 행렬 : \n",
      "[[ 4. nan nan  2. nan]\n",
      " [nan  5. nan  3.  1.]\n",
      " [nan nan  3.  4.  4.]\n",
      " [ 5.  2.  1.  2. nan]]\n"
     ]
    }
   ],
   "source": [
    "print('실제 행렬 : \\n', R, sep='') # 미쳤다 오졌다그냥"
   ]
  },
  {
   "cell_type": "code",
   "execution_count": null,
   "metadata": {},
   "outputs": [],
   "source": []
  }
 ],
 "metadata": {
  "kernelspec": {
   "display_name": "Python 3.9.7 64-bit",
   "language": "python",
   "name": "python3"
  },
  "language_info": {
   "codemirror_mode": {
    "name": "ipython",
    "version": 3
   },
   "file_extension": ".py",
   "mimetype": "text/x-python",
   "name": "python",
   "nbconvert_exporter": "python",
   "pygments_lexer": "ipython3",
   "version": "3.9.7"
  },
  "orig_nbformat": 4,
  "vscode": {
   "interpreter": {
    "hash": "99bd28f23d3a932d4c21d1727a7476e1735c4bdbac0e5eb75caa6ee662580728"
   }
  }
 },
 "nbformat": 4,
 "nbformat_minor": 2
}
