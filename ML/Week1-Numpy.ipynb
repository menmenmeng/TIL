{
 "cells": [
  {
   "cell_type": "code",
   "execution_count": 2,
   "metadata": {},
   "outputs": [],
   "source": [
    "import numpy as np"
   ]
  },
  {
   "cell_type": "code",
   "execution_count": 3,
   "metadata": {},
   "outputs": [
    {
     "name": "stdout",
     "output_type": "stream",
     "text": [
      "<class 'numpy.ndarray'>\n",
      "(3,)\n",
      "<class 'numpy.ndarray'>\n",
      "(2, 3)\n"
     ]
    }
   ],
   "source": [
    "# array generation, array shape\n",
    "\n",
    "array1 = np.array([1,2,3])\n",
    "print(type(array1))\n",
    "print(array1.shape)\n",
    "\n",
    "array2 = np.array([[1,2,3],\n",
    "                   [4,5,6]])\n",
    "print(type(array2))\n",
    "print(array2.shape)"
   ]
  },
  {
   "cell_type": "code",
   "execution_count": 4,
   "metadata": {},
   "outputs": [
    {
     "name": "stdout",
     "output_type": "stream",
     "text": [
      "1\n",
      "2\n"
     ]
    }
   ],
   "source": [
    "# array dimension\n",
    "\n",
    "print(array1.ndim)\n",
    "print(array2.ndim)"
   ]
  },
  {
   "cell_type": "code",
   "execution_count": 5,
   "metadata": {},
   "outputs": [
    {
     "name": "stdout",
     "output_type": "stream",
     "text": [
      "[1 2 3]\n",
      "<class 'numpy.ndarray'>\n",
      "int32\n"
     ]
    }
   ],
   "source": [
    "# array data type\n",
    "\n",
    "print(array1)\n",
    "print(type(array1)) # array1 자체의 데이터 타입\n",
    "print(array1.dtype) # array1의 요소의 데이터 타입"
   ]
  },
  {
   "cell_type": "code",
   "execution_count": 6,
   "metadata": {},
   "outputs": [
    {
     "name": "stdout",
     "output_type": "stream",
     "text": [
      "[1 2 3]\n",
      "int32\n",
      "float64\n"
     ]
    }
   ],
   "source": [
    "# array data type 변경하기\n",
    "\n",
    "print(array1)\n",
    "print(array1.dtype)\n",
    "array_float = array1.astype('float64') # 결과값을 Return하는 메소드\n",
    "print(array_float.dtype)"
   ]
  },
  {
   "cell_type": "code",
   "execution_count": 8,
   "metadata": {},
   "outputs": [
    {
     "name": "stdout",
     "output_type": "stream",
     "text": [
      "[0 1 2 3 4 5 6 7 8 9]\n",
      "int32 (10,)\n",
      "[[0. 0.]\n",
      " [0. 0.]\n",
      " [0. 0.]]\n",
      "float64 (3, 2)\n",
      "[[1. 1.]\n",
      " [1. 1.]\n",
      " [1. 1.]]\n",
      "float64 (3, 2)\n",
      "[[1. 1.]\n",
      " [1. 1.]\n",
      " [1. 1.]]\n"
     ]
    }
   ],
   "source": [
    "# ndarray 생성하기 : np.arange(), np.zeros, np.ones\n",
    "\n",
    "sequence_array = np.arange(10) # [0:10]의 range로 된 ndarray 생성\n",
    "print(sequence_array)\n",
    "print(sequence_array.dtype, sequence_array.shape)\n",
    "\n",
    "zero_array = np.zeros((3, 2)) # 3, 2의 shape를 가진 0들로 이루어진 ndarray. 무조건 안에 tuple이 들어가야\n",
    "print(zero_array)\n",
    "print(zero_array.dtype, zero_array.shape)\n",
    "\n",
    "one_array = np.ones((3, 2)) # 3, 2 shape의 1로 이루어진 ndarray 마찬가지로 tuple\n",
    "print(one_array)\n",
    "print(one_array.dtype, one_array.shape)\n",
    "\n",
    "arrayarray = np.ones_like(one_array)\n",
    "print(arrayarray)"
   ]
  },
  {
   "cell_type": "code",
   "execution_count": 21,
   "metadata": {},
   "outputs": [
    {
     "name": "stdout",
     "output_type": "stream",
     "text": [
      "[0 1 2 3 4 5 6 7 8 9]\n",
      "[[0 1]\n",
      " [2 3]\n",
      " [4 5]\n",
      " [6 7]\n",
      " [8 9]]\n",
      "[[0 1]\n",
      " [2 3]\n",
      " [4 5]\n",
      " [6 7]\n",
      " [8 9]]\n"
     ]
    }
   ],
   "source": [
    "# ndarray 차원 변경하는 reshape 메소드\n",
    "\n",
    "print(sequence_array)\n",
    "sequence_5_2_array = sequence_array.reshape(5,2)\n",
    "print(sequence_5_2_array)\n",
    "\n",
    "# (5, 2) 차원의 sequence array를 만들고 싶을 때는 그냥\n",
    "\n",
    "temp_seq_array = np.arange(10).reshape(5,2)\n",
    "print(temp_seq_array)"
   ]
  },
  {
   "cell_type": "code",
   "execution_count": 22,
   "metadata": {},
   "outputs": [
    {
     "name": "stdout",
     "output_type": "stream",
     "text": [
      "[[ 0  1  2  3  4  5]\n",
      " [ 6  7  8  9 10 11]\n",
      " [12 13 14 15 16 17]\n",
      " [18 19 20 21 22 23]]\n",
      "[[ 0  1  2  3  4  5]\n",
      " [ 6  7  8  9 10 11]\n",
      " [12 13 14 15 16 17]\n",
      " [18 19 20 21 22 23]]\n"
     ]
    }
   ],
   "source": [
    "# reshape 인자 중 하나에 -1 : 나머지 인자에 따라서 크기를 맞춰주게 함\n",
    "\n",
    "seq_array = np.arange(24)\n",
    "seq_array_reshaped = seq_array.reshape(4, 6)\n",
    "seq_array_1 = seq_array.reshape(-1, 6) # 가로(열 개수)가 6이 되게끔\n",
    "seq_array_2 = seq_array.reshape(4, -1) # 세로(행 개수)가 4가 되게끔\n",
    "\n",
    "print(seq_array_1)\n",
    "print(seq_array_2)"
   ]
  },
  {
   "cell_type": "code",
   "execution_count": 25,
   "metadata": {},
   "outputs": [
    {
     "name": "stdout",
     "output_type": "stream",
     "text": [
      "[0, 1, 2, 3, 4, 5, 6, 7, 8, 9, 10, 11, 12, 13, 14, 15, 16, 17, 18, 19, 20, 21, 22, 23]\n",
      "[[0, 1, 2, 3, 4, 5], [6, 7, 8, 9, 10, 11], [12, 13, 14, 15, 16, 17], [18, 19, 20, 21, 22, 23]]\n"
     ]
    }
   ],
   "source": [
    "# tolist 메소드\n",
    "\n",
    "print(seq_array.tolist())\n",
    "print(seq_array_1.tolist())"
   ]
  },
  {
   "cell_type": "code",
   "execution_count": 34,
   "metadata": {},
   "outputs": [
    {
     "name": "stdout",
     "output_type": "stream",
     "text": [
      "3\n",
      "Error\n",
      "10\n"
     ]
    }
   ],
   "source": [
    "# indexing... 매우 중요\n",
    "\n",
    "# 1. 특정 데이터 추출\n",
    "# 2. 슬라이싱\n",
    "# 3. 팬시 인덱싱 . 인덱싱 집합을 리스트나 ndarray 형태로 지정\n",
    "# 4. 불린 인덱싱\n",
    "\n",
    "# 1. 단일 값 추출\n",
    "\n",
    "array1 = np.arange(1, 11)\n",
    "print(array1[2])\n",
    "array2 = array1.reshape(2, 5)\n",
    "\n",
    "try:\n",
    "    print(array2[2])\n",
    "except:\n",
    "    print(\"Error\")\n",
    "    \n",
    "print(array2[1, 4])"
   ]
  },
  {
   "cell_type": "code",
   "execution_count": 39,
   "metadata": {},
   "outputs": [
    {
     "name": "stdout",
     "output_type": "stream",
     "text": [
      "[[1 2 3]\n",
      " [4 5 6]\n",
      " [7 8 9]]\n",
      "[3 6]\n",
      "[[[ 1  2  3]\n",
      "  [ 4  5  6]\n",
      "  [ 7  8  9]]\n",
      "\n",
      " [[10 11 12]\n",
      "  [13 14 15]\n",
      "  [16 17 18]]\n",
      "\n",
      " [[19 20 21]\n",
      "  [22 23 24]\n",
      "  [25 26 27]]]\n",
      "[[ 5  6]\n",
      " [14 15]]\n"
     ]
    }
   ],
   "source": [
    "# 2. slicing\n",
    "\n",
    "array1 = np.arange(1, 10).reshape(3, -1)\n",
    "print(array1)\n",
    "print(array1[0:2, 2])\n",
    "\n",
    "array2 = np.arange(1, 28).reshape(3, 3, -1)\n",
    "print(array2)\n",
    "print(array2[0:2, 1, 1:])\n",
    "\n",
    "# 머릿속으로 그림 그려가면서 생각하기.\n",
    "# slicing axis는 처음부터 0, 1, 2\n",
    "# axis 0 : 제일 바깥쪽 괄호, 1 , 2, 이어질 수록 안쪽 괄호로"
   ]
  },
  {
   "cell_type": "code",
   "execution_count": 41,
   "metadata": {},
   "outputs": [
    {
     "name": "stdout",
     "output_type": "stream",
     "text": [
      "[[1 2 3]\n",
      " [4 5 6]\n",
      " [7 8 9]]\n",
      "[[2 3]\n",
      " [8 9]]\n"
     ]
    }
   ],
   "source": [
    "# Fancy indexing\n",
    "\n",
    "array1 = np.arange(1, 10).reshape(3, 3)\n",
    "print(array1)\n",
    "print(array1[[0,2],1:]) # axis 0 = 0, 2 두 개 (떨어진 행을 같이 쓰고싶을때)"
   ]
  },
  {
   "cell_type": "code",
   "execution_count": 49,
   "metadata": {},
   "outputs": [
    {
     "name": "stdout",
     "output_type": "stream",
     "text": [
      "[[False False False]\n",
      " [False False  True]\n",
      " [ True  True  True]]\n",
      "[6 7 8 9]\n",
      "[6 8]\n"
     ]
    }
   ],
   "source": [
    "# Boolean indexing 매우 중요\n",
    "\n",
    "array1 = np.arange(1, 10).reshape(3, 3)\n",
    "print(array1>5)\n",
    "print(array1[array1>5])\n",
    "\n",
    "# array에 조건식을 붙이면 조건식을 지나고 True인 요소들의 자리에는 True, 그렇지 않으면 False를 리턴하는 array\n",
    "\n",
    "print(array1[(array1>5)&(array1%2==0)]) # 5이상의 짝수"
   ]
  },
  {
   "cell_type": "code",
   "execution_count": 61,
   "metadata": {},
   "outputs": [
    {
     "name": "stdout",
     "output_type": "stream",
     "text": [
      "[20 30 40 50 90]\n",
      "['C' 'A' 'E' 'B' 'D']\n",
      "[90 50 40 30 20]\n",
      "['D' 'B' 'E' 'A' 'C']\n",
      "[90 50 40 30 20]\n"
     ]
    }
   ],
   "source": [
    "# sort(), argsort()\n",
    "\n",
    "#ndarray.sort() 하면 원래의 ndarray가 sort된 상태로 변환됨\n",
    "#np.sort(ndarray) 하면 새로운 sorted ndarray를 반환, 그러므로 새로운 변수에 집어넣어줘야 함\n",
    "\n",
    "#argsort() : sorted된 array의 순서를 다른 array에 적용시키고 싶을 때 사용.\n",
    "\n",
    "name_array = np.array(['A','B','C','D','E'])\n",
    "score_array = np.array([30, 50, 20, 90, 40])\n",
    "\n",
    "sorted_idx = np.argsort(score_array)\n",
    "print(score_array[sorted_idx]) # = score_array.sort() or np.sort(score_array)\n",
    "print(name_array[sorted_idx])\n",
    "\n",
    "# 내림차순으로 하고 싶다면.\n",
    "\n",
    "reversed_idx = np.argsort(score_array)[::-1]\n",
    "print(score_array[reversed_idx]) # = np.sort(score_array)[::-1]\n",
    "print(name_array[reversed_idx])\n",
    "\n",
    "print(np.sort(score_array)[::-1])"
   ]
  },
  {
   "cell_type": "code",
   "execution_count": 63,
   "metadata": {},
   "outputs": [
    {
     "name": "stdout",
     "output_type": "stream",
     "text": [
      "[[14 17]\n",
      " [47 62]]\n",
      "[[ 0  4  4]\n",
      " [15 24 30]]\n",
      "[[0 3]\n",
      " [1 4]\n",
      " [2 5]]\n",
      "[[3 2 6]\n",
      " [4 5 6]]\n"
     ]
    }
   ],
   "source": [
    "# 내적, Transpose\n",
    "\n",
    "A = np.arange(6).reshape(2, 3)\n",
    "B = np.array([3,4,2,5,6,6]).reshape(3,2)\n",
    "print(np.dot(A, B))\n",
    "print(A*B.reshape(2,3))  # reshape 메소드는 새로운 값을 반환함!\n",
    "print(A.T) # np.transpose(A) 이거는 둘 다 새로운 값을 반환함.\n",
    "print(B.T) # np.transpose(B)"
   ]
  },
  {
   "cell_type": "code",
   "execution_count": 1,
   "metadata": {},
   "outputs": [],
   "source": [
    "import numpy as np"
   ]
  },
  {
   "cell_type": "code",
   "execution_count": 8,
   "metadata": {},
   "outputs": [],
   "source": [
    "arr = np.array([[2,1],\n",
    "                [3,4]])"
   ]
  },
  {
   "cell_type": "code",
   "execution_count": 9,
   "metadata": {},
   "outputs": [
    {
     "data": {
      "text/plain": [
       "array([[1, 2],\n",
       "       [3, 4]])"
      ]
     },
     "execution_count": 9,
     "metadata": {},
     "output_type": "execute_result"
    }
   ],
   "source": [
    "np.sort(arr, axis = 1)"
   ]
  },
  {
   "cell_type": "code",
   "execution_count": 11,
   "metadata": {},
   "outputs": [
    {
     "data": {
      "text/plain": [
       "array([[3, 4],\n",
       "       [2, 1]])"
      ]
     },
     "execution_count": 11,
     "metadata": {},
     "output_type": "execute_result"
    }
   ],
   "source": [
    "arr[::-1]"
   ]
  },
  {
   "cell_type": "code",
   "execution_count": 12,
   "metadata": {},
   "outputs": [
    {
     "data": {
      "text/plain": [
       "array([[0, 0],\n",
       "       [0, 0]])"
      ]
     },
     "execution_count": 12,
     "metadata": {},
     "output_type": "execute_result"
    }
   ],
   "source": [
    "np.zeros_like(arr)"
   ]
  },
  {
   "cell_type": "code",
   "execution_count": null,
   "metadata": {},
   "outputs": [],
   "source": []
  }
 ],
 "metadata": {
  "kernelspec": {
   "display_name": "Python 3",
   "language": "python",
   "name": "python3"
  },
  "language_info": {
   "codemirror_mode": {
    "name": "ipython",
    "version": 3
   },
   "file_extension": ".py",
   "mimetype": "text/x-python",
   "name": "python",
   "nbconvert_exporter": "python",
   "pygments_lexer": "ipython3",
   "version": "3.7.3"
  }
 },
 "nbformat": 4,
 "nbformat_minor": 2
}
