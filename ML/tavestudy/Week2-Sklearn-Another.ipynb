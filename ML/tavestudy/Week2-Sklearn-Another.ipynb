{
 "cells": [
  {
   "cell_type": "code",
   "execution_count": 40,
   "metadata": {},
   "outputs": [],
   "source": [
    "import numpy as np\n",
    "import pandas as pd\n",
    "import matplotlib.pyplot as plt\n",
    "import seaborn as sns\n",
    "from sklearn.datasets import load_boston"
   ]
  },
  {
   "cell_type": "code",
   "execution_count": 81,
   "metadata": {},
   "outputs": [
    {
     "name": "stdout",
     "output_type": "stream",
     "text": [
      "<class 'pandas.core.frame.DataFrame'>\n",
      "RangeIndex: 2201 entries, 0 to 2200\n",
      "Data columns (total 13 columns):\n",
      "CRS_DEP_TIME     2201 non-null int64\n",
      "CARRIER          2201 non-null object\n",
      "DEP_TIME         2201 non-null int64\n",
      "DEST             2201 non-null object\n",
      "DISTANCE         2201 non-null int64\n",
      "FL_DATE          2201 non-null object\n",
      "FL_NUM           2201 non-null int64\n",
      "ORIGIN           2201 non-null object\n",
      "Weather          2201 non-null int64\n",
      "DAY_WEEK         2201 non-null int64\n",
      "DAY_OF_MONTH     2201 non-null int64\n",
      "TAIL_NUM         2201 non-null object\n",
      "Flight Status    2201 non-null object\n",
      "dtypes: int64(7), object(6)\n",
      "memory usage: 223.6+ KB\n"
     ]
    }
   ],
   "source": [
    "# 항공기 연착 예측(분류)\n",
    "delay_df = pd.read_csv(\"Flightdelays.csv\")\n",
    "delay_df.info()"
   ]
  },
  {
   "cell_type": "code",
   "execution_count": 77,
   "metadata": {},
   "outputs": [
    {
     "name": "stdout",
     "output_type": "stream",
     "text": [
      "<class 'pandas.core.frame.DataFrame'>\n",
      "RangeIndex: 1000 entries, 0 to 999\n",
      "Data columns (total 32 columns):\n",
      "OBS#                1000 non-null int64\n",
      "CHK_ACCT            1000 non-null int64\n",
      "DURATION            1000 non-null int64\n",
      "HISTORY             1000 non-null int64\n",
      "NEW_CAR             1000 non-null int64\n",
      "USED_CAR            1000 non-null int64\n",
      "FURNITURE           1000 non-null int64\n",
      "RADIO/TV            1000 non-null int64\n",
      "EDUCATION           1000 non-null int64\n",
      "RETRAINING          1000 non-null int64\n",
      "AMOUNT              1000 non-null int64\n",
      "SAV_ACCT            1000 non-null int64\n",
      "EMPLOYMENT          1000 non-null int64\n",
      "INSTALL_RATE        1000 non-null int64\n",
      "MALE_DIV            1000 non-null int64\n",
      "MALE_SINGLE         1000 non-null int64\n",
      "MALE_MAR_or_WID     1000 non-null int64\n",
      "CO-APPLICANT        1000 non-null int64\n",
      "GUARANTOR           1000 non-null int64\n",
      "PRESENT_RESIDENT    1000 non-null int64\n",
      "REAL_ESTATE         1000 non-null int64\n",
      "PROP_UNKN_NONE      1000 non-null int64\n",
      "AGE                 1000 non-null int64\n",
      "OTHER_INSTALL       1000 non-null int64\n",
      "RENT                1000 non-null int64\n",
      "OWN_RES             1000 non-null int64\n",
      "NUM_CREDITS         1000 non-null int64\n",
      "JOB                 1000 non-null int64\n",
      "NUM_DEPENDENTS      1000 non-null int64\n",
      "TELEPHONE           1000 non-null int64\n",
      "FOREIGN             1000 non-null int64\n",
      "RESPONSE            1000 non-null int64\n",
      "dtypes: int64(32)\n",
      "memory usage: 250.1 KB\n"
     ]
    }
   ],
   "source": [
    "# 독일 채무이행 예측(분류)\n",
    "credit_df = pd.read_csv(\"GermanCredit.csv\")\n",
    "credit_df.info()"
   ]
  },
  {
   "cell_type": "code",
   "execution_count": 78,
   "metadata": {},
   "outputs": [
    {
     "name": "stdout",
     "output_type": "stream",
     "text": [
      "<class 'pandas.core.frame.DataFrame'>\n",
      "RangeIndex: 506 entries, 0 to 505\n",
      "Data columns (total 13 columns):\n",
      "CRIM       506 non-null float64\n",
      "ZN         506 non-null float64\n",
      "INDUS      506 non-null float64\n",
      "CHAS       506 non-null float64\n",
      "NOX        506 non-null float64\n",
      "RM         506 non-null float64\n",
      "AGE        506 non-null float64\n",
      "DIS        506 non-null float64\n",
      "RAD        506 non-null float64\n",
      "TAX        506 non-null float64\n",
      "PTRATIO    506 non-null float64\n",
      "B          506 non-null float64\n",
      "LSTAT      506 non-null float64\n",
      "dtypes: float64(13)\n",
      "memory usage: 51.5 KB\n"
     ]
    }
   ],
   "source": [
    "# 보스턴 집값 예측 데이터(회귀)\n",
    "boston = load_boston()\n",
    "boston_df = pd.DataFrame(boston.data, columns = boston.feature_names)\n",
    "boston_df.info()"
   ]
  },
  {
   "cell_type": "code",
   "execution_count": null,
   "metadata": {},
   "outputs": [],
   "source": []
  }
 ],
 "metadata": {
  "kernelspec": {
   "display_name": "Python 3",
   "language": "python",
   "name": "python3"
  },
  "language_info": {
   "codemirror_mode": {
    "name": "ipython",
    "version": 3
   },
   "file_extension": ".py",
   "mimetype": "text/x-python",
   "name": "python",
   "nbconvert_exporter": "python",
   "pygments_lexer": "ipython3",
   "version": "3.7.3"
  }
 },
 "nbformat": 4,
 "nbformat_minor": 2
}
