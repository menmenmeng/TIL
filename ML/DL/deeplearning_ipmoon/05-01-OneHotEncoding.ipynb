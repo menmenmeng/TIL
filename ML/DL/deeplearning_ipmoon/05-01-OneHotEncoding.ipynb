{
 "cells": [
  {
   "cell_type": "code",
   "execution_count": 2,
   "metadata": {},
   "outputs": [],
   "source": [
    "# 범주형 데이터 처리를 위한 레이블 표현 방법\n",
    "# 원핫 인코딩 되지 않은, 정수 인코딩 사용된 데이터에 MSE를 적용해 보면 오차 계산에 문제가 발생한다.\n",
    "# 클래스 간 관계가 모두 균등하므로, 원-핫 인코딩이 좋은 방법일 것."
   ]
  }
 ],
 "metadata": {
  "interpreter": {
   "hash": "c1e4460e33087492287601c625959a454979108186a27acb0c6b10663b2844fd"
  },
  "kernelspec": {
   "display_name": "Python 3.9.7 ('dlvenv')",
   "language": "python",
   "name": "python3"
  },
  "language_info": {
   "codemirror_mode": {
    "name": "ipython",
    "version": 3
   },
   "file_extension": ".py",
   "mimetype": "text/x-python",
   "name": "python",
   "nbconvert_exporter": "python",
   "pygments_lexer": "ipython3",
   "version": "3.9.7"
  },
  "orig_nbformat": 4
 },
 "nbformat": 4,
 "nbformat_minor": 2
}
