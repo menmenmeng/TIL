{
 "cells": [
  {
   "cell_type": "code",
   "execution_count": 1,
   "metadata": {},
   "outputs": [],
   "source": [
    "# Maximum Likelihood Estimation\n",
    "# Optimization via Gradient Descent\n",
    "# Overfitting and Regularization\n",
    "# Training and Test Dataset\n",
    "# Learning Rate\n",
    "# Data Preprocessing\n",
    "# 에 대해서 다뤄보자. 이론적인 내용인가"
   ]
  },
  {
   "cell_type": "code",
   "execution_count": null,
   "metadata": {},
   "outputs": [],
   "source": [
    "# MLE 최대가능도, 최대우도추정..\n",
    "'''\n",
    "압정이 어디로 떨어질지 궁금하다. 어느 방향으로\n",
    "class1 : 침이 위로 가 있음, class2 : 침이 아래로 가 있음.\n",
    "-> 두 개 class, 베르누이 시행, 무슨 분포더라 이항분포.\n",
    "\n",
    "class1이 나오는 횟수가 n = 100, k = 27 였다.\n",
    "이항 분포 식, (n, k) the^k * (1-the)^(n-k)는 theta에 대한 하나의 함수이다. f(theta)\n",
    "\n",
    "observation을 가장 잘 설명하는 theta를 찾아낸다. -> MLE이다 이게.\n",
    "관찰한 데이터를 가장 잘 설명하는 확률분포함수의 파라미터를 찾는 것.\n",
    "'''"
   ]
  }
 ],
 "metadata": {
  "interpreter": {
   "hash": "89f8b5fff75b2d8ca621f0b371f1d64751a06b7789195e8887ef7855e4487b82"
  },
  "kernelspec": {
   "display_name": "Python 3.9.7 64-bit",
   "language": "python",
   "name": "python3"
  },
  "language_info": {
   "codemirror_mode": {
    "name": "ipython",
    "version": 3
   },
   "file_extension": ".py",
   "mimetype": "text/x-python",
   "name": "python",
   "nbconvert_exporter": "python",
   "pygments_lexer": "ipython3",
   "version": "3.9.7"
  },
  "orig_nbformat": 4
 },
 "nbformat": 4,
 "nbformat_minor": 2
}
