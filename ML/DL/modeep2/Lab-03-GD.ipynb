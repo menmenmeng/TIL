{
 "cells": [
  {
   "cell_type": "code",
   "execution_count": 1,
   "metadata": {},
   "outputs": [],
   "source": [
    "import numpy as np\n",
    "import torch\n",
    "from torch import optim"
   ]
  },
  {
   "cell_type": "code",
   "execution_count": 3,
   "metadata": {},
   "outputs": [
    {
     "name": "stdout",
     "output_type": "stream",
     "text": [
      "ep : 1 | W : tensor([0.], requires_grad=True) | Cost : tensor(4.6667, grad_fn=<MeanBackward0>)\n",
      "ep : 2 | W : tensor([1.4000], requires_grad=True) | Cost : tensor(0.7467, grad_fn=<MeanBackward0>)\n",
      "ep : 3 | W : tensor([0.8400], requires_grad=True) | Cost : tensor(0.1195, grad_fn=<MeanBackward0>)\n",
      "ep : 4 | W : tensor([1.0640], requires_grad=True) | Cost : tensor(0.0191, grad_fn=<MeanBackward0>)\n",
      "ep : 5 | W : tensor([0.9744], requires_grad=True) | Cost : tensor(0.0031, grad_fn=<MeanBackward0>)\n",
      "ep : 6 | W : tensor([1.0102], requires_grad=True) | Cost : tensor(0.0005, grad_fn=<MeanBackward0>)\n",
      "ep : 7 | W : tensor([0.9959], requires_grad=True) | Cost : tensor(7.8292e-05, grad_fn=<MeanBackward0>)\n",
      "ep : 8 | W : tensor([1.0016], requires_grad=True) | Cost : tensor(1.2527e-05, grad_fn=<MeanBackward0>)\n",
      "ep : 9 | W : tensor([0.9993], requires_grad=True) | Cost : tensor(2.0042e-06, grad_fn=<MeanBackward0>)\n",
      "ep : 10 | W : tensor([1.0003], requires_grad=True) | Cost : tensor(3.2062e-07, grad_fn=<MeanBackward0>)\n"
     ]
    }
   ],
   "source": [
    "x_train = torch.FloatTensor([[1], [2], [3]])\n",
    "y_train = torch.FloatTensor([[1], [2], [3]])\n",
    "\n",
    "W = torch.zeros(1, requires_grad=True) # 초기값이 0이 되도록. 이거 근데 원래 이러면 안되지 않나\n",
    "\n",
    "optimizer = optim.SGD([W], lr=0.15)\n",
    "\n",
    "nb_epochs = 10\n",
    "for epoch in range(1, nb_epochs+1):\n",
    "    hypothesis = W * x_train # y_pred 계산하기\n",
    "    cost = torch.mean((hypothesis - y_train)**2) # y_train과 y_pred간의 차이를 수식으로 나타내는 cost func.\n",
    "\n",
    "    print(\"ep :\", epoch, \"| W :\", W, \"| Cost :\", cost)\n",
    "\n",
    "    optimizer.zero_grad()\n",
    "    cost.backward()\n",
    "    optimizer.step()"
   ]
  },
  {
   "cell_type": "code",
   "execution_count": null,
   "metadata": {},
   "outputs": [],
   "source": []
  }
 ],
 "metadata": {
  "interpreter": {
   "hash": "89f8b5fff75b2d8ca621f0b371f1d64751a06b7789195e8887ef7855e4487b82"
  },
  "kernelspec": {
   "display_name": "Python 3.9.7 64-bit",
   "language": "python",
   "name": "python3"
  },
  "language_info": {
   "codemirror_mode": {
    "name": "ipython",
    "version": 3
   },
   "file_extension": ".py",
   "mimetype": "text/x-python",
   "name": "python",
   "nbconvert_exporter": "python",
   "pygments_lexer": "ipython3",
   "version": "3.9.7"
  },
  "orig_nbformat": 4
 },
 "nbformat": 4,
 "nbformat_minor": 2
}
