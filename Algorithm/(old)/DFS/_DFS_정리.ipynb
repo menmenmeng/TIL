{
 "cells": [
  {
   "cell_type": "code",
   "execution_count": 1,
   "metadata": {},
   "outputs": [],
   "source": [
    "graph = dict()\n",
    " \n",
    "graph['A'] = ['B', 'C']\n",
    "graph['B'] = ['A', 'D']\n",
    "graph['C'] = ['A', 'G', 'H', 'I']\n",
    "graph['D'] = ['B', 'E', 'F']\n",
    "graph['E'] = ['D']\n",
    "graph['F'] = ['D']\n",
    "graph['G'] = ['C']\n",
    "graph['H'] = ['C']\n",
    "graph['I'] = ['C', 'J']\n",
    "graph['J'] = ['I']"
   ]
  },
  {
   "cell_type": "code",
   "execution_count": 3,
   "metadata": {},
   "outputs": [],
   "source": [
    "def dfs(graph, start_node):\n",
    " \n",
    "    ## 기본은 항상 두개의 리스트를 별도로 관리해주는 것\n",
    "    need_visited, visited = list(), list()\n",
    " \n",
    "    ## 시작 노드를 시정하기 \n",
    "    need_visited.append(start_node)\n",
    "    \n",
    "    ## 만약 아직도 방문이 필요한 노드가 있다면,\n",
    "    while need_visited:\n",
    " \n",
    "        ## 그 중에서 가장 마지막 데이터를 추출 (스택 구조의 활용)\n",
    "        node = need_visited.pop()\n",
    "        \n",
    "        ## 만약 그 노드가 방문한 목록에 없다면\n",
    "        if node not in visited:\n",
    " \n",
    "            ## 방문한 목록에 추가하기 \n",
    "            visited.append(node)\n",
    " \n",
    "            ## 그 노드에 연결된 노드를 \n",
    "            need_visited.extend(graph[node])\n",
    "        \n",
    "        print('need_visited:', need_visited)\n",
    "        print('visited:', visited)\n",
    "    return visited"
   ]
  },
  {
   "cell_type": "code",
   "execution_count": 4,
   "metadata": {},
   "outputs": [
    {
     "name": "stdout",
     "output_type": "stream",
     "text": [
      "need_visited: ['B', 'C']\n",
      "visited: ['A']\n",
      "need_visited: ['B', 'A', 'G', 'H', 'I']\n",
      "visited: ['A', 'C']\n",
      "need_visited: ['B', 'A', 'G', 'H', 'C', 'J']\n",
      "visited: ['A', 'C', 'I']\n",
      "need_visited: ['B', 'A', 'G', 'H', 'C', 'I']\n",
      "visited: ['A', 'C', 'I', 'J']\n",
      "need_visited: ['B', 'A', 'G', 'H', 'C']\n",
      "visited: ['A', 'C', 'I', 'J']\n",
      "need_visited: ['B', 'A', 'G', 'H']\n",
      "visited: ['A', 'C', 'I', 'J']\n",
      "need_visited: ['B', 'A', 'G', 'C']\n",
      "visited: ['A', 'C', 'I', 'J', 'H']\n",
      "need_visited: ['B', 'A', 'G']\n",
      "visited: ['A', 'C', 'I', 'J', 'H']\n",
      "need_visited: ['B', 'A', 'C']\n",
      "visited: ['A', 'C', 'I', 'J', 'H', 'G']\n",
      "need_visited: ['B', 'A']\n",
      "visited: ['A', 'C', 'I', 'J', 'H', 'G']\n",
      "need_visited: ['B']\n",
      "visited: ['A', 'C', 'I', 'J', 'H', 'G']\n",
      "need_visited: ['A', 'D']\n",
      "visited: ['A', 'C', 'I', 'J', 'H', 'G', 'B']\n",
      "need_visited: ['A', 'B', 'E', 'F']\n",
      "visited: ['A', 'C', 'I', 'J', 'H', 'G', 'B', 'D']\n",
      "need_visited: ['A', 'B', 'E', 'D']\n",
      "visited: ['A', 'C', 'I', 'J', 'H', 'G', 'B', 'D', 'F']\n",
      "need_visited: ['A', 'B', 'E']\n",
      "visited: ['A', 'C', 'I', 'J', 'H', 'G', 'B', 'D', 'F']\n",
      "need_visited: ['A', 'B', 'D']\n",
      "visited: ['A', 'C', 'I', 'J', 'H', 'G', 'B', 'D', 'F', 'E']\n",
      "need_visited: ['A', 'B']\n",
      "visited: ['A', 'C', 'I', 'J', 'H', 'G', 'B', 'D', 'F', 'E']\n",
      "need_visited: ['A']\n",
      "visited: ['A', 'C', 'I', 'J', 'H', 'G', 'B', 'D', 'F', 'E']\n",
      "need_visited: []\n",
      "visited: ['A', 'C', 'I', 'J', 'H', 'G', 'B', 'D', 'F', 'E']\n"
     ]
    },
    {
     "data": {
      "text/plain": [
       "['A', 'C', 'I', 'J', 'H', 'G', 'B', 'D', 'F', 'E']"
      ]
     },
     "execution_count": 4,
     "metadata": {},
     "output_type": "execute_result"
    }
   ],
   "source": [
    "dfs(graph, 'A')"
   ]
  },
  {
   "cell_type": "code",
   "execution_count": 5,
   "metadata": {},
   "outputs": [],
   "source": [
    "def dfs_recursive(graph, start, visited = []):\n",
    "## 데이터를 추가하는 명령어 / 재귀가 이루어짐 \n",
    "    visited.append(start)\n",
    " \n",
    "    for node in graph[start]:\n",
    "        if node not in visited:\n",
    "            dfs_recursive(graph, node, visited)\n",
    "    return visited"
   ]
  },
  {
   "cell_type": "code",
   "execution_count": null,
   "metadata": {},
   "outputs": [],
   "source": []
  }
 ],
 "metadata": {
  "kernelspec": {
   "display_name": "Python 3.10.7 ('venv_trading': venv)",
   "language": "python",
   "name": "python3"
  },
  "language_info": {
   "codemirror_mode": {
    "name": "ipython",
    "version": 3
   },
   "file_extension": ".py",
   "mimetype": "text/x-python",
   "name": "python",
   "nbconvert_exporter": "python",
   "pygments_lexer": "ipython3",
   "version": "3.10.7"
  },
  "orig_nbformat": 4,
  "vscode": {
   "interpreter": {
    "hash": "d8f141eb8da52afde71440ff339b42d23bca3afcdb804d0ace6ce1888eac2c59"
   }
  }
 },
 "nbformat": 4,
 "nbformat_minor": 2
}
