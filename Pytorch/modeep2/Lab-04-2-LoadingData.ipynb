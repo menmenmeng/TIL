{
 "cells": [
  {
   "cell_type": "code",
   "execution_count": 1,
   "metadata": {},
   "outputs": [],
   "source": [
    "import torch\n",
    "import torch.nn as nn\n",
    "from torch import optim\n",
    "import torch.nn.functional as F"
   ]
  },
  {
   "cell_type": "code",
   "execution_count": 3,
   "metadata": {},
   "outputs": [],
   "source": [
    "# Minibatch, 그리고 minibatch 구현에 사용하는 Pytorch Dataset, DataLoader\n",
    "# ImageNet : 1000만 장 이상의 데이터 있음.\n",
    "# GD 는 각 데이터마다 cost를 구해야 한다. 너무 많으면 연산 속도가 느려지거나, 데이터 용량이 너무 커진다.\n",
    "# 한 번에 학습시키는 건 불가능하다. --> 일부만 학습하자. -> MiniBatch"
   ]
  },
  {
   "cell_type": "code",
   "execution_count": 4,
   "metadata": {},
   "outputs": [],
   "source": [
    "from torch.utils.data import Dataset\n",
    "\n",
    "class CustomDataset(Dataset):\n",
    "    def __init__(self):\n",
    "        self.x_data = [[73, 80, 75],\n",
    "                       [93, 88, 93],\n",
    "                       [89, 91, 90],\n",
    "                       [96, 98, 100],\n",
    "                       [73, 66, 70]]\n",
    "        self.y_data = [[152], [185], [180], [196], [142]]\n",
    "\n",
    "    def __len__(self):\n",
    "        return len(self.x_data)\n",
    "\n",
    "    def __getitem__(self, idx):\n",
    "        x = torch.FloatTensor(self.x_data[idx])\n",
    "        y = torch.FloatTensor(self.y_data[idx])\n",
    "\n",
    "        return x, y\n",
    "\n",
    "dataset = CustomDataset()"
   ]
  },
  {
   "cell_type": "code",
   "execution_count": 8,
   "metadata": {},
   "outputs": [],
   "source": [
    "class MultivariateLinearRegressionModel(nn.Module):\n",
    "    def __init__(self):\n",
    "        super().__init__()\n",
    "        self.linear = nn.Linear(3, 1)\n",
    "\n",
    "    def forward(self, x):\n",
    "        x = self.linear(x)\n",
    "        return x\n",
    "\n",
    "model = MultivariateLinearRegressionModel() # 직접 module을 만들어야 해?\n",
    "optimizer = optim.SGD(model.parameters(), lr=1e-5)"
   ]
  },
  {
   "cell_type": "code",
   "execution_count": 9,
   "metadata": {},
   "outputs": [
    {
     "name": "stdout",
     "output_type": "stream",
     "text": [
      "Ep:0 | Batch:0/3 | Cost:62507.5078\n",
      "Ep:0 | Batch:1/3 | Cost:7927.5356\n",
      "Ep:0 | Batch:2/3 | Cost:5433.3091\n",
      "Ep:1 | Batch:0/3 | Cost:1581.3650\n",
      "Ep:1 | Batch:1/3 | Cost:309.8994\n",
      "Ep:1 | Batch:2/3 | Cost:78.4623\n",
      "Ep:2 | Batch:0/3 | Cost:39.9098\n",
      "Ep:2 | Batch:1/3 | Cost:15.6967\n",
      "Ep:2 | Batch:2/3 | Cost:11.1490\n",
      "Ep:3 | Batch:0/3 | Cost:0.2213\n",
      "Ep:3 | Batch:1/3 | Cost:1.1615\n",
      "Ep:3 | Batch:2/3 | Cost:0.9442\n",
      "Ep:4 | Batch:0/3 | Cost:0.3761\n",
      "Ep:4 | Batch:1/3 | Cost:0.4949\n",
      "Ep:4 | Batch:2/3 | Cost:0.5920\n",
      "Ep:5 | Batch:0/3 | Cost:0.4587\n",
      "Ep:5 | Batch:1/3 | Cost:0.2183\n",
      "Ep:5 | Batch:2/3 | Cost:1.0209\n",
      "Ep:6 | Batch:0/3 | Cost:0.4537\n",
      "Ep:6 | Batch:1/3 | Cost:0.3739\n",
      "Ep:6 | Batch:2/3 | Cost:1.2592\n",
      "Ep:7 | Batch:0/3 | Cost:0.4383\n",
      "Ep:7 | Batch:1/3 | Cost:0.6211\n",
      "Ep:7 | Batch:2/3 | Cost:0.0153\n",
      "Ep:8 | Batch:0/3 | Cost:0.5754\n",
      "Ep:8 | Batch:1/3 | Cost:0.1123\n",
      "Ep:8 | Batch:2/3 | Cost:0.9121\n",
      "Ep:9 | Batch:0/3 | Cost:0.1677\n",
      "Ep:9 | Batch:1/3 | Cost:0.5184\n",
      "Ep:9 | Batch:2/3 | Cost:0.9228\n",
      "Ep:10 | Batch:0/3 | Cost:0.5728\n",
      "Ep:10 | Batch:1/3 | Cost:0.5658\n",
      "Ep:10 | Batch:2/3 | Cost:0.0001\n",
      "Ep:11 | Batch:0/3 | Cost:0.5994\n",
      "Ep:11 | Batch:1/3 | Cost:0.3086\n",
      "Ep:11 | Batch:2/3 | Cost:0.3922\n",
      "Ep:12 | Batch:0/3 | Cost:0.1748\n",
      "Ep:12 | Batch:1/3 | Cost:0.6318\n",
      "Ep:12 | Batch:2/3 | Cost:0.8915\n",
      "Ep:13 | Batch:0/3 | Cost:0.4659\n",
      "Ep:13 | Batch:1/3 | Cost:0.2120\n",
      "Ep:13 | Batch:2/3 | Cost:1.0326\n",
      "Ep:14 | Batch:0/3 | Cost:0.5484\n",
      "Ep:14 | Batch:1/3 | Cost:0.2483\n",
      "Ep:14 | Batch:2/3 | Cost:0.8713\n",
      "Ep:15 | Batch:0/3 | Cost:0.5938\n",
      "Ep:15 | Batch:1/3 | Cost:0.5550\n",
      "Ep:15 | Batch:2/3 | Cost:0.5412\n",
      "Ep:16 | Batch:0/3 | Cost:0.4648\n",
      "Ep:16 | Batch:1/3 | Cost:0.4803\n",
      "Ep:16 | Batch:2/3 | Cost:0.6727\n",
      "Ep:17 | Batch:0/3 | Cost:0.6483\n",
      "Ep:17 | Batch:1/3 | Cost:0.4207\n",
      "Ep:17 | Batch:2/3 | Cost:0.0244\n",
      "Ep:18 | Batch:0/3 | Cost:0.5764\n",
      "Ep:18 | Batch:1/3 | Cost:0.1219\n",
      "Ep:18 | Batch:2/3 | Cost:0.8819\n",
      "Ep:19 | Batch:0/3 | Cost:0.4889\n",
      "Ep:19 | Batch:1/3 | Cost:0.6118\n",
      "Ep:19 | Batch:2/3 | Cost:0.0235\n",
      "Ep:20 | Batch:0/3 | Cost:0.4250\n",
      "Ep:20 | Batch:1/3 | Cost:0.2517\n",
      "Ep:20 | Batch:2/3 | Cost:0.8661\n"
     ]
    }
   ],
   "source": [
    "from torch.utils.data import DataLoader\n",
    "\n",
    "dataloader = DataLoader(\n",
    "    dataset,\n",
    "    batch_size=2, # 각 minibatch의 데이터 크기, 일반적으로 2의 배수로 정한다?\n",
    "    shuffle=True  # epoch마다 dataset을 섞어서 데이터가 학습되는 순서를 무작위로 배치\n",
    ")\n",
    "\n",
    "# Dataset() 클래스를 상속해서 CustomDataset()을 만들고,\n",
    "# CustomDataset()의 인스턴스를 생성하여 DataLoader 클래스를 사용한다.\n",
    "\n",
    "nb_epochs = 20\n",
    "for epoch in range(nb_epochs+1):\n",
    "    for batch_idx, samples in enumerate(dataloader): # dataloader는 여러 개의 samples로 이루어져 있다.\n",
    "        x_train, y_train = samples\n",
    "\n",
    "        pred = model(x_train) # model : MultivariateLinearRegressionModel()\n",
    "        cost = F.mse_loss(pred, y_train) # 이 두 줄 : cost function에 따른 cost를 계산하는 작업\n",
    "\n",
    "        optimizer.zero_grad()\n",
    "        cost.backward()\n",
    "        optimizer.step() # 이 세 줄 : cost의 미분값에 따라서 optimizer를 조정, model의 파라미터를 조정\n",
    "\n",
    "        print(f'Ep:{epoch} | Batch:{batch_idx}/{len(dataloader)} | Cost:{cost:.4f}')"
   ]
  },
  {
   "cell_type": "code",
   "execution_count": null,
   "metadata": {},
   "outputs": [],
   "source": []
  }
 ],
 "metadata": {
  "interpreter": {
   "hash": "89f8b5fff75b2d8ca621f0b371f1d64751a06b7789195e8887ef7855e4487b82"
  },
  "kernelspec": {
   "display_name": "Python 3.9.7 64-bit",
   "language": "python",
   "name": "python3"
  },
  "language_info": {
   "codemirror_mode": {
    "name": "ipython",
    "version": 3
   },
   "file_extension": ".py",
   "mimetype": "text/x-python",
   "name": "python",
   "nbconvert_exporter": "python",
   "pygments_lexer": "ipython3",
   "version": "3.9.7"
  },
  "orig_nbformat": 4
 },
 "nbformat": 4,
 "nbformat_minor": 2
}
