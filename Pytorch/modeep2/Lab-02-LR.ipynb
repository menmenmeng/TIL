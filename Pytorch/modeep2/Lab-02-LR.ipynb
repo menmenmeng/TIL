{
 "cells": [
  {
   "cell_type": "code",
   "execution_count": 1,
   "metadata": {},
   "outputs": [],
   "source": [
    "import numpy as np\n",
    "import torch"
   ]
  },
  {
   "cell_type": "code",
   "execution_count": 3,
   "metadata": {},
   "outputs": [],
   "source": [
    "x_train = torch.FloatTensor([1, 2, 3]).view(3, -1)\n",
    "y_train = torch.FloatTensor([2, 4, 6]).view(3, -1)"
   ]
  },
  {
   "cell_type": "code",
   "execution_count": 8,
   "metadata": {},
   "outputs": [],
   "source": [
    "# requires_grad : 학습할 것이라고 torch에게 알려 줌\n",
    "W = torch.zeros(1, requires_grad=True) # requires_grad는 False가 default이다.\n",
    "b = torch.zeros(1, requires_grad=True)\n",
    "hypothesis = x_train * W + b"
   ]
  },
  {
   "cell_type": "code",
   "execution_count": 9,
   "metadata": {},
   "outputs": [],
   "source": [
    "cost = torch.mean((hypothesis - y_train)**2)\n",
    "from torch import optim\n",
    "optimizer = optim.SGD([W, b], lr=0.01)\n",
    "\n",
    "optimizer.zero_grad() # gradient 초기화. 매 gradient 계산마다 초기화를 해줘야 함, 아니면 계속 accumulate됨..?\n",
    "cost.backward() # gradient 계산..? backward가 그냥 미분하는 함수인가 봅니다. \n",
    "optimizer.step() # parameter의 grad 따라서 step 한번 가게 해 준다."
   ]
  },
  {
   "cell_type": "code",
   "execution_count": 10,
   "metadata": {},
   "outputs": [],
   "source": [
    "# Linear Regression 전체 코드\n",
    "from torch import optim\n",
    "\n",
    "x_train = torch.FloatTensor([1, 2, 3]).view(3, -1)\n",
    "y_train = torch.FloatTensor([2, 4, 6]).view(3, -1)\n",
    "\n",
    "W = torch.zeros(1, requires_grad=True) # requires_grad는 False가 default이다.\n",
    "b = torch.zeros(1, requires_grad=True)\n",
    "\n",
    "optimizer = optim.SGD([W, b], lr=0.01)\n",
    "\n",
    "nb_epochs = 1000\n",
    "for epoch in range(nb_epochs):\n",
    "    \n",
    "    hypothesis = x_train * W + b # 현재 epoch에서 예측값 계산\n",
    "    cost = torch.mean((hypothesis - y_train)**2) # 현재 epoch에서의 loss(cost)계산\n",
    "\n",
    "    optimizer.zero_grad() # optimizer의 gradient 초기화??????\n",
    "    cost.backward() # cost값의 gradient를 W, b에 대해 계산\n",
    "    optimizer.step() # 파라미터 조정"
   ]
  },
  {
   "cell_type": "code",
   "execution_count": 13,
   "metadata": {},
   "outputs": [
    {
     "name": "stdout",
     "output_type": "stream",
     "text": [
      "tensor([1.9708], requires_grad=True) tensor([0.0664], requires_grad=True)\n"
     ]
    }
   ],
   "source": [
    "print(W, b)"
   ]
  },
  {
   "cell_type": "code",
   "execution_count": null,
   "metadata": {},
   "outputs": [],
   "source": []
  }
 ],
 "metadata": {
  "interpreter": {
   "hash": "89f8b5fff75b2d8ca621f0b371f1d64751a06b7789195e8887ef7855e4487b82"
  },
  "kernelspec": {
   "display_name": "Python 3.9.7 64-bit",
   "language": "python",
   "name": "python3"
  },
  "language_info": {
   "codemirror_mode": {
    "name": "ipython",
    "version": 3
   },
   "file_extension": ".py",
   "mimetype": "text/x-python",
   "name": "python",
   "nbconvert_exporter": "python",
   "pygments_lexer": "ipython3",
   "version": "3.9.7"
  },
  "orig_nbformat": 4
 },
 "nbformat": 4,
 "nbformat_minor": 2
}
