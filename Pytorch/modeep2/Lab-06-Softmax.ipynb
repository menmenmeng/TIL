{
 "cells": [
  {
   "cell_type": "code",
   "execution_count": 1,
   "metadata": {},
   "outputs": [],
   "source": [
    "import torch\n",
    "import torch.nn as nn\n",
    "import torch.nn.functional as F\n",
    "import torch.optim as optim"
   ]
  },
  {
   "cell_type": "code",
   "execution_count": 5,
   "metadata": {},
   "outputs": [
    {
     "data": {
      "text/plain": [
       "<torch._C.Generator at 0x204444f3930>"
      ]
     },
     "execution_count": 5,
     "metadata": {},
     "output_type": "execute_result"
    }
   ],
   "source": [
    "torch.manual_seed(1)"
   ]
  },
  {
   "cell_type": "code",
   "execution_count": 6,
   "metadata": {},
   "outputs": [
    {
     "name": "stdout",
     "output_type": "stream",
     "text": [
      "tensor([[0.7576, 0.2793, 0.4031, 0.7347, 0.0293],\n",
      "        [0.7999, 0.3971, 0.7544, 0.5695, 0.4388],\n",
      "        [0.6387, 0.5247, 0.6826, 0.3051, 0.4635]], requires_grad=True)\n",
      "tensor([[0.2645, 0.1639, 0.1855, 0.2585, 0.1277],\n",
      "        [0.2430, 0.1624, 0.2322, 0.1930, 0.1694],\n",
      "        [0.2226, 0.1986, 0.2326, 0.1594, 0.1868]], grad_fn=<SoftmaxBackward0>)\n"
     ]
    }
   ],
   "source": [
    "# Discrete Prob.Distribution : 이산적 확률분포.\n",
    "z = torch.rand(3, 5, requires_grad=True)\n",
    "hypothesis = F.softmax(z, dim=1) # dim=1, 즉 두 번째 dimension에서 softmax를 수행\n",
    "print(z)\n",
    "print(hypothesis)"
   ]
  },
  {
   "cell_type": "code",
   "execution_count": 7,
   "metadata": {},
   "outputs": [
    {
     "name": "stdout",
     "output_type": "stream",
     "text": [
      "tensor([0, 2, 1])\n"
     ]
    }
   ],
   "source": [
    "y = torch.randint(5, (3,)).long()\n",
    "print(y)"
   ]
  },
  {
   "cell_type": "code",
   "execution_count": 8,
   "metadata": {},
   "outputs": [
    {
     "name": "stdout",
     "output_type": "stream",
     "text": [
      "tensor([[1., 0., 0., 0., 0.],\n",
      "        [0., 0., 1., 0., 0.],\n",
      "        [0., 1., 0., 0., 0.]])\n"
     ]
    }
   ],
   "source": [
    "y_one_hot = torch.zeros_like(hypothesis)\n",
    "y_one_hot.scatter_(1, y.unsqueeze(1), 1) # dim, index_vector, number scattered\n",
    "print(y_one_hot)"
   ]
  },
  {
   "cell_type": "code",
   "execution_count": 9,
   "metadata": {},
   "outputs": [
    {
     "name": "stdout",
     "output_type": "stream",
     "text": [
      "tensor(1.4689, grad_fn=<MeanBackward0>)\n"
     ]
    }
   ],
   "source": [
    "cost = (y_one_hot * -torch.log(hypothesis)).sum(dim=1).mean()\n",
    "print(cost)"
   ]
  },
  {
   "cell_type": "code",
   "execution_count": 11,
   "metadata": {},
   "outputs": [
    {
     "name": "stdout",
     "output_type": "stream",
     "text": [
      "Ep:0/1000 | Cost:1.098612\n",
      "Ep:100/1000 | Cost:0.761050\n",
      "Ep:200/1000 | Cost:0.689991\n",
      "Ep:300/1000 | Cost:0.643229\n",
      "Ep:400/1000 | Cost:0.604117\n",
      "Ep:500/1000 | Cost:0.568255\n",
      "Ep:600/1000 | Cost:0.533922\n",
      "Ep:700/1000 | Cost:0.500291\n",
      "Ep:800/1000 | Cost:0.466908\n",
      "Ep:900/1000 | Cost:0.433507\n",
      "Ep:1000/1000 | Cost:0.399962\n"
     ]
    }
   ],
   "source": [
    "# Full code\n",
    "x_train = [[1, 2, 1, 1],\n",
    "           [2, 1, 3, 2], \n",
    "           [3, 1, 3, 4],\n",
    "           [4, 1, 5, 5],\n",
    "           [1, 7, 5, 5],\n",
    "           [1, 2, 5, 6],\n",
    "           [1, 6, 6, 6],\n",
    "           [1, 7, 7, 7]]\n",
    "y_train = [2, 2, 2, 1, 1, 1, 0, 0]\n",
    "x_train = torch.FloatTensor(x_train)\n",
    "y_train = torch.LongTensor(y_train)\n",
    "\n",
    "W = torch.zeros((4, 3), requires_grad=True) # 4개의 x 변수 -> 3개의 class로 변환해야 함\n",
    "b = torch.zeros(1, requires_grad=True)\n",
    "\n",
    "optimizer = optim.SGD([W, b], lr=0.1)\n",
    "\n",
    "nb_epochs = 1000\n",
    "for epoch in range(nb_epochs+1):\n",
    "\n",
    "    hypothesis = F.softmax(x_train.matmul(W)+b, dim=1) # (8*4) @ (4*3) -> (8*3). class 3개, dim=1에서 softmax\n",
    "    y_one_hot = torch.zeros_like(hypothesis) # y_train을 원핫인코딩\n",
    "    y_one_hot.scatter_(1, y_train.unsqueeze(1), 1)\n",
    "    cost = (y_one_hot * (-torch.log(hypothesis))).sum(dim=1).mean()\n",
    "\n",
    "    optimizer.zero_grad()\n",
    "    cost.backward()\n",
    "    optimizer.step()\n",
    "\n",
    "    if epoch%100==0:\n",
    "        print(f\"Ep:{epoch}/{nb_epochs} | Cost:{cost:.6f}\")"
   ]
  },
  {
   "cell_type": "code",
   "execution_count": 12,
   "metadata": {},
   "outputs": [
    {
     "name": "stdout",
     "output_type": "stream",
     "text": [
      "Ep:0/1000 | Cost:1.098612\n",
      "Ep:100/1000 | Cost:0.761050\n",
      "Ep:200/1000 | Cost:0.689991\n",
      "Ep:300/1000 | Cost:0.643229\n",
      "Ep:400/1000 | Cost:0.604117\n",
      "Ep:500/1000 | Cost:0.568255\n",
      "Ep:600/1000 | Cost:0.533922\n",
      "Ep:700/1000 | Cost:0.500291\n",
      "Ep:800/1000 | Cost:0.466908\n",
      "Ep:900/1000 | Cost:0.433507\n",
      "Ep:1000/1000 | Cost:0.399962\n"
     ]
    }
   ],
   "source": [
    "# Full code with high level function (F.cross_entropy)\n",
    "x_train = [[1, 2, 1, 1],\n",
    "           [2, 1, 3, 2], \n",
    "           [3, 1, 3, 4],\n",
    "           [4, 1, 5, 5],\n",
    "           [1, 7, 5, 5],\n",
    "           [1, 2, 5, 6],\n",
    "           [1, 6, 6, 6],\n",
    "           [1, 7, 7, 7]]\n",
    "y_train = [2, 2, 2, 1, 1, 1, 0, 0]\n",
    "x_train = torch.FloatTensor(x_train)\n",
    "y_train = torch.LongTensor(y_train)\n",
    "\n",
    "W = torch.zeros((4, 3), requires_grad=True) # 4개의 x 변수 -> 3개의 class로 변환해야 함\n",
    "b = torch.zeros(1, requires_grad=True)\n",
    "\n",
    "optimizer = optim.SGD([W, b], lr=0.1)\n",
    "\n",
    "nb_epochs = 1000\n",
    "for epoch in range(nb_epochs+1):\n",
    "\n",
    "    z = x_train.matmul(W)+b\n",
    "    cost = F.cross_entropy(z, y_train)\n",
    "    # 이렇게 쓸 경우에는 확률값, 즉 softmax function 직후의 값을 얻어낼 수는 없게 됨.\n",
    "\n",
    "    optimizer.zero_grad()\n",
    "    cost.backward()\n",
    "    optimizer.step()\n",
    "\n",
    "    if epoch%100==0:\n",
    "        print(f\"Ep:{epoch}/{nb_epochs} | Cost:{cost:.6f}\")"
   ]
  },
  {
   "cell_type": "code",
   "execution_count": 13,
   "metadata": {},
   "outputs": [],
   "source": [
    "# Full code with High level implementation\n",
    "# 왜 Linear만 있으면 되는 것 ? --> Cost는 따로 식을 만들며, cost 안에 softmax function이 들어 있음\n",
    "class SoftmaxClassifierModel(nn.Module):\n",
    "    def __init__(self):\n",
    "        super(SoftmaxClassifierModel, self).__init__()\n",
    "        self.linear = nn.Linear(4, 3)\n",
    "\n",
    "    def forward(self, x):\n",
    "        return self.linear(x)\n",
    "\n",
    "model = SoftmaxClassifierModel()"
   ]
  },
  {
   "cell_type": "code",
   "execution_count": 15,
   "metadata": {},
   "outputs": [
    {
     "name": "stdout",
     "output_type": "stream",
     "text": [
      "Ep:0/1000 | Cost:1.849513\n",
      "Ep:100/1000 | Cost:0.689894\n",
      "Ep:200/1000 | Cost:0.609258\n",
      "Ep:300/1000 | Cost:0.551218\n",
      "Ep:400/1000 | Cost:0.500141\n",
      "Ep:500/1000 | Cost:0.451947\n",
      "Ep:600/1000 | Cost:0.405051\n",
      "Ep:700/1000 | Cost:0.358734\n",
      "Ep:800/1000 | Cost:0.312912\n",
      "Ep:900/1000 | Cost:0.269522\n",
      "Ep:1000/1000 | Cost:0.241922\n"
     ]
    }
   ],
   "source": [
    "optimizer = optim.SGD(model.parameters(), lr=0.1)\n",
    "\n",
    "nb_epochs = 1000\n",
    "for epoch in range(nb_epochs+1):\n",
    "\n",
    "    pred = model(x_train)\n",
    "    cost = F.cross_entropy(pred, y_train)\n",
    "    # 이렇게 쓸 경우에는 확률값, 즉 softmax function 직후의 값을 얻어낼 수는 없게 됨.\n",
    "\n",
    "    optimizer.zero_grad()\n",
    "    cost.backward()\n",
    "    optimizer.step()\n",
    "\n",
    "    if epoch%100==0:\n",
    "        print(f\"Ep:{epoch}/{nb_epochs} | Cost:{cost:.6f}\")"
   ]
  },
  {
   "cell_type": "code",
   "execution_count": null,
   "metadata": {},
   "outputs": [],
   "source": []
  }
 ],
 "metadata": {
  "interpreter": {
   "hash": "89f8b5fff75b2d8ca621f0b371f1d64751a06b7789195e8887ef7855e4487b82"
  },
  "kernelspec": {
   "display_name": "Python 3.9.7 64-bit",
   "language": "python",
   "name": "python3"
  },
  "language_info": {
   "codemirror_mode": {
    "name": "ipython",
    "version": 3
   },
   "file_extension": ".py",
   "mimetype": "text/x-python",
   "name": "python",
   "nbconvert_exporter": "python",
   "pygments_lexer": "ipython3",
   "version": "3.9.7"
  },
  "orig_nbformat": 4
 },
 "nbformat": 4,
 "nbformat_minor": 2
}
