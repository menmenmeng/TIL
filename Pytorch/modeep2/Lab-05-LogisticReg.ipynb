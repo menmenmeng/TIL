{
 "cells": [
  {
   "cell_type": "code",
   "execution_count": 28,
   "metadata": {},
   "outputs": [],
   "source": [
    "import torch\n",
    "import torch.nn as nn\n",
    "import torch.nn.functional as F\n",
    "import torch.optim as optim"
   ]
  },
  {
   "cell_type": "code",
   "execution_count": 29,
   "metadata": {},
   "outputs": [
    {
     "data": {
      "text/plain": [
       "<torch._C.Generator at 0x1e9ec282930>"
      ]
     },
     "execution_count": 29,
     "metadata": {},
     "output_type": "execute_result"
    }
   ],
   "source": [
    "torch.manual_seed(1)"
   ]
  },
  {
   "cell_type": "code",
   "execution_count": 30,
   "metadata": {},
   "outputs": [],
   "source": [
    "x_data = [[1, 2], [2, 3], [3, 1], [4, 3], [5, 3], [6, 2]]\n",
    "y_data = [[0], [0], [0], [1], [1], [1]]"
   ]
  },
  {
   "cell_type": "code",
   "execution_count": 31,
   "metadata": {},
   "outputs": [
    {
     "name": "stdout",
     "output_type": "stream",
     "text": [
      "torch.Size([6, 2])\n",
      "torch.Size([6, 1])\n"
     ]
    }
   ],
   "source": [
    "x_train = torch.FloatTensor(x_data)\n",
    "y_train = torch.FloatTensor(y_data)\n",
    "print(x_train.shape)\n",
    "print(y_train.shape)"
   ]
  },
  {
   "cell_type": "code",
   "execution_count": 32,
   "metadata": {},
   "outputs": [
    {
     "name": "stdout",
     "output_type": "stream",
     "text": [
      "tensor([[0.5000],\n",
      "        [0.5000],\n",
      "        [0.5000],\n",
      "        [0.5000],\n",
      "        [0.5000],\n",
      "        [0.5000]], grad_fn=<MulBackward0>)\n",
      "torch.Size([6, 1])\n"
     ]
    }
   ],
   "source": [
    "W = torch.zeros((2, 1), requires_grad=True)\n",
    "b = torch.zeros(1, requires_grad=True)\n",
    "hypothesis = 1/(1 + torch.exp(-(x_train.matmul(W) + b))) # 1 / (1 + exp(-X)), x = x_train @ W + b\n",
    "print(hypothesis)\n",
    "print(hypothesis.shape)"
   ]
  },
  {
   "cell_type": "code",
   "execution_count": 33,
   "metadata": {},
   "outputs": [],
   "source": [
    "hypothesis = torch.sigmoid(x_train.matmul(W) + b)"
   ]
  },
  {
   "cell_type": "code",
   "execution_count": 34,
   "metadata": {},
   "outputs": [
    {
     "name": "stdout",
     "output_type": "stream",
     "text": [
      "tensor(0.6931, grad_fn=<MeanBackward0>)\n"
     ]
    }
   ],
   "source": [
    "losses = -(y_train * torch.log(hypothesis) + (1-y_train) * torch.log(1-hypothesis))\n",
    "cost = losses.mean()\n",
    "print(cost)"
   ]
  },
  {
   "cell_type": "code",
   "execution_count": 35,
   "metadata": {},
   "outputs": [
    {
     "data": {
      "text/plain": [
       "tensor(0.6931, grad_fn=<BinaryCrossEntropyBackward0>)"
      ]
     },
     "execution_count": 35,
     "metadata": {},
     "output_type": "execute_result"
    }
   ],
   "source": [
    "F.binary_cross_entropy(hypothesis, y_train)"
   ]
  },
  {
   "cell_type": "code",
   "execution_count": 36,
   "metadata": {},
   "outputs": [
    {
     "name": "stdout",
     "output_type": "stream",
     "text": [
      "Ep 0/1000 | Cost 0.69315\n",
      "Ep 100/1000 | Cost 0.13472\n",
      "Ep 200/1000 | Cost 0.08064\n",
      "Ep 300/1000 | Cost 0.05790\n",
      "Ep 400/1000 | Cost 0.04530\n",
      "Ep 500/1000 | Cost 0.03726\n",
      "Ep 600/1000 | Cost 0.03167\n",
      "Ep 700/1000 | Cost 0.02756\n",
      "Ep 800/1000 | Cost 0.02439\n",
      "Ep 900/1000 | Cost 0.02189\n",
      "Ep 1000/1000 | Cost 0.01985\n"
     ]
    }
   ],
   "source": [
    "# Full code\n",
    "W = torch.zeros((2, 1), requires_grad=True)\n",
    "b = torch.zeros(1, requires_grad=True)\n",
    "\n",
    "optimizer = optim.SGD([W, b], lr=1)\n",
    "\n",
    "nb_epochs = 1000\n",
    "for epoch in range(nb_epochs+1):\n",
    "\n",
    "    hypo = torch.sigmoid(x_train.matmul(W) + b)\n",
    "    cost = F.binary_cross_entropy(hypo, y_train)\n",
    "\n",
    "    optimizer.zero_grad()\n",
    "    cost.backward()\n",
    "    optimizer.step()\n",
    "\n",
    "    if epoch%100==0:\n",
    "        print(f'Ep {epoch}/{nb_epochs} | Cost {cost:.5f}')"
   ]
  },
  {
   "cell_type": "code",
   "execution_count": 37,
   "metadata": {},
   "outputs": [
    {
     "name": "stdout",
     "output_type": "stream",
     "text": [
      "tensor([[2.7648e-04],\n",
      "        [3.1608e-02],\n",
      "        [3.8977e-02],\n",
      "        [9.5622e-01],\n",
      "        [9.9823e-01],\n",
      "        [9.9969e-01]], grad_fn=<SigmoidBackward0>)\n"
     ]
    }
   ],
   "source": [
    "hypo_last = torch.sigmoid(x_train.matmul(W)+b)\n",
    "print(hypo_last)"
   ]
  },
  {
   "cell_type": "code",
   "execution_count": 38,
   "metadata": {},
   "outputs": [
    {
     "name": "stdout",
     "output_type": "stream",
     "text": [
      "tensor([[0],\n",
      "        [0],\n",
      "        [0],\n",
      "        [1],\n",
      "        [1],\n",
      "        [1]], dtype=torch.uint8)\n"
     ]
    }
   ],
   "source": [
    "prediction = hypo_last >= torch.FloatTensor([0.5])\n",
    "print(prediction.byte())"
   ]
  },
  {
   "cell_type": "code",
   "execution_count": 39,
   "metadata": {},
   "outputs": [],
   "source": [
    "# 좀더 pytorch스럽게\n",
    "class BinaryClassifier(nn.Module):\n",
    "    def __init__(self):\n",
    "        super(BinaryClassifier, self).__init__()\n",
    "        self.linear = nn.Linear(8, 1) # 8개 input, 1개의 output. W와 b가 모두 들어있는 linear layer이다.\n",
    "        self.sigmoid = nn.Sigmoid()\n",
    "\n",
    "    def forward(self, x):\n",
    "        return self.sigmoid(self.linear(x))\n",
    "\n",
    "model = BinaryClassifier()"
   ]
  },
  {
   "cell_type": "code",
   "execution_count": 42,
   "metadata": {},
   "outputs": [
    {
     "name": "stdout",
     "output_type": "stream",
     "text": [
      "tensor([[0.4388, 0.6387, 0.5247, 0.6826, 0.3051, 0.4635, 0.4550, 0.5725],\n",
      "        [0.4980, 0.9371, 0.6556, 0.3138, 0.1980, 0.4162, 0.2843, 0.3398],\n",
      "        [0.5239, 0.7981, 0.7718, 0.0112, 0.8100, 0.6397, 0.9743, 0.8300],\n",
      "        [0.0444, 0.0246, 0.2588, 0.9391, 0.4167, 0.7140, 0.2676, 0.9906],\n",
      "        [0.2885, 0.8750, 0.5059, 0.2366, 0.7570, 0.2346, 0.6471, 0.3556],\n",
      "        [0.4452, 0.0193, 0.2616, 0.7713, 0.3785, 0.9980, 0.9008, 0.4766],\n",
      "        [0.1663, 0.8045, 0.6552, 0.1768, 0.8248, 0.8036, 0.9434, 0.2197],\n",
      "        [0.4177, 0.4903, 0.5730, 0.1205, 0.1452, 0.7720, 0.3828, 0.7442],\n",
      "        [0.5285, 0.6642, 0.6099, 0.6818, 0.7479, 0.0369, 0.7517, 0.1484],\n",
      "        [0.1227, 0.5304, 0.4148, 0.7937, 0.2104, 0.0555, 0.8639, 0.4259],\n",
      "        [0.7812, 0.6607, 0.1251, 0.6004, 0.6201, 0.1652, 0.2628, 0.6705],\n",
      "        [0.5896, 0.2873, 0.3486, 0.9579, 0.4075, 0.7819, 0.7165, 0.1768],\n",
      "        [0.0748, 0.9799, 0.5261, 0.8427, 0.6036, 0.6608, 0.8735, 0.9741],\n",
      "        [0.1682, 0.5625, 0.8731, 0.8622, 0.8106, 0.1381, 0.1399, 0.1976],\n",
      "        [0.5628, 0.9983, 0.1842, 0.7664, 0.2233, 0.0299, 0.3937, 0.7881],\n",
      "        [0.9642, 0.1895, 0.6085, 0.9314, 0.8313, 0.8116, 0.8553, 0.8163],\n",
      "        [0.6291, 0.1581, 0.0801, 0.2709, 0.4418, 0.1935, 0.6829, 0.6547],\n",
      "        [0.3868, 0.6922, 0.6616, 0.8053, 0.8367, 0.3307, 0.9885, 0.4422],\n",
      "        [0.4828, 0.0281, 0.1782, 0.2079, 0.2861, 0.8555, 0.3366, 0.1264],\n",
      "        [0.6924, 0.6601, 0.8238, 0.2413, 0.6084, 0.3180, 0.3877, 0.1015]])\n",
      "tensor([[0.],\n",
      "        [0.],\n",
      "        [1.],\n",
      "        [0.],\n",
      "        [0.],\n",
      "        [1.],\n",
      "        [0.],\n",
      "        [0.],\n",
      "        [1.],\n",
      "        [1.],\n",
      "        [0.],\n",
      "        [0.],\n",
      "        [0.],\n",
      "        [1.],\n",
      "        [0.],\n",
      "        [0.],\n",
      "        [0.],\n",
      "        [0.],\n",
      "        [1.],\n",
      "        [0.]])\n"
     ]
    }
   ],
   "source": [
    "# 예시 데이터를 나중에 만들어서 사용해 보기로... (torch.randn 등등)\n",
    "# x_train.shape = m * 8\n",
    "# y_train.shape = m * 1\n",
    "# m은 마음대로.\n",
    "x_train = torch.rand(20, 8).float()\n",
    "y_train = torch.randint(2, (20, 1)).float()\n",
    "print(x_train)\n",
    "print(y_train)"
   ]
  },
  {
   "cell_type": "code",
   "execution_count": 43,
   "metadata": {},
   "outputs": [
    {
     "name": "stdout",
     "output_type": "stream",
     "text": [
      "Ep:0/100 | Cost:0.723373\n",
      "Ep:10/100 | Cost:0.583882\n",
      "Ep:20/100 | Cost:0.559285\n",
      "Ep:30/100 | Cost:0.540712\n",
      "Ep:40/100 | Cost:0.526272\n",
      "Ep:50/100 | Cost:0.514721\n",
      "Ep:60/100 | Cost:0.505232\n",
      "Ep:70/100 | Cost:0.497249\n",
      "Ep:80/100 | Cost:0.490390\n",
      "Ep:90/100 | Cost:0.484388\n",
      "Ep:100/100 | Cost:0.479053\n"
     ]
    }
   ],
   "source": [
    "optimizer = optim.SGD(model.parameters(), lr=1)\n",
    "\n",
    "nb_epochs = 100\n",
    "for epoch in range(nb_epochs + 1):\n",
    "\n",
    "    hypothesis = model(x_train) # Linear -> Sigmoid\n",
    "    cost = F.binary_cross_entropy(hypothesis, y_train)\n",
    "\n",
    "    optimizer.zero_grad()\n",
    "    cost.backward()\n",
    "    optimizer.step()\n",
    "\n",
    "    if epoch % 10 == 0:\n",
    "        print(f\"Ep:{epoch}/{nb_epochs} | Cost:{cost:.6f}\")"
   ]
  },
  {
   "cell_type": "code",
   "execution_count": null,
   "metadata": {},
   "outputs": [],
   "source": []
  }
 ],
 "metadata": {
  "interpreter": {
   "hash": "89f8b5fff75b2d8ca621f0b371f1d64751a06b7789195e8887ef7855e4487b82"
  },
  "kernelspec": {
   "display_name": "Python 3.9.7 64-bit",
   "language": "python",
   "name": "python3"
  },
  "language_info": {
   "codemirror_mode": {
    "name": "ipython",
    "version": 3
   },
   "file_extension": ".py",
   "mimetype": "text/x-python",
   "name": "python",
   "nbconvert_exporter": "python",
   "pygments_lexer": "ipython3",
   "version": "3.9.7"
  },
  "orig_nbformat": 4
 },
 "nbformat": 4,
 "nbformat_minor": 2
}
