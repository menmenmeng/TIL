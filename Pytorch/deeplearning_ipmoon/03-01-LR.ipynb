{
 "cells": [
  {
   "cell_type": "code",
   "execution_count": 2,
   "metadata": {},
   "outputs": [
    {
     "data": {
      "text/plain": [
       "<torch._C.Generator at 0x1b8f34a58f0>"
      ]
     },
     "execution_count": 2,
     "metadata": {},
     "output_type": "execute_result"
    }
   ],
   "source": [
    "import torch\n",
    "import torch.nn as nn\n",
    "import torch.nn.functional as F\n",
    "import torch.optim as optim\n",
    "torch.manual_seed(1)"
   ]
  },
  {
   "cell_type": "code",
   "execution_count": 3,
   "metadata": {},
   "outputs": [],
   "source": [
    "x_train = torch.FloatTensor([[1], [2], [3]])\n",
    "y_train = torch.FloatTensor([[2], [4], [6]])"
   ]
  },
  {
   "cell_type": "code",
   "execution_count": 4,
   "metadata": {},
   "outputs": [
    {
     "name": "stdout",
     "output_type": "stream",
     "text": [
      "tensor([0.], requires_grad=True)\n"
     ]
    }
   ],
   "source": [
    "W = torch.zeros(1, requires_grad=True)\n",
    "print(W)"
   ]
  },
  {
   "cell_type": "code",
   "execution_count": 5,
   "metadata": {},
   "outputs": [
    {
     "name": "stdout",
     "output_type": "stream",
     "text": [
      "tensor([0.], requires_grad=True)\n"
     ]
    }
   ],
   "source": [
    "b = torch.zeros(1, requires_grad=True)\n",
    "print(b)"
   ]
  },
  {
   "cell_type": "code",
   "execution_count": 6,
   "metadata": {},
   "outputs": [
    {
     "name": "stdout",
     "output_type": "stream",
     "text": [
      "tensor([[0.],\n",
      "        [0.],\n",
      "        [0.]], grad_fn=<AddBackward0>)\n"
     ]
    }
   ],
   "source": [
    "hypothesis = x_train * W + b\n",
    "print(hypothesis)"
   ]
  },
  {
   "cell_type": "code",
   "execution_count": 7,
   "metadata": {},
   "outputs": [
    {
     "name": "stdout",
     "output_type": "stream",
     "text": [
      "tensor(18.6667, grad_fn=<MeanBackward0>)\n"
     ]
    }
   ],
   "source": [
    "cost = torch.mean((hypothesis - y_train)**2)\n",
    "print(cost)"
   ]
  },
  {
   "cell_type": "code",
   "execution_count": 8,
   "metadata": {},
   "outputs": [],
   "source": [
    "optimizer = optim.SGD([W, b], lr=0.01)"
   ]
  },
  {
   "cell_type": "code",
   "execution_count": 9,
   "metadata": {},
   "outputs": [
    {
     "name": "stdout",
     "output_type": "stream",
     "text": [
      "Epoch    0/1999 W: 0.187, b: 0.080 Cost: 18.666666\n",
      "Epoch  100/1999 W: 1.746, b: 0.578 Cost: 0.048171\n",
      "Epoch  200/1999 W: 1.800, b: 0.454 Cost: 0.029767\n",
      "Epoch  300/1999 W: 1.843, b: 0.357 Cost: 0.018394\n",
      "Epoch  400/1999 W: 1.876, b: 0.281 Cost: 0.011366\n",
      "Epoch  500/1999 W: 1.903, b: 0.221 Cost: 0.007024\n",
      "Epoch  600/1999 W: 1.924, b: 0.174 Cost: 0.004340\n",
      "Epoch  700/1999 W: 1.940, b: 0.136 Cost: 0.002682\n",
      "Epoch  800/1999 W: 1.953, b: 0.107 Cost: 0.001657\n",
      "Epoch  900/1999 W: 1.963, b: 0.084 Cost: 0.001024\n",
      "Epoch 1000/1999 W: 1.971, b: 0.066 Cost: 0.000633\n",
      "Epoch 1100/1999 W: 1.977, b: 0.052 Cost: 0.000391\n",
      "Epoch 1200/1999 W: 1.982, b: 0.041 Cost: 0.000242\n",
      "Epoch 1300/1999 W: 1.986, b: 0.032 Cost: 0.000149\n",
      "Epoch 1400/1999 W: 1.989, b: 0.025 Cost: 0.000092\n",
      "Epoch 1500/1999 W: 1.991, b: 0.020 Cost: 0.000057\n",
      "Epoch 1600/1999 W: 1.993, b: 0.016 Cost: 0.000035\n",
      "Epoch 1700/1999 W: 1.995, b: 0.012 Cost: 0.000022\n",
      "Epoch 1800/1999 W: 1.996, b: 0.010 Cost: 0.000013\n",
      "Epoch 1900/1999 W: 1.997, b: 0.008 Cost: 0.000008\n"
     ]
    }
   ],
   "source": [
    "# 데이터\n",
    "x_train = torch.FloatTensor([[1], [2], [3]])\n",
    "y_train = torch.FloatTensor([[2], [4], [6]])\n",
    "# 모델 초기화\n",
    "W = torch.zeros(1, requires_grad=True)\n",
    "b = torch.zeros(1, requires_grad=True)\n",
    "# optimizer 설정\n",
    "optimizer = optim.SGD([W, b], lr=0.01)\n",
    "\n",
    "nb_epochs = 1999 # 원하는만큼 경사 하강법을 반복\n",
    "for epoch in range(nb_epochs + 1):\n",
    "\n",
    "    # H(x) 계산\n",
    "    hypothesis = x_train * W + b\n",
    "\n",
    "    # cost 계산\n",
    "    cost = torch.mean((hypothesis - y_train) ** 2)\n",
    "\n",
    "    # cost로 H(x) 개선\n",
    "    optimizer.zero_grad()\n",
    "    cost.backward()\n",
    "    optimizer.step()\n",
    "\n",
    "    # 100번마다 로그 출력\n",
    "    if epoch % 100 == 0:\n",
    "        print('Epoch {:4d}/{} W: {:.3f}, b: {:.3f} Cost: {:.6f}'.format(\n",
    "            epoch, nb_epochs, W.item(), b.item(), cost.item()\n",
    "        ))"
   ]
  },
  {
   "cell_type": "code",
   "execution_count": 1,
   "metadata": {},
   "outputs": [
    {
     "name": "stdout",
     "output_type": "stream",
     "text": [
      "1: tensor([0.], requires_grad=True) tensor([0.], requires_grad=True)\n",
      "2: tensor([0.1867], requires_grad=True) tensor([0.0800], requires_grad=True)\n",
      "----------------------------------------------------------------------------------------------------\n",
      "Epoch    0/20 W: 0.187, b: 0.080 Cost: 18.666666\n",
      "1: tensor([0.1867], requires_grad=True) tensor([0.0800], requires_grad=True)\n",
      "2: tensor([0.3527], requires_grad=True) tensor([0.1509], requires_grad=True)\n",
      "----------------------------------------------------------------------------------------------------\n",
      "1: tensor([0.3527], requires_grad=True) tensor([0.1509], requires_grad=True)\n",
      "2: tensor([0.5004], requires_grad=True) tensor([0.2138], requires_grad=True)\n",
      "----------------------------------------------------------------------------------------------------\n",
      "1: tensor([0.5004], requires_grad=True) tensor([0.2138], requires_grad=True)\n",
      "2: tensor([0.6318], requires_grad=True) tensor([0.2695], requires_grad=True)\n",
      "----------------------------------------------------------------------------------------------------\n",
      "1: tensor([0.6318], requires_grad=True) tensor([0.2695], requires_grad=True)\n",
      "2: tensor([0.7487], requires_grad=True) tensor([0.3188], requires_grad=True)\n",
      "----------------------------------------------------------------------------------------------------\n",
      "1: tensor([0.7487], requires_grad=True) tensor([0.3188], requires_grad=True)\n",
      "2: tensor([0.8528], requires_grad=True) tensor([0.3625], requires_grad=True)\n",
      "----------------------------------------------------------------------------------------------------\n",
      "1: tensor([0.8528], requires_grad=True) tensor([0.3625], requires_grad=True)\n",
      "2: tensor([0.9453], requires_grad=True) tensor([0.4012], requires_grad=True)\n",
      "----------------------------------------------------------------------------------------------------\n",
      "1: tensor([0.9453], requires_grad=True) tensor([0.4012], requires_grad=True)\n",
      "2: tensor([1.0277], requires_grad=True) tensor([0.4353], requires_grad=True)\n",
      "----------------------------------------------------------------------------------------------------\n",
      "1: tensor([1.0277], requires_grad=True) tensor([0.4353], requires_grad=True)\n",
      "2: tensor([1.1011], requires_grad=True) tensor([0.4655], requires_grad=True)\n",
      "----------------------------------------------------------------------------------------------------\n",
      "1: tensor([1.1011], requires_grad=True) tensor([0.4655], requires_grad=True)\n",
      "2: tensor([1.1663], requires_grad=True) tensor([0.4922], requires_grad=True)\n",
      "----------------------------------------------------------------------------------------------------\n",
      "1: tensor([1.1663], requires_grad=True) tensor([0.4922], requires_grad=True)\n",
      "2: tensor([1.2245], requires_grad=True) tensor([0.5157], requires_grad=True)\n",
      "----------------------------------------------------------------------------------------------------\n",
      "1: tensor([1.2245], requires_grad=True) tensor([0.5157], requires_grad=True)\n",
      "2: tensor([1.2762], requires_grad=True) tensor([0.5364], requires_grad=True)\n",
      "----------------------------------------------------------------------------------------------------\n",
      "1: tensor([1.2762], requires_grad=True) tensor([0.5364], requires_grad=True)\n",
      "2: tensor([1.3223], requires_grad=True) tensor([0.5546], requires_grad=True)\n",
      "----------------------------------------------------------------------------------------------------\n",
      "1: tensor([1.3223], requires_grad=True) tensor([0.5546], requires_grad=True)\n",
      "2: tensor([1.3634], requires_grad=True) tensor([0.5706], requires_grad=True)\n",
      "----------------------------------------------------------------------------------------------------\n",
      "1: tensor([1.3634], requires_grad=True) tensor([0.5706], requires_grad=True)\n",
      "2: tensor([1.4000], requires_grad=True) tensor([0.5847], requires_grad=True)\n",
      "----------------------------------------------------------------------------------------------------\n",
      "1: tensor([1.4000], requires_grad=True) tensor([0.5847], requires_grad=True)\n",
      "2: tensor([1.4326], requires_grad=True) tensor([0.5970], requires_grad=True)\n",
      "----------------------------------------------------------------------------------------------------\n",
      "1: tensor([1.4326], requires_grad=True) tensor([0.5970], requires_grad=True)\n",
      "2: tensor([1.4617], requires_grad=True) tensor([0.6077], requires_grad=True)\n",
      "----------------------------------------------------------------------------------------------------\n",
      "1: tensor([1.4617], requires_grad=True) tensor([0.6077], requires_grad=True)\n",
      "2: tensor([1.4876], requires_grad=True) tensor([0.6171], requires_grad=True)\n",
      "----------------------------------------------------------------------------------------------------\n",
      "1: tensor([1.4876], requires_grad=True) tensor([0.6171], requires_grad=True)\n",
      "2: tensor([1.5107], requires_grad=True) tensor([0.6253], requires_grad=True)\n",
      "----------------------------------------------------------------------------------------------------\n",
      "1: tensor([1.5107], requires_grad=True) tensor([0.6253], requires_grad=True)\n",
      "2: tensor([1.5314], requires_grad=True) tensor([0.6323], requires_grad=True)\n",
      "----------------------------------------------------------------------------------------------------\n",
      "1: tensor([1.5314], requires_grad=True) tensor([0.6323], requires_grad=True)\n",
      "2: tensor([1.5498], requires_grad=True) tensor([0.6384], requires_grad=True)\n",
      "----------------------------------------------------------------------------------------------------\n"
     ]
    }
   ],
   "source": [
    "import torch\n",
    "import torch.nn as nn\n",
    "import torch.nn.functional as F\n",
    "import torch.optim as optim\n",
    "\n",
    "\n",
    "# 데이터\n",
    "x_train = torch.FloatTensor([[1], [2], [3]])\n",
    "y_train = torch.FloatTensor([[2], [4], [6]])\n",
    "# 모델 초기화\n",
    "W = torch.zeros(1, requires_grad=True)\n",
    "b = torch.zeros(1, requires_grad=True)\n",
    "# optimizer 설정\n",
    "optimizer = optim.SGD([W, b], lr=0.01)\n",
    "\n",
    "nb_epochs = 20 # 원하는만큼 경사 하강법을 반복\n",
    "for epoch in range(nb_epochs + 1):\n",
    "\n",
    "    print('1:', W, b)\n",
    "    # H(x) 계산\n",
    "    hypothesis = x_train * W + b\n",
    "\n",
    "    # cost 계산\n",
    "    cost = torch.mean((hypothesis - y_train) ** 2)\n",
    "\n",
    "    # cost로 H(x) 개선\n",
    "    optimizer.zero_grad()\n",
    "    cost.backward()\n",
    "    optimizer.step()\n",
    "\n",
    "    print('2:', W, b)\n",
    "    print('-'*100)\n",
    "\n",
    "    # 100번마다 로그 출력\n",
    "    if epoch % 100 == 0:\n",
    "        print('Epoch {:4d}/{} W: {:.3f}, b: {:.3f} Cost: {:.6f}'.format(\n",
    "            epoch, nb_epochs, W.item(), b.item(), cost.item()\n",
    "        ))"
   ]
  },
  {
   "cell_type": "code",
   "execution_count": null,
   "metadata": {},
   "outputs": [],
   "source": []
  }
 ],
 "metadata": {
  "interpreter": {
   "hash": "97369b3d9e9c7dcb34dec3b2718954ed1e8745222ee8d58b3aad4f5d71652e7f"
  },
  "kernelspec": {
   "display_name": "Python 3.9.7 ('dlvenv')",
   "language": "python",
   "name": "python3"
  },
  "language_info": {
   "codemirror_mode": {
    "name": "ipython",
    "version": 3
   },
   "file_extension": ".py",
   "mimetype": "text/x-python",
   "name": "python",
   "nbconvert_exporter": "python",
   "pygments_lexer": "ipython3",
   "version": "3.9.7"
  },
  "orig_nbformat": 4
 },
 "nbformat": 4,
 "nbformat_minor": 2
}
