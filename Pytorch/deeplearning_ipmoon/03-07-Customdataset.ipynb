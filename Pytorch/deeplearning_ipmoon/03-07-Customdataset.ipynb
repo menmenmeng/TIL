{
 "cells": [
  {
   "cell_type": "code",
   "execution_count": 2,
   "metadata": {},
   "outputs": [],
   "source": [
    "import torch\n",
    "import torch.nn as nn\n",
    "import torch.nn.functional as F\n",
    "from torch.utils.data import Dataset, DataLoader"
   ]
  },
  {
   "cell_type": "code",
   "execution_count": 3,
   "metadata": {},
   "outputs": [],
   "source": [
    "class CustomDataset(Dataset):\n",
    "    # __init__, __len__, __getitem__ 세 가지 함수를 오버래핑한다.\n",
    "    # 아래의 모양을 잘 기억해 두어야 할 것.\n",
    "\n",
    "    def __init__(self):\n",
    "        # 데이터셋의 전처리를 해주는 부분, 데이터셋을 정의함.\n",
    "        self.x_data = [[73, 80, 75],\n",
    "                       [93, 88, 93],\n",
    "                       [89, 91, 90],\n",
    "                       [96, 98, 100],\n",
    "                       [73, 66, 70]]\n",
    "        self.y_data = [[152], [185], [180], [196], [142]]\n",
    "\n",
    "    def __len__(self):\n",
    "        # 데이터셋의 길이, 총 샘플 수를 적는 부분\n",
    "        return len(self.x_data)\n",
    "\n",
    "    def __getitem__(self, idx):\n",
    "        # 데이터셋에서 idx를 입력했을 때 그에 해당하는 데이터를 주는 부분\n",
    "        x = torch.FloatTensor(self.x_data[idx])\n",
    "        y = torch.FloatTensor(self.y_data[idx])\n",
    "        return x, y"
   ]
  },
  {
   "cell_type": "code",
   "execution_count": 5,
   "metadata": {},
   "outputs": [],
   "source": [
    "dataset = CustomDataset()\n",
    "dataloader = DataLoader(dataset, batch_size=2, shuffle=True)\n",
    "model = nn.Linear(3, 1)\n",
    "optimizer = torch.optim.SGD(model.parameters(), lr=1e-5)"
   ]
  },
  {
   "cell_type": "code",
   "execution_count": 6,
   "metadata": {},
   "outputs": [
    {
     "name": "stdout",
     "output_type": "stream",
     "text": [
      "Epoch    0/20 Batch 1/3 Cost: 23057.949219\n",
      "Epoch    0/20 Batch 2/3 Cost: 6212.569336\n",
      "Epoch    0/20 Batch 3/3 Cost: 2446.914062\n",
      "Epoch    1/20 Batch 1/3 Cost: 646.829346\n",
      "Epoch    1/20 Batch 2/3 Cost: 236.006287\n",
      "Epoch    1/20 Batch 3/3 Cost: 24.307236\n",
      "Epoch    2/20 Batch 1/3 Cost: 34.604256\n",
      "Epoch    2/20 Batch 2/3 Cost: 1.783461\n",
      "Epoch    2/20 Batch 3/3 Cost: 14.601550\n",
      "Epoch    3/20 Batch 1/3 Cost: 2.607928\n",
      "Epoch    3/20 Batch 2/3 Cost: 3.367226\n",
      "Epoch    3/20 Batch 3/3 Cost: 1.936640\n",
      "Epoch    4/20 Batch 1/3 Cost: 0.378225\n",
      "Epoch    4/20 Batch 2/3 Cost: 7.360032\n",
      "Epoch    4/20 Batch 3/3 Cost: 2.645189\n",
      "Epoch    5/20 Batch 1/3 Cost: 3.768229\n",
      "Epoch    5/20 Batch 2/3 Cost: 1.158062\n",
      "Epoch    5/20 Batch 3/3 Cost: 5.192343\n",
      "Epoch    6/20 Batch 1/3 Cost: 2.007363\n",
      "Epoch    6/20 Batch 2/3 Cost: 3.195776\n",
      "Epoch    6/20 Batch 3/3 Cost: 2.639038\n",
      "Epoch    7/20 Batch 1/3 Cost: 3.510738\n",
      "Epoch    7/20 Batch 2/3 Cost: 2.050913\n",
      "Epoch    7/20 Batch 3/3 Cost: 2.008516\n",
      "Epoch    8/20 Batch 1/3 Cost: 5.792362\n",
      "Epoch    8/20 Batch 2/3 Cost: 3.125969\n",
      "Epoch    8/20 Batch 3/3 Cost: 0.728437\n",
      "Epoch    9/20 Batch 1/3 Cost: 2.882951\n",
      "Epoch    9/20 Batch 2/3 Cost: 3.639295\n",
      "Epoch    9/20 Batch 3/3 Cost: 1.332366\n",
      "Epoch   10/20 Batch 1/3 Cost: 3.878858\n",
      "Epoch   10/20 Batch 2/3 Cost: 2.407449\n",
      "Epoch   10/20 Batch 3/3 Cost: 1.307508\n",
      "Epoch   11/20 Batch 1/3 Cost: 0.525039\n",
      "Epoch   11/20 Batch 2/3 Cost: 3.246636\n",
      "Epoch   11/20 Batch 3/3 Cost: 6.301068\n",
      "Epoch   12/20 Batch 1/3 Cost: 2.086110\n",
      "Epoch   12/20 Batch 2/3 Cost: 5.823567\n",
      "Epoch   12/20 Batch 3/3 Cost: 1.727426\n",
      "Epoch   13/20 Batch 1/3 Cost: 6.054209\n",
      "Epoch   13/20 Batch 2/3 Cost: 2.857757\n",
      "Epoch   13/20 Batch 3/3 Cost: 0.760134\n",
      "Epoch   14/20 Batch 1/3 Cost: 2.902253\n",
      "Epoch   14/20 Batch 2/3 Cost: 1.032166\n",
      "Epoch   14/20 Batch 3/3 Cost: 7.874148\n",
      "Epoch   15/20 Batch 1/3 Cost: 2.798761\n",
      "Epoch   15/20 Batch 2/3 Cost: 4.991337\n",
      "Epoch   15/20 Batch 3/3 Cost: 1.542575\n",
      "Epoch   16/20 Batch 1/3 Cost: 0.266038\n",
      "Epoch   16/20 Batch 2/3 Cost: 4.456978\n",
      "Epoch   16/20 Batch 3/3 Cost: 4.323869\n",
      "Epoch   17/20 Batch 1/3 Cost: 2.189756\n",
      "Epoch   17/20 Batch 2/3 Cost: 3.175186\n",
      "Epoch   17/20 Batch 3/3 Cost: 2.324397\n",
      "Epoch   18/20 Batch 1/3 Cost: 0.825662\n",
      "Epoch   18/20 Batch 2/3 Cost: 4.079702\n",
      "Epoch   18/20 Batch 3/3 Cost: 3.791606\n",
      "Epoch   19/20 Batch 1/3 Cost: 3.337564\n",
      "Epoch   19/20 Batch 2/3 Cost: 4.869530\n",
      "Epoch   19/20 Batch 3/3 Cost: 3.504761\n",
      "Epoch   20/20 Batch 1/3 Cost: 1.282110\n",
      "Epoch   20/20 Batch 2/3 Cost: 2.713282\n",
      "Epoch   20/20 Batch 3/3 Cost: 5.758506\n"
     ]
    }
   ],
   "source": [
    "nb_epochs = 20\n",
    "for epoch in range(nb_epochs + 1):\n",
    "    for batch_idx, samples in enumerate(dataloader):\n",
    "        x_train, y_train = samples\n",
    "        prediction = model(x_train)\n",
    "\n",
    "        cost = F.mse_loss(prediction, y_train)\n",
    "        optimizer.zero_grad()\n",
    "        cost.backward()\n",
    "        optimizer.step()\n",
    "\n",
    "        print('Epoch {:4d}/{} Batch {}/{} Cost: {:.6f}'.format(\n",
    "            epoch, nb_epochs, batch_idx+1, len(dataloader),\n",
    "            cost.item()\n",
    "        ))"
   ]
  },
  {
   "cell_type": "code",
   "execution_count": 7,
   "metadata": {},
   "outputs": [
    {
     "name": "stdout",
     "output_type": "stream",
     "text": [
      "훈련 후 입력이 73, 80, 75일 때의 예측값 : tensor([[153.9099]], grad_fn=<AddmmBackward0>)\n"
     ]
    }
   ],
   "source": [
    "# 임의의 입력 [73, 80, 75]를 선언\n",
    "new_var =  torch.FloatTensor([[73, 80, 75]]) \n",
    "# 입력한 값 [73, 80, 75]에 대해서 예측값 y를 리턴받아서 pred_y에 저장\n",
    "pred_y = model(new_var) \n",
    "print(\"훈련 후 입력이 73, 80, 75일 때의 예측값 :\", pred_y) "
   ]
  },
  {
   "cell_type": "code",
   "execution_count": null,
   "metadata": {},
   "outputs": [],
   "source": []
  }
 ],
 "metadata": {
  "interpreter": {
   "hash": "89f8b5fff75b2d8ca621f0b371f1d64751a06b7789195e8887ef7855e4487b82"
  },
  "kernelspec": {
   "display_name": "Python 3.9.7 64-bit",
   "language": "python",
   "name": "python3"
  },
  "language_info": {
   "codemirror_mode": {
    "name": "ipython",
    "version": 3
   },
   "file_extension": ".py",
   "mimetype": "text/x-python",
   "name": "python",
   "nbconvert_exporter": "python",
   "pygments_lexer": "ipython3",
   "version": "3.9.7"
  },
  "orig_nbformat": 4
 },
 "nbformat": 4,
 "nbformat_minor": 2
}
