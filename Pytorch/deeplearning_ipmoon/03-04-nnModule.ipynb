{
 "cells": [
  {
   "cell_type": "code",
   "execution_count": 1,
   "metadata": {},
   "outputs": [],
   "source": [
    "# # 선형 회귀 모델 in torch\n",
    "\n",
    "# import torch.nn as nn\n",
    "# model = nn.Linear(input_dim, output_dim)\n",
    "\n",
    "# # MSE Loss 함수\n",
    "\n",
    "# import torch.nn.functional as F\n",
    "# cost = F.mse_loss(hypothesis, y_train)\n",
    "\n",
    "# 위처럼 모델과 함수가 미리 정의되어 있고, 이걸 불러올 수 있다."
   ]
  },
  {
   "cell_type": "code",
   "execution_count": 2,
   "metadata": {},
   "outputs": [
    {
     "data": {
      "text/plain": [
       "<torch._C.Generator at 0x25d48eed890>"
      ]
     },
     "execution_count": 2,
     "metadata": {},
     "output_type": "execute_result"
    }
   ],
   "source": [
    "import torch\n",
    "import torch.nn as nn\n",
    "import torch.nn.functional as F\n",
    "torch.manual_seed(1)"
   ]
  },
  {
   "cell_type": "code",
   "execution_count": 6,
   "metadata": {},
   "outputs": [
    {
     "name": "stdout",
     "output_type": "stream",
     "text": [
      "Ep 0/2000 | hypo tensor([ 0.2755,  0.0816, -0.1122]) | cost 18.562185\n",
      "Ep 100/2000 | hypo tensor([2.5292, 4.1135, 5.6979]) | cost 0.128051\n",
      "Ep 200/2000 | hypo tensor([2.4160, 4.0893, 5.7626]) | cost 0.079128\n",
      "Ep 300/2000 | hypo tensor([2.3270, 4.0702, 5.8133]) | cost 0.048896\n",
      "Ep 400/2000 | hypo tensor([2.2570, 4.0552, 5.8533]) | cost 0.030215\n",
      "Ep 500/2000 | hypo tensor([2.2021, 4.0434, 5.8847]) | cost 0.018671\n",
      "Ep 600/2000 | hypo tensor([2.1588, 4.0341, 5.9093]) | cost 0.011538\n",
      "Ep 700/2000 | hypo tensor([2.1249, 4.0268, 5.9287]) | cost 0.007129\n",
      "Ep 800/2000 | hypo tensor([2.0982, 4.0211, 5.9440]) | cost 0.004406\n",
      "Ep 900/2000 | hypo tensor([2.0772, 4.0166, 5.9560]) | cost 0.002722\n",
      "Ep 1000/2000 | hypo tensor([2.0607, 4.0130, 5.9654]) | cost 0.001682\n",
      "Ep 1100/2000 | hypo tensor([2.0477, 4.0102, 5.9728]) | cost 0.001040\n",
      "Ep 1200/2000 | hypo tensor([2.0375, 4.0080, 5.9786]) | cost 0.000642\n",
      "Ep 1300/2000 | hypo tensor([2.0295, 4.0063, 5.9832]) | cost 0.000397\n",
      "Ep 1400/2000 | hypo tensor([2.0232, 4.0050, 5.9868]) | cost 0.000245\n",
      "Ep 1500/2000 | hypo tensor([2.0182, 4.0039, 5.9896]) | cost 0.000152\n",
      "Ep 1600/2000 | hypo tensor([2.0143, 4.0031, 5.9918]) | cost 0.000094\n",
      "Ep 1700/2000 | hypo tensor([2.0113, 4.0024, 5.9936]) | cost 0.000058\n",
      "Ep 1800/2000 | hypo tensor([2.0088, 4.0019, 5.9950]) | cost 0.000036\n",
      "Ep 1900/2000 | hypo tensor([2.0070, 4.0015, 5.9960]) | cost 0.000022\n",
      "Ep 2000/2000 | hypo tensor([2.0055, 4.0012, 5.9969]) | cost 0.000014\n"
     ]
    }
   ],
   "source": [
    "x_train = torch.FloatTensor([[1], [2], [3]])\n",
    "y_train = torch.FloatTensor([[2], [4], [6]])\n",
    "\n",
    "model = nn.Linear(1, 1) # x_train.shape = (3, 1), y_train.shape = (3, 1). input var개수 1, output var 개수 1\n",
    "\n",
    "optimizer = torch.optim.SGD(model.parameters(), lr=0.01)\n",
    "\n",
    "nb_epochs = 2000\n",
    "for epoch in range(nb_epochs+1):\n",
    "    hypothesis = model(x_train)\n",
    "    cost = F.mse_loss(hypothesis, y_train)\n",
    "\n",
    "    optimizer.zero_grad()\n",
    "    cost.backward()\n",
    "    optimizer.step()\n",
    "\n",
    "    if epoch%100==0:\n",
    "        print(f\"Ep {epoch}/{nb_epochs} | hypo {hypothesis.squeeze().detach()} | cost {cost.item():.6f}\")"
   ]
  },
  {
   "cell_type": "code",
   "execution_count": 8,
   "metadata": {},
   "outputs": [
    {
     "data": {
      "text/plain": [
       "tensor([[7.9926]], grad_fn=<AddmmBackward0>)"
      ]
     },
     "execution_count": 8,
     "metadata": {},
     "output_type": "execute_result"
    }
   ],
   "source": [
    "new_var = torch.FloatTensor([[4]])\n",
    "pred_y = model(new_var)\n",
    "pred_y"
   ]
  },
  {
   "cell_type": "code",
   "execution_count": null,
   "metadata": {},
   "outputs": [],
   "source": []
  }
 ],
 "metadata": {
  "interpreter": {
   "hash": "89f8b5fff75b2d8ca621f0b371f1d64751a06b7789195e8887ef7855e4487b82"
  },
  "kernelspec": {
   "display_name": "Python 3.9.7 64-bit",
   "language": "python",
   "name": "python3"
  },
  "language_info": {
   "codemirror_mode": {
    "name": "ipython",
    "version": 3
   },
   "file_extension": ".py",
   "mimetype": "text/x-python",
   "name": "python",
   "nbconvert_exporter": "python",
   "pygments_lexer": "ipython3",
   "version": "3.9.7"
  },
  "orig_nbformat": 4
 },
 "nbformat": 4,
 "nbformat_minor": 2
}
